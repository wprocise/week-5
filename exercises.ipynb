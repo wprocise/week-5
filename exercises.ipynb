{
 "cells": [
  {
   "cell_type": "markdown",
   "id": "e3aad6c5",
   "metadata": {},
   "source": [
    "<font color='darkorange'> Unless otherwise noted, **this notebook will not be reviewed or autograded.**</font> You are welcome to use it for scratchwork, but **only the files listed in the exercises will be checked.**\n",
    "\n",
    "---\n",
    "\n",
    "# Exercises\n",
    "\n",
    "For these exercises, add your functions to the *apputil\\.py* file and *app\\.py* file as instructed. *These exercises use the same [Titanic dataset](https://www.kaggle.com/competitions/titanic/data) as the lab.*\n",
    "\n",
    "\n",
    "## Exercise 1: Survival Patterns\n"
   ]
  },
  {
   "cell_type": "markdown",
   "id": "5833bb5f",
   "metadata": {},
   "source": [
    "For this exercise you will analyze survival patterns on the Titanic by looking at passenger class, sex, and age group. Name the function `survival_demographics()`.\n",
    "\n",
    "1. Create a new column in the Titanic dataset that classifies passengers into age categories (i.e., a pandas `category` series). The categories should be:\n",
    "    - Child (up to 12)\n",
    "    - Teen (13–19)\n",
    "    - Adult (20–59)\n",
    "    - Senior (60+)  \n",
    "  \n",
    "\tHint: The `pd.cut()` function might come in handy here.\n",
    "\n",
    "2. Group the passengers by class, sex, and age group.  \n",
    "\n",
    "3. For each group, calculate:  \n",
    "    - The total number of passengers, `n_passengers`\n",
    "    - The number of survivors, `n_survivors`\n",
    "    - The survival rate, `survival_rate`\n",
    "\n",
    "4. Return a table that includes the results for *all* combinations of class, sex, and age group.  \n",
    "\n",
    "5. Order the results so they are easy to interpret.  \n",
    "\n",
    "6. Come up with a clear question that your results table makes you curious about (e.g., “Did women in first class have a higher survival rate than men in other classes?”). Write this question in your `app.py` file above the call to your visualization function, using `st.write(\"Your Question Here\")`.\n",
    "   \n",
    "7. Create a Plotly visualization in a function named `visualize_demographic()` that directly addresses your question by returning a Plotly figure (e.g., `fig = px. ...`). You are free to choose the chart type that you think best communicates the findings. Be creative — try different approaches, compare them, and ensure that your chart clearly answers the question you posed.\n"
   ]
  },
  {
   "cell_type": "code",
   "execution_count": 22,
   "id": "bc0a1f5a",
   "metadata": {},
   "outputs": [],
   "source": [
    "import plotly.express as px\n",
    "import pandas as pd\n",
    "import matplotlib.pyplot as plt\n",
    "import numpy as np"
   ]
  },
  {
   "cell_type": "code",
   "execution_count": 23,
   "id": "409556ec",
   "metadata": {},
   "outputs": [],
   "source": [
    "# Loading Titanic dataset\n",
    "df = pd.read_csv('https://raw.githubusercontent.com/leontoddjohnson/datasets/main/data/titanic.csv')\n"
   ]
  },
  {
   "cell_type": "code",
   "execution_count": 36,
   "id": "68b34743",
   "metadata": {},
   "outputs": [
    {
     "name": "stdout",
     "output_type": "stream",
     "text": [
      "    Pclass     Sex Age_group  n_passengers  n_survivors  survival_rate\n",
      "0        1  female     Child             1            0       0.000000\n",
      "1        1  female      Teen            13           13       1.000000\n",
      "2        1  female     Adult            68           66       0.970588\n",
      "3        1  female    Senior             3            3       1.000000\n",
      "4        1    male     Child             3            3       1.000000\n",
      "5        1    male      Teen             4            1       0.250000\n",
      "6        1    male     Adult            80           34       0.425000\n",
      "7        1    male    Senior            14            2       0.142857\n",
      "8        2  female     Child             8            8       1.000000\n",
      "9        2  female      Teen             8            8       1.000000\n",
      "10       2  female     Adult            58           52       0.896552\n",
      "11       2  female    Senior             0            0            NaN\n",
      "12       2    male     Child             9            9       1.000000\n",
      "13       2    male      Teen            10            1       0.100000\n",
      "14       2    male     Adult            76            4       0.052632\n",
      "15       2    male    Senior             4            1       0.250000\n",
      "16       3  female     Child            23           11       0.478261\n",
      "17       3  female      Teen            22           13       0.590909\n",
      "18       3  female     Adult            56           22       0.392857\n",
      "19       3  female    Senior             1            1       1.000000\n",
      "20       3    male     Child            25            9       0.360000\n",
      "21       3    male      Teen            38            3       0.078947\n",
      "22       3    male     Adult           186           26       0.139785\n",
      "23       3    male    Senior             4            0       0.000000\n"
     ]
    },
    {
     "name": "stderr",
     "output_type": "stream",
     "text": [
      "/var/folders/zy/zhqnxw4n3gx553hrq1vzrmz00000gn/T/ipykernel_6656/3019143467.py:15: FutureWarning:\n",
      "\n",
      "The default of observed=False is deprecated and will be changed to True in a future version of pandas. Pass observed=False to retain current behavior or observed=True to adopt the future default and silence this warning.\n",
      "\n"
     ]
    }
   ],
   "source": [
    "# 1) Create a new column in the Titanic dataset that classifies passengers into age categories: 'Child' (0-12), 'Teen' (13-19), 'Adult' (20-59), and 'Senior' (60+)\n",
    "\"\"\"\n",
    "    Defining age categories using pd.cut\n",
    "    Using pd.cut to cut the 'age column into bins and creating a new column 'age_group' by adding labels to the bins\n",
    "\n",
    "    age bins = [0, 12, 19, 59, np.inf]\n",
    "    labels = ['Child', 'Teen', 'Adult', 'Senior']\n",
    "    \"\"\"\n",
    "df['Age_group'] = pd.cut(df['Age'], bins=[0, 12, 19, 59, np.inf], labels=['Child', 'Teen', 'Adult', 'Senior'])\n",
    "\n",
    "# 2) Group the passengers by class, sex, and age group\n",
    "\"\"\"\n",
    "    Use groupby to group the passengers\n",
    "\"\"\"\n",
    "grouped = df.groupby(['Pclass', 'Sex', 'Age_group'])\n",
    "\n",
    "# 3) For each group, calculate the total number of passengers, survivors, and the survival rate\n",
    "\"\"\"\n",
    "    Using agg to aggregate the grouped data\n",
    "    Calculating total passengers(n_passengers), survivors(n_survivors), and survival rate(survival_rate)\n",
    "\"\"\"\n",
    "summary = grouped.agg(\n",
    "    n_passengers=('Survived', 'count'),\n",
    "    n_survivors=('Survived', 'sum')\n",
    ").reset_index()\n",
    "summary['survival_rate'] = summary['n_survivors'] / summary['n_passengers']\n",
    "\n",
    "# 4) Return a table that includes the results for all combinations of class, sex, and age group\n",
    "\"\"\"\n",
    "    Displaying the summary table\n",
    "\"\"\"\n",
    "print(summary)\n"
   ]
  },
  {
   "cell_type": "code",
   "execution_count": 47,
   "id": "6a11d44f",
   "metadata": {},
   "outputs": [
    {
     "name": "stdout",
     "output_type": "stream",
     "text": [
      "    Pclass     Sex Age_group  n_passengers  n_survivors  survival_rate\n",
      "0        1  female     Child             1            0       0.000000\n",
      "1        1    male     Child             3            3       1.000000\n",
      "2        1  female    Senior             3            3       1.000000\n",
      "3        1    male      Teen             4            1       0.250000\n",
      "4        1  female      Teen            13           13       1.000000\n",
      "5        1    male     Adult            80           34       0.425000\n",
      "6        1  female     Adult            68           66       0.970588\n",
      "7        1    male    Senior            14            2       0.142857\n",
      "8        2    male     Child             9            9       1.000000\n",
      "9        2    male      Teen            10            1       0.100000\n",
      "10       2    male    Senior             4            1       0.250000\n",
      "11       2    male     Adult            76            4       0.052632\n",
      "12       2  female     Adult            58           52       0.896552\n",
      "13       2  female      Teen             8            8       1.000000\n",
      "14       2  female    Senior             0            0            NaN\n",
      "15       2  female     Child             8            8       1.000000\n",
      "16       3  female     Adult            56           22       0.392857\n",
      "17       3    male      Teen            38            3       0.078947\n",
      "18       3  female      Teen            22           13       0.590909\n",
      "19       3  female    Senior             1            1       1.000000\n",
      "20       3    male     Child            25            9       0.360000\n",
      "21       3  female     Child            23           11       0.478261\n",
      "22       3    male     Adult           186           26       0.139785\n",
      "23       3    male    Senior             4            0       0.000000\n"
     ]
    }
   ],
   "source": [
    "summary = summary.sort_values(by=['Pclass']).reset_index(drop=True)\n",
    "print(summary)"
   ]
  },
  {
   "cell_type": "code",
   "execution_count": 46,
   "id": "f875d622",
   "metadata": {},
   "outputs": [
    {
     "name": "stdout",
     "output_type": "stream",
     "text": [
      "    Pclass     Sex Age_group  n_passengers  n_survivors  survival_rate\n",
      "0        1  female     Child             1            0       0.000000\n",
      "1        2  female     Child             8            8       1.000000\n",
      "2        1  female    Senior             3            3       1.000000\n",
      "3        3  female     Child            23           11       0.478261\n",
      "4        3  female    Senior             1            1       1.000000\n",
      "5        2  female    Senior             0            0            NaN\n",
      "6        1  female      Teen            13           13       1.000000\n",
      "7        2  female      Teen             8            8       1.000000\n",
      "8        3  female      Teen            22           13       0.590909\n",
      "9        1  female     Adult            68           66       0.970588\n",
      "10       3  female     Adult            56           22       0.392857\n",
      "11       2  female     Adult            58           52       0.896552\n",
      "12       1    male    Senior            14            2       0.142857\n",
      "13       2    male     Adult            76            4       0.052632\n",
      "14       3    male      Teen            38            3       0.078947\n",
      "15       1    male     Adult            80           34       0.425000\n",
      "16       2    male    Senior             4            1       0.250000\n",
      "17       2    male      Teen            10            1       0.100000\n",
      "18       1    male      Teen             4            1       0.250000\n",
      "19       3    male     Child            25            9       0.360000\n",
      "20       2    male     Child             9            9       1.000000\n",
      "21       1    male     Child             3            3       1.000000\n",
      "22       3    male     Adult           186           26       0.139785\n",
      "23       3    male    Senior             4            0       0.000000\n"
     ]
    }
   ],
   "source": [
    "summary = summary.sort_values(by=['Sex']).reset_index(drop=True)\n",
    "print(summary)"
   ]
  },
  {
   "cell_type": "code",
   "execution_count": 45,
   "id": "ecd3d596",
   "metadata": {},
   "outputs": [
    {
     "name": "stdout",
     "output_type": "stream",
     "text": [
      "    Pclass     Sex Age_group  n_passengers  n_survivors  survival_rate\n",
      "0        1  female     Child             1            0       0.000000\n",
      "1        2  female     Child             8            8       1.000000\n",
      "2        1    male     Child             3            3       1.000000\n",
      "3        3  female     Child            23           11       0.478261\n",
      "4        2    male     Child             9            9       1.000000\n",
      "5        3    male     Child            25            9       0.360000\n",
      "6        1  female      Teen            13           13       1.000000\n",
      "7        2  female      Teen             8            8       1.000000\n",
      "8        3  female      Teen            22           13       0.590909\n",
      "9        1    male      Teen             4            1       0.250000\n",
      "10       2    male      Teen            10            1       0.100000\n",
      "11       3    male      Teen            38            3       0.078947\n",
      "12       1    male     Adult            80           34       0.425000\n",
      "13       3    male     Adult           186           26       0.139785\n",
      "14       2  female     Adult            58           52       0.896552\n",
      "15       2    male     Adult            76            4       0.052632\n",
      "16       3  female     Adult            56           22       0.392857\n",
      "17       1  female     Adult            68           66       0.970588\n",
      "18       1    male    Senior            14            2       0.142857\n",
      "19       2  female    Senior             0            0            NaN\n",
      "20       3  female    Senior             1            1       1.000000\n",
      "21       1  female    Senior             3            3       1.000000\n",
      "22       2    male    Senior             4            1       0.250000\n",
      "23       3    male    Senior             4            0       0.000000\n"
     ]
    }
   ],
   "source": [
    "# 5) Order the results so they are easy to interpret\n",
    "summary = summary.sort_values(by=['Age_group']).reset_index(drop=True)\n",
    "print(summary)"
   ]
  },
  {
   "cell_type": "code",
   "execution_count": 31,
   "id": "e6df6883",
   "metadata": {},
   "outputs": [
    {
     "data": {
      "text/plain": [
       "<Axes: xlabel='Age_group', ylabel='survival_rate'>"
      ]
     },
     "execution_count": 31,
     "metadata": {},
     "output_type": "execute_result"
    },
    {
     "data": {
      "image/png": "[encoded data removed]",
      "text/plain": [
       "<Figure size 1200x600 with 1 Axes>"
      ]
     },
     "metadata": {},
     "output_type": "display_data"
    }
   ],
   "source": [
    "plt.figure(figsize=(12, 6))\n",
    "sns.barplot(data=summary, x='Age_group', y='survival_rate')"
   ]
  },
  {
   "cell_type": "markdown",
   "id": "3e8a0793",
   "metadata": {},
   "source": [
    "## Exercise 2: Family Size and Wealth"
   ]
  },
  {
   "cell_type": "markdown",
   "id": "93bea550",
   "metadata": {},
   "source": [
    "Using the Titanic dataset, write a function named `family_groups()` to explore the relationship between family size, passenger class, and ticket fare.  \n",
    "\n",
    "1. Create a new column in the Titanic dataset that represents the total family size for each passenger, `family_size`. Family size is defined as the number of siblings/spouses aboard plus the number of parents/children aboard, plus the passenger themselves.\n",
    "\n",
    "2. Group the passengers by family size and passenger class. For each group, calculate:  \n",
    "   - The total number of passengers, `n_passengers`\n",
    "   - The average ticket fare, `avg_fare`\n",
    "   - The minimum and maximum ticket fares (to capture variation in wealth), `min_fare` and `max_fare`\n",
    "\n",
    "3. Return a table with these results, sorted so that the values are clear and easy to interpret (for example, by class and then family size).\n",
    "\n",
    "4. Write a function called `last_names()` that extracts the last name of each passenger from the `Name` column, and returns the count for each last name (i.e., a pandas series with last name as index, and count as value). Does this result agree with that of the data table above? Share your findings in your app using `st.write`.\n",
    "\n",
    "5. Just like you did in Exercise 1, come up with a clear question that your results makes you curious about. Write this question in your app.py file above the call to your visualization function. Then, create a Plotly visualization in a function named `visualize_families()` that directly addresses your question. As in Exercise 1 you are free to choose the chart type that you think best communicates the findings."
   ]
  },
  {
   "cell_type": "markdown",
   "id": "fd60f1c3",
   "metadata": {},
   "source": [
    "## Bonus Question\n",
    "\n",
    "Add a new column, `older_passenger`, to the Titanic dataset that indicates whether each passenger’s age is above the median age for *their* passenger class. So, suppose row $x$ is in passenger class 2. Then, a value of `True` at row $x$ would indicate that passenger older than 50% of class 2 passengers, and `False` would indicate that they younger.\n",
    "\n",
    "- You should use pandas functions to accomplish this.\n",
    "- The new column should contain Boolean values (True if the age is above the median, False if less than or equal to).\n",
    "- Return the updated table in the function `determine_age_division()`\n",
    "\n",
    "Once you’ve created this column, consider how this age division relates to your analysis above. Try to visualize this analysis in Plotly using the function name `visualize_age_division()`."
   ]
  },
  {
   "cell_type": "markdown",
   "id": "496069f5",
   "metadata": {},
   "source": []
  }
 ],
 "metadata": {
  "kernelspec": {
   "display_name": "week-5",
   "language": "python",
   "name": "python3"
  },
  "language_info": {
   "codemirror_mode": {
    "name": "ipython",
    "version": 3
   },
   "file_extension": ".py",
   "mimetype": "text/x-python",
   "name": "python",
   "nbconvert_exporter": "python",
   "pygments_lexer": "ipython3",
   "version": "3.11.13"
  }
 },
 "nbformat": 4,
 "nbformat_minor": 5
}
