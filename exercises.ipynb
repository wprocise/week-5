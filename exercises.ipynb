{
 "cells": [
  {
   "cell_type": "markdown",
   "id": "e3aad6c5",
   "metadata": {},
   "source": [
    "<font color='darkorange'> Unless otherwise noted, **this notebook will not be reviewed or autograded.**</font> You are welcome to use it for scratchwork, but **only the files listed in the exercises will be checked.**\n",
    "\n",
    "---\n",
    "\n",
    "# Exercises\n",
    "\n",
    "For these exercises, add your functions to the *apputil\\.py* file and *app\\.py* file as instructed. *These exercises use the same [Titanic dataset](https://www.kaggle.com/competitions/titanic/data) as the lab.*\n",
    "\n",
    "\n",
    "## Exercise 1: Survival Patterns\n"
   ]
  },
  {
   "cell_type": "markdown",
   "id": "5833bb5f",
   "metadata": {},
   "source": [
    "For this exercise you will analyze survival patterns on the Titanic by looking at passenger class, sex, and age group. Name the function `survival_demographics()`.\n",
    "\n",
    "1. Create a new column in the Titanic dataset that classifies passengers into age categories (i.e., a pandas `category` series). The categories should be:\n",
    "    - Child (up to 12)\n",
    "    - Teen (13–19)\n",
    "    - Adult (20–59)\n",
    "    - Senior (60+)  \n",
    "  \n",
    "\tHint: The `pd.cut()` function might come in handy here.\n",
    "\n",
    "2. Group the passengers by class, sex, and age group.  \n",
    "\n",
    "3. For each group, calculate:  \n",
    "    - The total number of passengers, `n_passengers`\n",
    "    - The number of survivors, `n_survivors`\n",
    "    - The survival rate, `survival_rate`\n",
    "\n",
    "4. Return a table that includes the results for *all* combinations of class, sex, and age group.  \n",
    "\n",
    "5. Order the results so they are easy to interpret.  \n",
    "\n",
    "6. Come up with a clear question that your results table makes you curious about (e.g., “Did women in first class have a higher survival rate than men in other classes?”). Write this question in your `app.py` file above the call to your visualization function, using `st.write(\"Your Question Here\")`.\n",
    "   \n",
    "7. Create a Plotly visualization in a function named `visualize_demographic()` that directly addresses your question by returning a Plotly figure (e.g., `fig = px. ...`). You are free to choose the chart type that you think best communicates the findings. Be creative — try different approaches, compare them, and ensure that your chart clearly answers the question you posed.\n"
   ]
  },
  {
   "cell_type": "code",
   "execution_count": 50,
   "id": "bc0a1f5a",
   "metadata": {},
   "outputs": [],
   "source": [
    "import plotly.express as px\n",
    "import pandas as pd\n",
    "import matplotlib.pyplot as plt\n",
    "import numpy as np\n",
    "import streamlit as st"
   ]
  },
  {
   "cell_type": "code",
   "execution_count": 23,
   "id": "409556ec",
   "metadata": {},
   "outputs": [],
   "source": [
    "# Loading Titanic dataset\n",
    "df = pd.read_csv('https://raw.githubusercontent.com/leontoddjohnson/datasets/main/data/titanic.csv')\n"
   ]
  },
  {
   "cell_type": "code",
   "execution_count": 62,
   "id": "68b34743",
   "metadata": {},
   "outputs": [
    {
     "name": "stdout",
     "output_type": "stream",
     "text": [
      "    Pclass     Sex Age_group  n_passengers  n_survivors  survival_rate\n",
      "0        1  female     Child             1            0       0.000000\n",
      "1        1  female      Teen            13           13       1.000000\n",
      "2        1  female     Adult            68           66       0.970588\n",
      "3        1  female    Senior             3            3       1.000000\n",
      "4        1    male     Child             3            3       1.000000\n",
      "5        1    male      Teen             4            1       0.250000\n",
      "6        1    male     Adult            80           34       0.425000\n",
      "7        1    male    Senior            14            2       0.142857\n",
      "8        2  female     Child             8            8       1.000000\n",
      "9        2  female      Teen             8            8       1.000000\n",
      "10       2  female     Adult            58           52       0.896552\n",
      "11       2  female    Senior             0            0            NaN\n",
      "12       2    male     Child             9            9       1.000000\n",
      "13       2    male      Teen            10            1       0.100000\n",
      "14       2    male     Adult            76            4       0.052632\n",
      "15       2    male    Senior             4            1       0.250000\n",
      "16       3  female     Child            23           11       0.478261\n",
      "17       3  female      Teen            22           13       0.590909\n",
      "18       3  female     Adult            56           22       0.392857\n",
      "19       3  female    Senior             1            1       1.000000\n",
      "20       3    male     Child            25            9       0.360000\n",
      "21       3    male      Teen            38            3       0.078947\n",
      "22       3    male     Adult           186           26       0.139785\n",
      "23       3    male    Senior             4            0       0.000000\n"
     ]
    },
    {
     "name": "stderr",
     "output_type": "stream",
     "text": [
      "/var/folders/zy/zhqnxw4n3gx553hrq1vzrmz00000gn/T/ipykernel_6656/1804985514.py:16: FutureWarning:\n",
      "\n",
      "The default of observed=False is deprecated and will be changed to True in a future version of pandas. Pass observed=False to retain current behavior or observed=True to adopt the future default and silence this warning.\n",
      "\n"
     ]
    }
   ],
   "source": [
    "def survival_demographics(df):\n",
    "    # 1) Create a new column in the Titanic dataset that classifies passengers into age categories: 'Child' (0-12), 'Teen' (13-19), 'Adult' (20-59), and 'Senior' (60+)\n",
    "    \"\"\"\n",
    "        Defining age categories using pd.cut\n",
    "        Using pd.cut to cut the 'age column into bins and creating a new column 'age_group' by adding labels to the bins\n",
    "\n",
    "        age bins = [0, 12, 19, 59, np.inf]\n",
    "        labels = ['Child', 'Teen', 'Adult', 'Senior']\n",
    "    \"\"\"\n",
    "    df['Age_group'] = pd.cut(df['Age'], bins=[0, 12, 19, 59, np.inf], labels=['Child', 'Teen', 'Adult', 'Senior'])\n",
    "\n",
    "    # 2) Group the passengers by class, sex, and age group\n",
    "    \"\"\"\n",
    "        Use groupby to group the passengers\n",
    "    \"\"\"\n",
    "    grouped = df.groupby(['Pclass', 'Sex', 'Age_group'])\n",
    "\n",
    "    # 3) For each group, calculate the total number of passengers, survivors, and the survival rate\n",
    "    \"\"\"\n",
    "        Using agg to aggregate the grouped data\n",
    "        Calculating total passengers(n_passengers), survivors(n_survivors), and survival rate(survival_rate)\n",
    "    \"\"\"\n",
    "    summary = grouped.agg(\n",
    "        n_passengers=('Survived', 'count'),\n",
    "        n_survivors=('Survived', 'sum')\n",
    "    ).reset_index()\n",
    "    summary['survival_rate'] = summary['n_survivors'] / summary['n_passengers']\n",
    "\n",
    "    # 4) Return a table that includes the results for all combinations of class, sex, and age group\n",
    "    return summary\n",
    "\n",
    "\"\"\"\n",
    "    Displaying the summary table\n",
    "\"\"\"\n",
    "df_summary = survival_demographics(df.copy())\n",
    "print(df_summary)\n"
   ]
  },
  {
   "cell_type": "code",
   "execution_count": 66,
   "id": "6a11d44f",
   "metadata": {},
   "outputs": [
    {
     "name": "stdout",
     "output_type": "stream",
     "text": [
      "    Pclass     Sex Age_group  n_passengers  n_survivors  survival_rate\n",
      "0        1  female     Child             1            0       0.000000\n",
      "1        1  female      Teen            13           13       1.000000\n",
      "2        1  female     Adult            68           66       0.970588\n",
      "3        1  female    Senior             3            3       1.000000\n",
      "4        1    male     Child             3            3       1.000000\n",
      "5        1    male      Teen             4            1       0.250000\n",
      "6        1    male     Adult            80           34       0.425000\n",
      "7        1    male    Senior            14            2       0.142857\n",
      "8        2    male    Senior             4            1       0.250000\n",
      "9        2    male     Adult            76            4       0.052632\n",
      "10       2    male      Teen            10            1       0.100000\n",
      "11       2    male     Child             9            9       1.000000\n",
      "12       2  female    Senior             0            0            NaN\n",
      "13       2  female     Adult            58           52       0.896552\n",
      "14       2  female      Teen             8            8       1.000000\n",
      "15       2  female     Child             8            8       1.000000\n",
      "16       3  female     Child            23           11       0.478261\n",
      "17       3  female      Teen            22           13       0.590909\n",
      "18       3  female     Adult            56           22       0.392857\n",
      "19       3  female    Senior             1            1       1.000000\n",
      "20       3    male     Child            25            9       0.360000\n",
      "21       3    male      Teen            38            3       0.078947\n",
      "22       3    male     Adult           186           26       0.139785\n",
      "23       3    male    Senior             4            0       0.000000\n"
     ]
    }
   ],
   "source": [
    "# 5) Order the results so they are easy to interpret\n",
    "summary = df_summary.sort_values(by=['Pclass']).reset_index(drop=True)\n",
    "print(summary)"
   ]
  },
  {
   "cell_type": "code",
   "execution_count": 64,
   "id": "f875d622",
   "metadata": {},
   "outputs": [
    {
     "name": "stdout",
     "output_type": "stream",
     "text": [
      "    Pclass     Sex Age_group  n_passengers  n_survivors  survival_rate\n",
      "0        1  female     Child             1            0       0.000000\n",
      "1        3  female     Child            23           11       0.478261\n",
      "2        3  female    Senior             1            1       1.000000\n",
      "3        3  female      Teen            22           13       0.590909\n",
      "4        3  female     Adult            56           22       0.392857\n",
      "5        2  female      Teen             8            8       1.000000\n",
      "6        2  female    Senior             0            0            NaN\n",
      "7        2  female     Child             8            8       1.000000\n",
      "8        2  female     Adult            58           52       0.896552\n",
      "9        1  female     Adult            68           66       0.970588\n",
      "10       1  female      Teen            13           13       1.000000\n",
      "11       1  female    Senior             3            3       1.000000\n",
      "12       1    male     Adult            80           34       0.425000\n",
      "13       3    male     Adult           186           26       0.139785\n",
      "14       2    male     Adult            76            4       0.052632\n",
      "15       2    male    Senior             4            1       0.250000\n",
      "16       2    male      Teen            10            1       0.100000\n",
      "17       2    male     Child             9            9       1.000000\n",
      "18       3    male      Teen            38            3       0.078947\n",
      "19       1    male      Teen             4            1       0.250000\n",
      "20       3    male     Child            25            9       0.360000\n",
      "21       1    male     Child             3            3       1.000000\n",
      "22       1    male    Senior            14            2       0.142857\n",
      "23       3    male    Senior             4            0       0.000000\n"
     ]
    }
   ],
   "source": [
    "# 5) Order the results so they are easy to interpret\n",
    "summary = summary.sort_values(by=['Sex']).reset_index(drop=True)\n",
    "print(summary)"
   ]
  },
  {
   "cell_type": "code",
   "execution_count": 65,
   "id": "ecd3d596",
   "metadata": {},
   "outputs": [
    {
     "name": "stdout",
     "output_type": "stream",
     "text": [
      "    Pclass     Sex Age_group  n_passengers  n_survivors  survival_rate\n",
      "0        1  female     Child             1            0       0.000000\n",
      "1        2  female     Child             8            8       1.000000\n",
      "2        3    male     Child            25            9       0.360000\n",
      "3        2    male     Child             9            9       1.000000\n",
      "4        1    male     Child             3            3       1.000000\n",
      "5        3  female     Child            23           11       0.478261\n",
      "6        2  female      Teen             8            8       1.000000\n",
      "7        2    male      Teen            10            1       0.100000\n",
      "8        1  female      Teen            13           13       1.000000\n",
      "9        1    male      Teen             4            1       0.250000\n",
      "10       3    male      Teen            38            3       0.078947\n",
      "11       3  female      Teen            22           13       0.590909\n",
      "12       3  female     Adult            56           22       0.392857\n",
      "13       1  female     Adult            68           66       0.970588\n",
      "14       1    male     Adult            80           34       0.425000\n",
      "15       3    male     Adult           186           26       0.139785\n",
      "16       2    male     Adult            76            4       0.052632\n",
      "17       2  female     Adult            58           52       0.896552\n",
      "18       1  female    Senior             3            3       1.000000\n",
      "19       1    male    Senior            14            2       0.142857\n",
      "20       2  female    Senior             0            0            NaN\n",
      "21       3  female    Senior             1            1       1.000000\n",
      "22       2    male    Senior             4            1       0.250000\n",
      "23       3    male    Senior             4            0       0.000000\n"
     ]
    }
   ],
   "source": [
    "# 5) Order the results so they are easy to interpret\n",
    "summary = summary.sort_values(by=['Age_group']).reset_index(drop=True)\n",
    "print(summary)"
   ]
  },
  {
   "cell_type": "code",
   "execution_count": 67,
   "id": "06afae14",
   "metadata": {},
   "outputs": [
    {
     "name": "stderr",
     "output_type": "stream",
     "text": [
      "2025-09-30 21:14:40.137 Thread 'MainThread': missing ScriptRunContext! This warning can be ignored when running in bare mode.\n",
      "2025-09-30 21:14:40.138 Thread 'MainThread': missing ScriptRunContext! This warning can be ignored when running in bare mode.\n",
      "2025-09-30 21:14:40.138 Thread 'MainThread': missing ScriptRunContext! This warning can be ignored when running in bare mode.\n"
     ]
    },
    {
     "data": {
      "application/vnd.plotly.v1+json": {
       "config": {
        "plotlyServerURL": "https://plot.ly"
       },
       "data": [
        {
         "alignmentgroup": "True",
         "hovertemplate": "Sex=female<br>Age Group=%{x}<br>Survival Rate=%{y}<extra></extra>",
         "legendgroup": "female",
         "marker": {
          "color": "pink",
          "pattern": {
           "shape": ""
          }
         },
         "name": "female",
         "offsetgroup": "female",
         "orientation": "v",
         "showlegend": true,
         "textposition": "auto",
         "type": "bar",
         "x": [
          "Child",
          "Teen",
          "Adult",
          "Senior",
          "Senior",
          "Adult",
          "Teen",
          "Child",
          "Child",
          "Teen",
          "Adult",
          "Senior"
         ],
         "xaxis": "x",
         "y": {
          "bdata": "AAAAAAAAAAAAAAAAAADwPw8PDw8PD+8/AAAAAAAA8D8AAAAAAAD4f9QIyz2NsOw/AAAAAAAA8D8AAAAAAADwP+pNb3rTm94/6aKLLrro4j9JkiRJkiTZPwAAAAAAAPA/",
          "dtype": "f8"
         },
         "yaxis": "y"
        },
        {
         "alignmentgroup": "True",
         "hovertemplate": "Sex=male<br>Age Group=%{x}<br>Survival Rate=%{y}<extra></extra>",
         "legendgroup": "male",
         "marker": {
          "color": "blue",
          "pattern": {
           "shape": ""
          }
         },
         "name": "male",
         "offsetgroup": "male",
         "orientation": "v",
         "showlegend": true,
         "textposition": "auto",
         "type": "bar",
         "x": [
          "Child",
          "Teen",
          "Adult",
          "Senior",
          "Senior",
          "Adult",
          "Teen",
          "Child",
          "Child",
          "Teen",
          "Adult",
          "Senior"
         ],
         "xaxis": "x",
         "y": {
          "bdata": "AAAAAAAA8D8AAAAAAADQPzMzMzMzM9s/kiRJkiRJwj8AAAAAAADQPyivobyG8qo/mpmZmZmZuT8AAAAAAADwPwrXo3A9Ctc/XkN5DeU1tD/kkUceeeTBPwAAAAAAAAAA",
          "dtype": "f8"
         },
         "yaxis": "y"
        }
       ],
       "layout": {
        "barmode": "group",
        "legend": {
         "title": {
          "text": "Sex"
         },
         "tracegroupgap": 0
        },
        "template": {
         "data": {
          "candlestick": [
           {
            "decreasing": {
             "line": {
              "color": "#000033"
             }
            },
            "increasing": {
             "line": {
              "color": "#000032"
             }
            },
            "type": "candlestick"
           }
          ],
          "contour": [
           {
            "colorscale": [
             [
              0,
              "#000011"
             ],
             [
              0.1111111111111111,
              "#000012"
             ],
             [
              0.2222222222222222,
              "#000013"
             ],
             [
              0.3333333333333333,
              "#000014"
             ],
             [
              0.4444444444444444,
              "#000015"
             ],
             [
              0.5555555555555556,
              "#000016"
             ],
             [
              0.6666666666666666,
              "#000017"
             ],
             [
              0.7777777777777778,
              "#000018"
             ],
             [
              0.8888888888888888,
              "#000019"
             ],
             [
              1,
              "#000020"
             ]
            ],
            "type": "contour"
           }
          ],
          "contourcarpet": [
           {
            "colorscale": [
             [
              0,
              "#000011"
             ],
             [
              0.1111111111111111,
              "#000012"
             ],
             [
              0.2222222222222222,
              "#000013"
             ],
             [
              0.3333333333333333,
              "#000014"
             ],
             [
              0.4444444444444444,
              "#000015"
             ],
             [
              0.5555555555555556,
              "#000016"
             ],
             [
              0.6666666666666666,
              "#000017"
             ],
             [
              0.7777777777777778,
              "#000018"
             ],
             [
              0.8888888888888888,
              "#000019"
             ],
             [
              1,
              "#000020"
             ]
            ],
            "type": "contourcarpet"
           }
          ],
          "heatmap": [
           {
            "colorscale": [
             [
              0,
              "#000011"
             ],
             [
              0.1111111111111111,
              "#000012"
             ],
             [
              0.2222222222222222,
              "#000013"
             ],
             [
              0.3333333333333333,
              "#000014"
             ],
             [
              0.4444444444444444,
              "#000015"
             ],
             [
              0.5555555555555556,
              "#000016"
             ],
             [
              0.6666666666666666,
              "#000017"
             ],
             [
              0.7777777777777778,
              "#000018"
             ],
             [
              0.8888888888888888,
              "#000019"
             ],
             [
              1,
              "#000020"
             ]
            ],
            "type": "heatmap"
           }
          ],
          "histogram2d": [
           {
            "colorscale": [
             [
              0,
              "#000011"
             ],
             [
              0.1111111111111111,
              "#000012"
             ],
             [
              0.2222222222222222,
              "#000013"
             ],
             [
              0.3333333333333333,
              "#000014"
             ],
             [
              0.4444444444444444,
              "#000015"
             ],
             [
              0.5555555555555556,
              "#000016"
             ],
             [
              0.6666666666666666,
              "#000017"
             ],
             [
              0.7777777777777778,
              "#000018"
             ],
             [
              0.8888888888888888,
              "#000019"
             ],
             [
              1,
              "#000020"
             ]
            ],
            "type": "histogram2d"
           }
          ],
          "icicle": [
           {
            "textfont": {
             "color": "white"
            },
            "type": "icicle"
           }
          ],
          "sankey": [
           {
            "textfont": {
             "color": "#000036"
            },
            "type": "sankey"
           }
          ],
          "scatter": [
           {
            "marker": {
             "line": {
              "width": 0
             }
            },
            "type": "scatter"
           }
          ],
          "table": [
           {
            "cells": {
             "fill": {
              "color": "#000038"
             },
             "font": {
              "color": "#000037"
             },
             "line": {
              "color": "#000039"
             }
            },
            "header": {
             "fill": {
              "color": "#000040"
             },
             "font": {
              "color": "#000036"
             },
             "line": {
              "color": "#000039"
             }
            },
            "type": "table"
           }
          ],
          "waterfall": [
           {
            "connector": {
             "line": {
              "color": "#000036",
              "width": 2
             }
            },
            "decreasing": {
             "marker": {
              "color": "#000033"
             }
            },
            "increasing": {
             "marker": {
              "color": "#000032"
             }
            },
            "totals": {
             "marker": {
              "color": "#000034"
             }
            },
            "type": "waterfall"
           }
          ]
         },
         "layout": {
          "coloraxis": {
           "colorscale": [
            [
             0,
             "#000011"
            ],
            [
             0.1111111111111111,
             "#000012"
            ],
            [
             0.2222222222222222,
             "#000013"
            ],
            [
             0.3333333333333333,
             "#000014"
            ],
            [
             0.4444444444444444,
             "#000015"
            ],
            [
             0.5555555555555556,
             "#000016"
            ],
            [
             0.6666666666666666,
             "#000017"
            ],
            [
             0.7777777777777778,
             "#000018"
            ],
            [
             0.8888888888888888,
             "#000019"
            ],
            [
             1,
             "#000020"
            ]
           ]
          },
          "colorscale": {
           "diverging": [
            [
             0,
             "#000021"
            ],
            [
             0.1,
             "#000022"
            ],
            [
             0.2,
             "#000023"
            ],
            [
             0.3,
             "#000024"
            ],
            [
             0.4,
             "#000025"
            ],
            [
             0.5,
             "#000026"
            ],
            [
             0.6,
             "#000027"
            ],
            [
             0.7,
             "#000028"
            ],
            [
             0.8,
             "#000029"
            ],
            [
             0.9,
             "#000030"
            ],
            [
             1,
             "#000031"
            ]
           ],
           "sequential": [
            [
             0,
             "#000011"
            ],
            [
             0.1111111111111111,
             "#000012"
            ],
            [
             0.2222222222222222,
             "#000013"
            ],
            [
             0.3333333333333333,
             "#000014"
            ],
            [
             0.4444444444444444,
             "#000015"
            ],
            [
             0.5555555555555556,
             "#000016"
            ],
            [
             0.6666666666666666,
             "#000017"
            ],
            [
             0.7777777777777778,
             "#000018"
            ],
            [
             0.8888888888888888,
             "#000019"
            ],
            [
             1,
             "#000020"
            ]
           ],
           "sequentialminus": [
            [
             0,
             "#000011"
            ],
            [
             0.1111111111111111,
             "#000012"
            ],
            [
             0.2222222222222222,
             "#000013"
            ],
            [
             0.3333333333333333,
             "#000014"
            ],
            [
             0.4444444444444444,
             "#000015"
            ],
            [
             0.5555555555555556,
             "#000016"
            ],
            [
             0.6666666666666666,
             "#000017"
            ],
            [
             0.7777777777777778,
             "#000018"
            ],
            [
             0.8888888888888888,
             "#000019"
            ],
            [
             1,
             "#000020"
            ]
           ]
          },
          "colorway": [
           "#000001",
           "#000002",
           "#000003",
           "#000004",
           "#000005",
           "#000006",
           "#000007",
           "#000008",
           "#000009",
           "#000010"
          ]
         }
        },
        "title": {
         "text": "Survival Rate by Age Group and Sex on the Titanic"
        },
        "xaxis": {
         "anchor": "y",
         "domain": [
          0,
          1
         ],
         "title": {
          "text": "Age Group"
         }
        },
        "yaxis": {
         "anchor": "x",
         "domain": [
          0,
          1
         ],
         "title": {
          "text": "Survival Rate"
         }
        }
       }
      }
     },
     "metadata": {},
     "output_type": "display_data"
    }
   ],
   "source": [
    "# 6) Write a clear questions about the results from the table from the dataset\n",
    "st.write(\"How did survival rates vary among different age groups and their sex on the Titanic?\")\n",
    "\n",
    "# 7) Create a Plotly visualization that addresses the question\n",
    "def visualize_demographic():\n",
    "\tfig = px.bar(summary, x='Age_group', y='survival_rate',\n",
    "\t\t\t title='Survival Rate by Age Group and Sex on the Titanic',\n",
    "\t\t\t labels={'Age_group': 'Age Group', 'survival_rate': 'Survival Rate'},\n",
    "\t\t\t color='Sex',\n",
    "\t\t\t color_discrete_map={'male': 'blue', 'female': 'pink'},\n",
    "\t\t\t barmode='group')\n",
    "\treturn fig\n",
    "\n",
    "fig = visualize_demographic()\n",
    "fig.show()"
   ]
  },
  {
   "cell_type": "markdown",
   "id": "3e8a0793",
   "metadata": {},
   "source": [
    "## Exercise 2: Family Size and Wealth"
   ]
  },
  {
   "cell_type": "markdown",
   "id": "93bea550",
   "metadata": {},
   "source": [
    "Using the Titanic dataset, write a function named `family_groups()` to explore the relationship between family size, passenger class, and ticket fare.  \n",
    "\n",
    "1. Create a new column in the Titanic dataset that represents the total family size for each passenger, `family_size`. Family size is defined as the number of siblings/spouses aboard plus the number of parents/children aboard, plus the passenger themselves.\n",
    "\n",
    "2. Group the passengers by family size and passenger class. For each group, calculate:  \n",
    "   - The total number of passengers, `n_passengers`\n",
    "   - The average ticket fare, `avg_fare`\n",
    "   - The minimum and maximum ticket fares (to capture variation in wealth), `min_fare` and `max_fare`\n",
    "\n",
    "3. Return a table with these results, sorted so that the values are clear and easy to interpret (for example, by class and then family size).\n",
    "\n",
    "4. Write a function called `last_names()` that extracts the last name of each passenger from the `Name` column, and returns the count for each last name (i.e., a pandas series with last name as index, and count as value). Does this result agree with that of the data table above? Share your findings in your app using `st.write`.\n",
    "\n",
    "5. Just like you did in Exercise 1, come up with a clear question that your results makes you curious about. Write this question in your app.py file above the call to your visualization function. Then, create a Plotly visualization in a function named `visualize_families()` that directly addresses your question. As in Exercise 1 you are free to choose the chart type that you think best communicates the findings."
   ]
  },
  {
   "cell_type": "code",
   "execution_count": 72,
   "id": "795f4a1f",
   "metadata": {},
   "outputs": [
    {
     "name": "stdout",
     "output_type": "stream",
     "text": [
      "   Family_group  Pclass  n_passengers    avg_fare  min_fare  max_fare\n",
      "0          Solo       1           109   63.672514    0.0000  512.3292\n",
      "1          Solo       2           104   14.066106    0.0000   73.5000\n",
      "2          Solo       3           324    9.272052    0.0000   56.4958\n",
      "3  Small Family       1           101   95.647114   26.2833  512.3292\n",
      "4  Small Family       2            78   29.451496   11.5000   73.5000\n",
      "5  Small Family       3           113   15.177730    6.4958   24.1500\n",
      "6  Large Family       1             6  262.791667  262.3750  263.0000\n",
      "7  Large Family       2             2   20.875000   18.7500   23.0000\n",
      "8  Large Family       3            54   36.953089    7.9250   69.5500\n"
     ]
    },
    {
     "name": "stderr",
     "output_type": "stream",
     "text": [
      "/var/folders/zy/zhqnxw4n3gx553hrq1vzrmz00000gn/T/ipykernel_6656/800243349.py:18: FutureWarning:\n",
      "\n",
      "The default of observed=False is deprecated and will be changed to True in a future version of pandas. Pass observed=False to retain current behavior or observed=True to adopt the future default and silence this warning.\n",
      "\n"
     ]
    }
   ],
   "source": [
    "def family_groups(df):\n",
    "\n",
    "    # 1) Create a new column in the Titanic dataset that classifies passengers into family size categories: 'Solo' (1), 'Small Family' (2-4), and 'Large Family' (5+)\n",
    "    \"\"\"\n",
    "        Defining family size categories using pd.cut\n",
    "        Using pd.cut to cut the 'family_size' column into bins and creating a new column 'family_group' by adding labels to the bins\n",
    "\n",
    "        family size bins = [0, 1, 4, np.inf]\n",
    "        labels = ['Solo', 'Small Family', 'Large Family']\n",
    "    \"\"\"\n",
    "    df['Family_size'] = df['SibSp'] + df['Parch'] + 1  # Including the passenger themselves\n",
    "    df['Family_group'] = pd.cut(df['Family_size'], bins=[0, 1, 4, np.inf], labels=['Solo', 'Small Family', 'Large Family'])\n",
    "\n",
    "    # 2) Group the passengers by family size and passenger class\n",
    "    \"\"\"\n",
    "        Use groupby to group the passengers\n",
    "    \"\"\"\n",
    "    grouped = df.groupby(['Family_group', 'Pclass'])\n",
    "    \"\"\"\n",
    "        For each group, calculate the total number of passengers(n_passengers), average ticket fare(avg_fare),\n",
    "        and minimum and maximum ticket fares(min_fare, max_fare)\n",
    "    \"\"\"\n",
    "    summary = grouped.agg(\n",
    "        n_passengers=('PassengerId', 'count'),\n",
    "        avg_fare=('Fare', 'mean'),\n",
    "        min_fare=('Fare', 'min'),\n",
    "        max_fare=('Fare', 'max')\n",
    "    ).reset_index()\n",
    "    return summary\n",
    "df_family_summary = family_groups(df.copy())\n",
    "print(df_family_summary)\n",
    "\n",
    "    # 3) Return a table with the above results and sort the values so that they are easy to read and interpret\n",
    "def display_family_summary(df):\n",
    "    \"\"\"\n",
    "        Displaying a summary table with all combinations\n",
    "        Sort values by 'Pclass' and 'Family_group'\n",
    "    \"\"\"\n",
    "    df_summary = df_family_groups(df.copy())\n",
    "    print(df_summary)\n",
    "    summary = df_summary.sort_values(by=['Pclass', 'Family_group']).reset_index(drop=True)\n",
    "    print(summary)\n",
    "\n",
    "    \n",
    "\n"
   ]
  },
  {
   "cell_type": "code",
   "execution_count": 93,
   "id": "f0257355",
   "metadata": {},
   "outputs": [],
   "source": [
    "# 4) Write a function called `last_names()` that extracts the last name of each passenger from the `Name` column, and returns the count for each last name (i.e., a pandas series with last name as index, and count as value). Does this result agree with that of the data table above? Share your findings in your app using `st.write`.\n",
    "def last_names(df):\n",
    "    \"\"\"\n",
    "        Extracting last names from the 'Name' column\n",
    "        Using str.split to split the 'Name' column and extract the last name\n",
    "        Using value_counts to count the occurrences of each last name\n",
    "    \"\"\"\n",
    "    df['Last_Name'] = df['Name'].str.split(',').str[0]\n",
    "    last_name_counts = df['Last_Name'].value_counts()\n",
    "    return last_name_counts"
   ]
  },
  {
   "cell_type": "code",
   "execution_count": null,
   "id": "299a83fc",
   "metadata": {},
   "outputs": [
    {
     "name": "stderr",
     "output_type": "stream",
     "text": [
      "2025-09-30 22:24:06.041 Thread 'MainThread': missing ScriptRunContext! This warning can be ignored when running in bare mode.\n",
      "2025-09-30 22:24:06.042 Thread 'MainThread': missing ScriptRunContext! This warning can be ignored when running in bare mode.\n",
      "2025-09-30 22:24:06.043 Thread 'MainThread': missing ScriptRunContext! This warning can be ignored when running in bare mode.\n"
     ]
    },
    {
     "data": {
      "application/vnd.plotly.v1+json": {
       "config": {
        "plotlyServerURL": "https://plot.ly"
       },
       "data": [
        {
         "hovertemplate": "Last Name=%{x}<br>Count=%{marker.color}<extra></extra>",
         "legendgroup": "",
         "marker": {
          "color": {
           "bdata": "CQcGBgYGBgUEBA==",
           "dtype": "i1"
          },
          "coloraxis": "coloraxis",
          "pattern": {
           "shape": ""
          }
         },
         "name": "",
         "orientation": "v",
         "showlegend": false,
         "textposition": "auto",
         "type": "bar",
         "x": [
          "Andersson",
          "Sage",
          "Panula",
          "Skoog",
          "Carter",
          "Goodwin",
          "Johnson",
          "Rice",
          "Lefebre",
          "Asplund"
         ],
         "xaxis": "x",
         "y": {
          "bdata": "CQcGBgYGBgUEBA==",
          "dtype": "i1"
         },
         "yaxis": "y"
        }
       ],
       "layout": {
        "barmode": "relative",
        "coloraxis": {
         "colorbar": {
          "title": {
           "text": "Count"
          }
         },
         "colorscale": [
          [
           0,
           "rgb(229, 134, 6)"
          ],
          [
           0.1,
           "rgb(93, 105, 177)"
          ],
          [
           0.2,
           "rgb(82, 188, 163)"
          ],
          [
           0.3,
           "rgb(153, 201, 69)"
          ],
          [
           0.4,
           "rgb(204, 97, 176)"
          ],
          [
           0.5,
           "rgb(36, 121, 108)"
          ],
          [
           0.6,
           "rgb(218, 165, 27)"
          ],
          [
           0.7,
           "rgb(47, 138, 196)"
          ],
          [
           0.8,
           "rgb(118, 78, 159)"
          ],
          [
           0.9,
           "rgb(237, 100, 90)"
          ],
          [
           1,
           "rgb(165, 170, 153)"
          ]
         ]
        },
        "legend": {
         "tracegroupgap": 0
        },
        "template": {
         "data": {
          "candlestick": [
           {
            "decreasing": {
             "line": {
              "color": "#000033"
             }
            },
            "increasing": {
             "line": {
              "color": "#000032"
             }
            },
            "type": "candlestick"
           }
          ],
          "contour": [
           {
            "colorscale": [
             [
              0,
              "#000011"
             ],
             [
              0.1111111111111111,
              "#000012"
             ],
             [
              0.2222222222222222,
              "#000013"
             ],
             [
              0.3333333333333333,
              "#000014"
             ],
             [
              0.4444444444444444,
              "#000015"
             ],
             [
              0.5555555555555556,
              "#000016"
             ],
             [
              0.6666666666666666,
              "#000017"
             ],
             [
              0.7777777777777778,
              "#000018"
             ],
             [
              0.8888888888888888,
              "#000019"
             ],
             [
              1,
              "#000020"
             ]
            ],
            "type": "contour"
           }
          ],
          "contourcarpet": [
           {
            "colorscale": [
             [
              0,
              "#000011"
             ],
             [
              0.1111111111111111,
              "#000012"
             ],
             [
              0.2222222222222222,
              "#000013"
             ],
             [
              0.3333333333333333,
              "#000014"
             ],
             [
              0.4444444444444444,
              "#000015"
             ],
             [
              0.5555555555555556,
              "#000016"
             ],
             [
              0.6666666666666666,
              "#000017"
             ],
             [
              0.7777777777777778,
              "#000018"
             ],
             [
              0.8888888888888888,
              "#000019"
             ],
             [
              1,
              "#000020"
             ]
            ],
            "type": "contourcarpet"
           }
          ],
          "heatmap": [
           {
            "colorscale": [
             [
              0,
              "#000011"
             ],
             [
              0.1111111111111111,
              "#000012"
             ],
             [
              0.2222222222222222,
              "#000013"
             ],
             [
              0.3333333333333333,
              "#000014"
             ],
             [
              0.4444444444444444,
              "#000015"
             ],
             [
              0.5555555555555556,
              "#000016"
             ],
             [
              0.6666666666666666,
              "#000017"
             ],
             [
              0.7777777777777778,
              "#000018"
             ],
             [
              0.8888888888888888,
              "#000019"
             ],
             [
              1,
              "#000020"
             ]
            ],
            "type": "heatmap"
           }
          ],
          "histogram2d": [
           {
            "colorscale": [
             [
              0,
              "#000011"
             ],
             [
              0.1111111111111111,
              "#000012"
             ],
             [
              0.2222222222222222,
              "#000013"
             ],
             [
              0.3333333333333333,
              "#000014"
             ],
             [
              0.4444444444444444,
              "#000015"
             ],
             [
              0.5555555555555556,
              "#000016"
             ],
             [
              0.6666666666666666,
              "#000017"
             ],
             [
              0.7777777777777778,
              "#000018"
             ],
             [
              0.8888888888888888,
              "#000019"
             ],
             [
              1,
              "#000020"
             ]
            ],
            "type": "histogram2d"
           }
          ],
          "icicle": [
           {
            "textfont": {
             "color": "white"
            },
            "type": "icicle"
           }
          ],
          "sankey": [
           {
            "textfont": {
             "color": "#000036"
            },
            "type": "sankey"
           }
          ],
          "scatter": [
           {
            "marker": {
             "line": {
              "width": 0
             }
            },
            "type": "scatter"
           }
          ],
          "table": [
           {
            "cells": {
             "fill": {
              "color": "#000038"
             },
             "font": {
              "color": "#000037"
             },
             "line": {
              "color": "#000039"
             }
            },
            "header": {
             "fill": {
              "color": "#000040"
             },
             "font": {
              "color": "#000036"
             },
             "line": {
              "color": "#000039"
             }
            },
            "type": "table"
           }
          ],
          "waterfall": [
           {
            "connector": {
             "line": {
              "color": "#000036",
              "width": 2
             }
            },
            "decreasing": {
             "marker": {
              "color": "#000033"
             }
            },
            "increasing": {
             "marker": {
              "color": "#000032"
             }
            },
            "totals": {
             "marker": {
              "color": "#000034"
             }
            },
            "type": "waterfall"
           }
          ]
         },
         "layout": {
          "coloraxis": {
           "colorscale": [
            [
             0,
             "#000011"
            ],
            [
             0.1111111111111111,
             "#000012"
            ],
            [
             0.2222222222222222,
             "#000013"
            ],
            [
             0.3333333333333333,
             "#000014"
            ],
            [
             0.4444444444444444,
             "#000015"
            ],
            [
             0.5555555555555556,
             "#000016"
            ],
            [
             0.6666666666666666,
             "#000017"
            ],
            [
             0.7777777777777778,
             "#000018"
            ],
            [
             0.8888888888888888,
             "#000019"
            ],
            [
             1,
             "#000020"
            ]
           ]
          },
          "colorscale": {
           "diverging": [
            [
             0,
             "#000021"
            ],
            [
             0.1,
             "#000022"
            ],
            [
             0.2,
             "#000023"
            ],
            [
             0.3,
             "#000024"
            ],
            [
             0.4,
             "#000025"
            ],
            [
             0.5,
             "#000026"
            ],
            [
             0.6,
             "#000027"
            ],
            [
             0.7,
             "#000028"
            ],
            [
             0.8,
             "#000029"
            ],
            [
             0.9,
             "#000030"
            ],
            [
             1,
             "#000031"
            ]
           ],
           "sequential": [
            [
             0,
             "#000011"
            ],
            [
             0.1111111111111111,
             "#000012"
            ],
            [
             0.2222222222222222,
             "#000013"
            ],
            [
             0.3333333333333333,
             "#000014"
            ],
            [
             0.4444444444444444,
             "#000015"
            ],
            [
             0.5555555555555556,
             "#000016"
            ],
            [
             0.6666666666666666,
             "#000017"
            ],
            [
             0.7777777777777778,
             "#000018"
            ],
            [
             0.8888888888888888,
             "#000019"
            ],
            [
             1,
             "#000020"
            ]
           ],
           "sequentialminus": [
            [
             0,
             "#000011"
            ],
            [
             0.1111111111111111,
             "#000012"
            ],
            [
             0.2222222222222222,
             "#000013"
            ],
            [
             0.3333333333333333,
             "#000014"
            ],
            [
             0.4444444444444444,
             "#000015"
            ],
            [
             0.5555555555555556,
             "#000016"
            ],
            [
             0.6666666666666666,
             "#000017"
            ],
            [
             0.7777777777777778,
             "#000018"
            ],
            [
             0.8888888888888888,
             "#000019"
            ],
            [
             1,
             "#000020"
            ]
           ]
          },
          "colorway": [
           "#000001",
           "#000002",
           "#000003",
           "#000004",
           "#000005",
           "#000006",
           "#000007",
           "#000008",
           "#000009",
           "#000010"
          ]
         }
        },
        "title": {
         "text": "Most Common Last Names Among Titanic Families"
        },
        "xaxis": {
         "anchor": "y",
         "domain": [
          0,
          1
         ],
         "title": {
          "text": "Last Name"
         }
        },
        "yaxis": {
         "anchor": "x",
         "domain": [
          0,
          1
         ],
         "title": {
          "text": "Count"
         }
        }
       }
      }
     },
     "metadata": {},
     "output_type": "display_data"
    }
   ],
   "source": [
    "# 5) Create visualization that answers the question:\n",
    "st.write(\"What are the most common last names among Titanic families, and how many families share each last name?\")\n",
    "\"\"\"\n",
    "    Creating a function called 'visualize_families()' that creates a bar chart showing the most common last names among Titanic families and how many families share each last name\n",
    "    The bar chart displays the count of each last name on the x-axis and the last names on the y-axis\n",
    "    The chart is sorted in descending order to highlight the most common last names\n",
    "\"\"\"\n",
    "\n",
    "def visualize_families(df):\n",
    "    last_name_counts = last_names(df.copy())\n",
    "    last_name_counts.name = 'count'\n",
    "    last_name_counts = last_name_counts.reset_index()\n",
    "    last_name_counts = last_name_counts.rename(columns={'index': 'Last_Name'})\n",
    "    fig2 = px.bar(last_name_counts.head(10), x='Last_Name', y='count',\n",
    "                 title='Most Common Last Names Among Titanic Families',\n",
    "                 labels={'Last_Name': 'Last Name', 'count': 'Count'},\n",
    "                 color='count',\n",
    "                 color_continuous_scale=px.colors.qualitative.Vivid)\n",
    "    return fig2\n",
    "fig2 = visualize_families(df)\n",
    "fig2.show()"
   ]
  },
  {
   "cell_type": "markdown",
   "id": "fd60f1c3",
   "metadata": {},
   "source": [
    "## Bonus Question\n",
    "\n",
    "Add a new column, `older_passenger`, to the Titanic dataset that indicates whether each passenger’s age is above the median age for *their* passenger class. So, suppose row $x$ is in passenger class 2. Then, a value of `True` at row $x$ would indicate that passenger older than 50% of class 2 passengers, and `False` would indicate that they younger.\n",
    "\n",
    "- You should use pandas functions to accomplish this.\n",
    "- The new column should contain Boolean values (True if the age is above the median, False if less than or equal to).\n",
    "- Return the updated table in the function `determine_age_division()`\n",
    "\n",
    "Once you’ve created this column, consider how this age division relates to your analysis above. Try to visualize this analysis in Plotly using the function name `visualize_age_division()`."
   ]
  },
  {
   "cell_type": "markdown",
   "id": "496069f5",
   "metadata": {},
   "source": []
  }
 ],
 "metadata": {
  "kernelspec": {
   "display_name": "week-5",
   "language": "python",
   "name": "python3"
  },
  "language_info": {
   "codemirror_mode": {
    "name": "ipython",
    "version": 3
   },
   "file_extension": ".py",
   "mimetype": "text/x-python",
   "name": "python",
   "nbconvert_exporter": "python",
   "pygments_lexer": "ipython3",
   "version": "3.11.13"
  }
 },
 "nbformat": 4,
 "nbformat_minor": 5
}
