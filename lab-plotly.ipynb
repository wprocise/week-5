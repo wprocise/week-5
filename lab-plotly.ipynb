{
 "cells": [
  {
   "cell_type": "markdown",
   "id": "f3e77d23",
   "metadata": {},
   "source": [
    "# Announcements\n",
    "\n",
    "- Codespaces and settings sync (avoid for now)\n",
    "- Issues with last week's assignment?\n",
    "- Gradescope and Autograder ... login issues?"
   ]
  },
  {
   "cell_type": "markdown",
   "id": "0154af6f-ac7f-4d6e-ba33-3b9fb24fad39",
   "metadata": {},
   "source": [
    "# Interactive Visualization with Plotly"
   ]
  },
  {
   "cell_type": "markdown",
   "id": "22e7c867-6aed-4f51-89ed-914258be3122",
   "metadata": {},
   "source": [
    "There are a number of interactive visualizaiton tools built for Python, and there are more being developed even today. That said, [Plotly](https://plotly.com/python/) is easily one of the most mature, widely adopted, and well-documented tools for this purpose. Along with its [Dash](https://plot.ly) enterprise solution, it is also one of the most robust and flexible tools out there.\n",
    "\n",
    "We will not go into depth on all that Plotly has to offer, but we'll at least showcase a few graphs to get you acquainted with their [Plotly Express](https://plotly.com/python/plotly-express/) module. We'll use [data from the titanic disaster](https://www.kaggle.com/competitions/titanic/data)."
   ]
  },
  {
   "cell_type": "code",
   "execution_count": 1,
   "id": "a8c1e687-0dcd-4d7a-84fe-b0756d0fa8e0",
   "metadata": {
    "tags": []
   },
   "outputs": [],
   "source": [
    "import plotly.express as px\n",
    "import pandas as pd\n",
    "\n",
    "# only uncomment below if the plot outputs are blank\n",
    "# import plotly.io as pio\n",
    "# pio.renderers.default = 'iframe'"
   ]
  },
  {
   "cell_type": "code",
   "execution_count": 3,
   "id": "103f2afc-3037-4cbb-8e47-8187bdc146f3",
   "metadata": {
    "tags": []
   },
   "outputs": [],
   "source": [
    "# Loading Titanic dataset\n",
    "df = pd.read_csv('https://raw.githubusercontent.com/leontoddjohnson/datasets/main/data/titanic.csv')"
   ]
  },
  {
   "cell_type": "code",
   "execution_count": 4,
   "id": "2cc15772-2c52-4156-9911-49ece4907a25",
   "metadata": {
    "tags": []
   },
   "outputs": [
    {
     "data": {
      "application/vnd.microsoft.datawrangler.viewer.v0+json": {
       "columns": [
        {
         "name": "index",
         "rawType": "int64",
         "type": "integer"
        },
        {
         "name": "PassengerId",
         "rawType": "int64",
         "type": "integer"
        },
        {
         "name": "Survived",
         "rawType": "int64",
         "type": "integer"
        },
        {
         "name": "Pclass",
         "rawType": "int64",
         "type": "integer"
        },
        {
         "name": "Name",
         "rawType": "object",
         "type": "string"
        },
        {
         "name": "Sex",
         "rawType": "object",
         "type": "string"
        },
        {
         "name": "Age",
         "rawType": "float64",
         "type": "float"
        },
        {
         "name": "SibSp",
         "rawType": "int64",
         "type": "integer"
        },
        {
         "name": "Parch",
         "rawType": "int64",
         "type": "integer"
        },
        {
         "name": "Ticket",
         "rawType": "object",
         "type": "string"
        },
        {
         "name": "Fare",
         "rawType": "float64",
         "type": "float"
        },
        {
         "name": "Cabin",
         "rawType": "object",
         "type": "unknown"
        },
        {
         "name": "Embarked",
         "rawType": "object",
         "type": "string"
        }
       ],
       "ref": "e4b8cfe3-3531-4aad-8a28-1ee0f68b8a4e",
       "rows": [
        [
         "0",
         "1",
         "0",
         "3",
         "Braund, Mr. Owen Harris",
         "male",
         "22.0",
         "1",
         "0",
         "A/5 21171",
         "7.25",
         null,
         "S"
        ],
        [
         "1",
         "2",
         "1",
         "1",
         "Cumings, Mrs. John Bradley (Florence Briggs Thayer)",
         "female",
         "38.0",
         "1",
         "0",
         "PC 17599",
         "71.2833",
         "C85",
         "C"
        ],
        [
         "2",
         "3",
         "1",
         "3",
         "Heikkinen, Miss. Laina",
         "female",
         "26.0",
         "0",
         "0",
         "STON/O2. 3101282",
         "7.925",
         null,
         "S"
        ],
        [
         "3",
         "4",
         "1",
         "1",
         "Futrelle, Mrs. Jacques Heath (Lily May Peel)",
         "female",
         "35.0",
         "1",
         "0",
         "113803",
         "53.1",
         "C123",
         "S"
        ],
        [
         "4",
         "5",
         "0",
         "3",
         "Allen, Mr. William Henry",
         "male",
         "35.0",
         "0",
         "0",
         "373450",
         "8.05",
         null,
         "S"
        ]
       ],
       "shape": {
        "columns": 12,
        "rows": 5
       }
      },
      "text/html": [
       "<div>\n",
       "<style scoped>\n",
       "    .dataframe tbody tr th:only-of-type {\n",
       "        vertical-align: middle;\n",
       "    }\n",
       "\n",
       "    .dataframe tbody tr th {\n",
       "        vertical-align: top;\n",
       "    }\n",
       "\n",
       "    .dataframe thead th {\n",
       "        text-align: right;\n",
       "    }\n",
       "</style>\n",
       "<table border=\"1\" class=\"dataframe\">\n",
       "  <thead>\n",
       "    <tr style=\"text-align: right;\">\n",
       "      <th></th>\n",
       "      <th>PassengerId</th>\n",
       "      <th>Survived</th>\n",
       "      <th>Pclass</th>\n",
       "      <th>Name</th>\n",
       "      <th>Sex</th>\n",
       "      <th>Age</th>\n",
       "      <th>SibSp</th>\n",
       "      <th>Parch</th>\n",
       "      <th>Ticket</th>\n",
       "      <th>Fare</th>\n",
       "      <th>Cabin</th>\n",
       "      <th>Embarked</th>\n",
       "    </tr>\n",
       "  </thead>\n",
       "  <tbody>\n",
       "    <tr>\n",
       "      <th>0</th>\n",
       "      <td>1</td>\n",
       "      <td>0</td>\n",
       "      <td>3</td>\n",
       "      <td>Braund, Mr. Owen Harris</td>\n",
       "      <td>male</td>\n",
       "      <td>22.0</td>\n",
       "      <td>1</td>\n",
       "      <td>0</td>\n",
       "      <td>A/5 21171</td>\n",
       "      <td>7.2500</td>\n",
       "      <td>NaN</td>\n",
       "      <td>S</td>\n",
       "    </tr>\n",
       "    <tr>\n",
       "      <th>1</th>\n",
       "      <td>2</td>\n",
       "      <td>1</td>\n",
       "      <td>1</td>\n",
       "      <td>Cumings, Mrs. John Bradley (Florence Briggs Th...</td>\n",
       "      <td>female</td>\n",
       "      <td>38.0</td>\n",
       "      <td>1</td>\n",
       "      <td>0</td>\n",
       "      <td>PC 17599</td>\n",
       "      <td>71.2833</td>\n",
       "      <td>C85</td>\n",
       "      <td>C</td>\n",
       "    </tr>\n",
       "    <tr>\n",
       "      <th>2</th>\n",
       "      <td>3</td>\n",
       "      <td>1</td>\n",
       "      <td>3</td>\n",
       "      <td>Heikkinen, Miss. Laina</td>\n",
       "      <td>female</td>\n",
       "      <td>26.0</td>\n",
       "      <td>0</td>\n",
       "      <td>0</td>\n",
       "      <td>STON/O2. 3101282</td>\n",
       "      <td>7.9250</td>\n",
       "      <td>NaN</td>\n",
       "      <td>S</td>\n",
       "    </tr>\n",
       "    <tr>\n",
       "      <th>3</th>\n",
       "      <td>4</td>\n",
       "      <td>1</td>\n",
       "      <td>1</td>\n",
       "      <td>Futrelle, Mrs. Jacques Heath (Lily May Peel)</td>\n",
       "      <td>female</td>\n",
       "      <td>35.0</td>\n",
       "      <td>1</td>\n",
       "      <td>0</td>\n",
       "      <td>113803</td>\n",
       "      <td>53.1000</td>\n",
       "      <td>C123</td>\n",
       "      <td>S</td>\n",
       "    </tr>\n",
       "    <tr>\n",
       "      <th>4</th>\n",
       "      <td>5</td>\n",
       "      <td>0</td>\n",
       "      <td>3</td>\n",
       "      <td>Allen, Mr. William Henry</td>\n",
       "      <td>male</td>\n",
       "      <td>35.0</td>\n",
       "      <td>0</td>\n",
       "      <td>0</td>\n",
       "      <td>373450</td>\n",
       "      <td>8.0500</td>\n",
       "      <td>NaN</td>\n",
       "      <td>S</td>\n",
       "    </tr>\n",
       "  </tbody>\n",
       "</table>\n",
       "</div>"
      ],
      "text/plain": [
       "   PassengerId  Survived  Pclass  \\\n",
       "0            1         0       3   \n",
       "1            2         1       1   \n",
       "2            3         1       3   \n",
       "3            4         1       1   \n",
       "4            5         0       3   \n",
       "\n",
       "                                                Name     Sex   Age  SibSp  \\\n",
       "0                            Braund, Mr. Owen Harris    male  22.0      1   \n",
       "1  Cumings, Mrs. John Bradley (Florence Briggs Th...  female  38.0      1   \n",
       "2                             Heikkinen, Miss. Laina  female  26.0      0   \n",
       "3       Futrelle, Mrs. Jacques Heath (Lily May Peel)  female  35.0      1   \n",
       "4                           Allen, Mr. William Henry    male  35.0      0   \n",
       "\n",
       "   Parch            Ticket     Fare Cabin Embarked  \n",
       "0      0         A/5 21171   7.2500   NaN        S  \n",
       "1      0          PC 17599  71.2833   C85        C  \n",
       "2      0  STON/O2. 3101282   7.9250   NaN        S  \n",
       "3      0            113803  53.1000  C123        S  \n",
       "4      0            373450   8.0500   NaN        S  "
      ]
     },
     "execution_count": 4,
     "metadata": {},
     "output_type": "execute_result"
    }
   ],
   "source": [
    "df.head()"
   ]
  },
  {
   "cell_type": "markdown",
   "id": "f1606511-9659-4be0-9f14-5c2aa98d70c0",
   "metadata": {},
   "source": [
    "## Scatter Plots"
   ]
  },
  {
   "cell_type": "code",
   "execution_count": 5,
   "id": "8c2fc706-999b-4254-bdc0-c101abe6c0ac",
   "metadata": {
    "tags": []
   },
   "outputs": [
    {
     "data": {
      "application/vnd.plotly.v1+json": {
       "config": {
        "plotlyServerURL": "https://plot.ly"
       },
       "data": [
        {
         "customdata": [
          [
           "Braund, Mr. Owen Harris",
           "male"
          ],
          [
           "Cumings, Mrs. John Bradley (Florence Briggs Thayer)",
           "female"
          ],
          [
           "Heikkinen, Miss. Laina",
           "female"
          ],
          [
           "Futrelle, Mrs. Jacques Heath (Lily May Peel)",
           "female"
          ],
          [
           "Allen, Mr. William Henry",
           "male"
          ],
          [
           "Moran, Mr. James",
           "male"
          ],
          [
           "McCarthy, Mr. Timothy J",
           "male"
          ],
          [
           "Palsson, Master. Gosta Leonard",
           "male"
          ],
          [
           "Johnson, Mrs. Oscar W (Elisabeth Vilhelmina Berg)",
           "female"
          ],
          [
           "Nasser, Mrs. Nicholas (Adele Achem)",
           "female"
          ],
          [
           "Sandstrom, Miss. Marguerite Rut",
           "female"
          ],
          [
           "Bonnell, Miss. Elizabeth",
           "female"
          ],
          [
           "Saundercock, Mr. William Henry",
           "male"
          ],
          [
           "Andersson, Mr. Anders Johan",
           "male"
          ],
          [
           "Vestrom, Miss. Hulda Amanda Adolfina",
           "female"
          ],
          [
           "Hewlett, Mrs. (Mary D Kingcome) ",
           "female"
          ],
          [
           "Rice, Master. Eugene",
           "male"
          ],
          [
           "Williams, Mr. Charles Eugene",
           "male"
          ],
          [
           "Vander Planke, Mrs. Julius (Emelia Maria Vandemoortele)",
           "female"
          ],
          [
           "Masselmani, Mrs. Fatima",
           "female"
          ],
          [
           "Fynney, Mr. Joseph J",
           "male"
          ],
          [
           "Beesley, Mr. Lawrence",
           "male"
          ],
          [
           "McGowan, Miss. Anna \"Annie\"",
           "female"
          ],
          [
           "Sloper, Mr. William Thompson",
           "male"
          ],
          [
           "Palsson, Miss. Torborg Danira",
           "female"
          ],
          [
           "Asplund, Mrs. Carl Oscar (Selma Augusta Emilia Johansson)",
           "female"
          ],
          [
           "Emir, Mr. Farred Chehab",
           "male"
          ],
          [
           "Fortune, Mr. Charles Alexander",
           "male"
          ],
          [
           "O'Dwyer, Miss. Ellen \"Nellie\"",
           "female"
          ],
          [
           "Todoroff, Mr. Lalio",
           "male"
          ],
          [
           "Uruchurtu, Don. Manuel E",
           "male"
          ],
          [
           "Spencer, Mrs. William Augustus (Marie Eugenie)",
           "female"
          ],
          [
           "Glynn, Miss. Mary Agatha",
           "female"
          ],
          [
           "Wheadon, Mr. Edward H",
           "male"
          ],
          [
           "Meyer, Mr. Edgar Joseph",
           "male"
          ],
          [
           "Holverson, Mr. Alexander Oskar",
           "male"
          ],
          [
           "Mamee, Mr. Hanna",
           "male"
          ],
          [
           "Cann, Mr. Ernest Charles",
           "male"
          ],
          [
           "Vander Planke, Miss. Augusta Maria",
           "female"
          ],
          [
           "Nicola-Yarred, Miss. Jamila",
           "female"
          ],
          [
           "Ahlin, Mrs. Johan (Johanna Persdotter Larsson)",
           "female"
          ],
          [
           "Turpin, Mrs. William John Robert (Dorothy Ann Wonnacott)",
           "female"
          ],
          [
           "Kraeff, Mr. Theodor",
           "male"
          ],
          [
           "Laroche, Miss. Simonne Marie Anne Andree",
           "female"
          ],
          [
           "Devaney, Miss. Margaret Delia",
           "female"
          ],
          [
           "Rogers, Mr. William John",
           "male"
          ],
          [
           "Lennon, Mr. Denis",
           "male"
          ],
          [
           "O'Driscoll, Miss. Bridget",
           "female"
          ],
          [
           "Samaan, Mr. Youssef",
           "male"
          ],
          [
           "Arnold-Franchi, Mrs. Josef (Josefine Franchi)",
           "female"
          ],
          [
           "Panula, Master. Juha Niilo",
           "male"
          ],
          [
           "Nosworthy, Mr. Richard Cater",
           "male"
          ],
          [
           "Harper, Mrs. Henry Sleeper (Myna Haxtun)",
           "female"
          ],
          [
           "Faunthorpe, Mrs. Lizzie (Elizabeth Anne Wilkinson)",
           "female"
          ],
          [
           "Ostby, Mr. Engelhart Cornelius",
           "male"
          ],
          [
           "Woolner, Mr. Hugh",
           "male"
          ],
          [
           "Rugg, Miss. Emily",
           "female"
          ],
          [
           "Novel, Mr. Mansouer",
           "male"
          ],
          [
           "West, Miss. Constance Mirium",
           "female"
          ],
          [
           "Goodwin, Master. William Frederick",
           "male"
          ],
          [
           "Sirayanian, Mr. Orsen",
           "male"
          ],
          [
           "Icard, Miss. Amelie",
           "female"
          ],
          [
           "Harris, Mr. Henry Birkhardt",
           "male"
          ],
          [
           "Skoog, Master. Harald",
           "male"
          ],
          [
           "Stewart, Mr. Albert A",
           "male"
          ],
          [
           "Moubarek, Master. Gerios",
           "male"
          ],
          [
           "Nye, Mrs. (Elizabeth Ramell)",
           "female"
          ],
          [
           "Crease, Mr. Ernest James",
           "male"
          ],
          [
           "Andersson, Miss. Erna Alexandra",
           "female"
          ],
          [
           "Kink, Mr. Vincenz",
           "male"
          ],
          [
           "Jenkin, Mr. Stephen Curnow",
           "male"
          ],
          [
           "Goodwin, Miss. Lillian Amy",
           "female"
          ],
          [
           "Hood, Mr. Ambrose Jr",
           "male"
          ],
          [
           "Chronopoulos, Mr. Apostolos",
           "male"
          ],
          [
           "Bing, Mr. Lee",
           "male"
          ],
          [
           "Moen, Mr. Sigurd Hansen",
           "male"
          ],
          [
           "Staneff, Mr. Ivan",
           "male"
          ],
          [
           "Moutal, Mr. Rahamin Haim",
           "male"
          ],
          [
           "Caldwell, Master. Alden Gates",
           "male"
          ],
          [
           "Dowdell, Miss. Elizabeth",
           "female"
          ],
          [
           "Waelens, Mr. Achille",
           "male"
          ],
          [
           "Sheerlinck, Mr. Jan Baptist",
           "male"
          ],
          [
           "McDermott, Miss. Brigdet Delia",
           "female"
          ],
          [
           "Carrau, Mr. Francisco M",
           "male"
          ],
          [
           "Ilett, Miss. Bertha",
           "female"
          ],
          [
           "Backstrom, Mrs. Karl Alfred (Maria Mathilda Gustafsson)",
           "female"
          ],
          [
           "Ford, Mr. William Neal",
           "male"
          ],
          [
           "Slocovski, Mr. Selman Francis",
           "male"
          ],
          [
           "Fortune, Miss. Mabel Helen",
           "female"
          ],
          [
           "Celotti, Mr. Francesco",
           "male"
          ],
          [
           "Christmann, Mr. Emil",
           "male"
          ],
          [
           "Andreasson, Mr. Paul Edvin",
           "male"
          ],
          [
           "Chaffee, Mr. Herbert Fuller",
           "male"
          ],
          [
           "Dean, Mr. Bertram Frank",
           "male"
          ],
          [
           "Coxon, Mr. Daniel",
           "male"
          ],
          [
           "Shorney, Mr. Charles Joseph",
           "male"
          ],
          [
           "Goldschmidt, Mr. George B",
           "male"
          ],
          [
           "Greenfield, Mr. William Bertram",
           "male"
          ],
          [
           "Doling, Mrs. John T (Ada Julia Bone)",
           "female"
          ],
          [
           "Kantor, Mr. Sinai",
           "male"
          ],
          [
           "Petranec, Miss. Matilda",
           "female"
          ],
          [
           "Petroff, Mr. Pastcho (\"Pentcho\")",
           "male"
          ],
          [
           "White, Mr. Richard Frasar",
           "male"
          ],
          [
           "Johansson, Mr. Gustaf Joel",
           "male"
          ],
          [
           "Gustafsson, Mr. Anders Vilhelm",
           "male"
          ],
          [
           "Mionoff, Mr. Stoytcho",
           "male"
          ],
          [
           "Salkjelsvik, Miss. Anna Kristine",
           "female"
          ],
          [
           "Moss, Mr. Albert Johan",
           "male"
          ],
          [
           "Rekic, Mr. Tido",
           "male"
          ],
          [
           "Moran, Miss. Bertha",
           "female"
          ],
          [
           "Porter, Mr. Walter Chamberlain",
           "male"
          ],
          [
           "Zabour, Miss. Hileni",
           "female"
          ],
          [
           "Barton, Mr. David John",
           "male"
          ],
          [
           "Jussila, Miss. Katriina",
           "female"
          ],
          [
           "Attalah, Miss. Malake",
           "female"
          ],
          [
           "Pekoniemi, Mr. Edvard",
           "male"
          ],
          [
           "Connors, Mr. Patrick",
           "male"
          ],
          [
           "Turpin, Mr. William John Robert",
           "male"
          ],
          [
           "Baxter, Mr. Quigg Edmond",
           "male"
          ],
          [
           "Andersson, Miss. Ellis Anna Maria",
           "female"
          ],
          [
           "Hickman, Mr. Stanley George",
           "male"
          ],
          [
           "Moore, Mr. Leonard Charles",
           "male"
          ],
          [
           "Nasser, Mr. Nicholas",
           "male"
          ],
          [
           "Webber, Miss. Susan",
           "female"
          ],
          [
           "White, Mr. Percival Wayland",
           "male"
          ],
          [
           "Nicola-Yarred, Master. Elias",
           "male"
          ],
          [
           "McMahon, Mr. Martin",
           "male"
          ],
          [
           "Madsen, Mr. Fridtjof Arne",
           "male"
          ],
          [
           "Peter, Miss. Anna",
           "female"
          ],
          [
           "Ekstrom, Mr. Johan",
           "male"
          ],
          [
           "Drazenoic, Mr. Jozef",
           "male"
          ],
          [
           "Coelho, Mr. Domingos Fernandeo",
           "male"
          ],
          [
           "Robins, Mrs. Alexander A (Grace Charity Laury)",
           "female"
          ],
          [
           "Weisz, Mrs. Leopold (Mathilde Francoise Pede)",
           "female"
          ],
          [
           "Sobey, Mr. Samuel James Hayden",
           "male"
          ],
          [
           "Richard, Mr. Emile",
           "male"
          ],
          [
           "Newsom, Miss. Helen Monypeny",
           "female"
          ],
          [
           "Futrelle, Mr. Jacques Heath",
           "male"
          ],
          [
           "Osen, Mr. Olaf Elon",
           "male"
          ],
          [
           "Giglio, Mr. Victor",
           "male"
          ],
          [
           "Boulos, Mrs. Joseph (Sultana)",
           "female"
          ],
          [
           "Nysten, Miss. Anna Sofia",
           "female"
          ],
          [
           "Hakkarainen, Mrs. Pekka Pietari (Elin Matilda Dolck)",
           "female"
          ],
          [
           "Burke, Mr. Jeremiah",
           "male"
          ],
          [
           "Andrew, Mr. Edgardo Samuel",
           "male"
          ],
          [
           "Nicholls, Mr. Joseph Charles",
           "male"
          ],
          [
           "Andersson, Mr. August Edvard (\"Wennerstrom\")",
           "male"
          ],
          [
           "Ford, Miss. Robina Maggie \"Ruby\"",
           "female"
          ],
          [
           "Navratil, Mr. Michel (\"Louis M Hoffman\")",
           "male"
          ],
          [
           "Byles, Rev. Thomas Roussel Davids",
           "male"
          ],
          [
           "Bateman, Rev. Robert James",
           "male"
          ],
          [
           "Pears, Mrs. Thomas (Edith Wearne)",
           "female"
          ],
          [
           "Meo, Mr. Alfonzo",
           "male"
          ],
          [
           "van Billiard, Mr. Austin Blyler",
           "male"
          ],
          [
           "Olsen, Mr. Ole Martin",
           "male"
          ],
          [
           "Williams, Mr. Charles Duane",
           "male"
          ],
          [
           "Gilnagh, Miss. Katherine \"Katie\"",
           "female"
          ],
          [
           "Corn, Mr. Harry",
           "male"
          ],
          [
           "Smiljanic, Mr. Mile",
           "male"
          ],
          [
           "Sage, Master. Thomas Henry",
           "male"
          ],
          [
           "Cribb, Mr. John Hatfield",
           "male"
          ],
          [
           "Watt, Mrs. James (Elizabeth \"Bessie\" Inglis Milne)",
           "female"
          ],
          [
           "Bengtsson, Mr. John Viktor",
           "male"
          ],
          [
           "Calic, Mr. Jovo",
           "male"
          ],
          [
           "Panula, Master. Eino Viljami",
           "male"
          ],
          [
           "Goldsmith, Master. Frank John William \"Frankie\"",
           "male"
          ],
          [
           "Chibnall, Mrs. (Edith Martha Bowerman)",
           "female"
          ],
          [
           "Skoog, Mrs. William (Anna Bernhardina Karlsson)",
           "female"
          ],
          [
           "Baumann, Mr. John D",
           "male"
          ],
          [
           "Ling, Mr. Lee",
           "male"
          ],
          [
           "Van der hoef, Mr. Wyckoff",
           "male"
          ],
          [
           "Rice, Master. Arthur",
           "male"
          ],
          [
           "Johnson, Miss. Eleanor Ileen",
           "female"
          ],
          [
           "Sivola, Mr. Antti Wilhelm",
           "male"
          ],
          [
           "Smith, Mr. James Clinch",
           "male"
          ],
          [
           "Klasen, Mr. Klas Albin",
           "male"
          ],
          [
           "Lefebre, Master. Henry Forbes",
           "male"
          ],
          [
           "Isham, Miss. Ann Elizabeth",
           "female"
          ],
          [
           "Hale, Mr. Reginald",
           "male"
          ],
          [
           "Leonard, Mr. Lionel",
           "male"
          ],
          [
           "Sage, Miss. Constance Gladys",
           "female"
          ],
          [
           "Pernot, Mr. Rene",
           "male"
          ],
          [
           "Asplund, Master. Clarence Gustaf Hugo",
           "male"
          ],
          [
           "Becker, Master. Richard F",
           "male"
          ],
          [
           "Kink-Heilmann, Miss. Luise Gretchen",
           "female"
          ],
          [
           "Rood, Mr. Hugh Roscoe",
           "male"
          ],
          [
           "O'Brien, Mrs. Thomas (Johanna \"Hannah\" Godfrey)",
           "female"
          ],
          [
           "Romaine, Mr. Charles Hallace (\"Mr C Rolmane\")",
           "male"
          ],
          [
           "Bourke, Mr. John",
           "male"
          ],
          [
           "Turcin, Mr. Stjepan",
           "male"
          ],
          [
           "Pinsky, Mrs. (Rosa)",
           "female"
          ],
          [
           "Carbines, Mr. William",
           "male"
          ],
          [
           "Andersen-Jensen, Miss. Carla Christine Nielsine",
           "female"
          ],
          [
           "Navratil, Master. Michel M",
           "male"
          ],
          [
           "Brown, Mrs. James Joseph (Margaret Tobin)",
           "female"
          ],
          [
           "Lurette, Miss. Elise",
           "female"
          ],
          [
           "Mernagh, Mr. Robert",
           "male"
          ],
          [
           "Olsen, Mr. Karl Siegwart Andreas",
           "male"
          ],
          [
           "Madigan, Miss. Margaret \"Maggie\"",
           "female"
          ],
          [
           "Yrois, Miss. Henriette (\"Mrs Harbeck\")",
           "female"
          ],
          [
           "Vande Walle, Mr. Nestor Cyriel",
           "male"
          ],
          [
           "Sage, Mr. Frederick",
           "male"
          ],
          [
           "Johanson, Mr. Jakob Alfred",
           "male"
          ],
          [
           "Youseff, Mr. Gerious",
           "male"
          ],
          [
           "Cohen, Mr. Gurshon \"Gus\"",
           "male"
          ],
          [
           "Strom, Miss. Telma Matilda",
           "female"
          ],
          [
           "Backstrom, Mr. Karl Alfred",
           "male"
          ],
          [
           "Albimona, Mr. Nassef Cassem",
           "male"
          ],
          [
           "Carr, Miss. Helen \"Ellen\"",
           "female"
          ],
          [
           "Blank, Mr. Henry",
           "male"
          ],
          [
           "Ali, Mr. Ahmed",
           "male"
          ],
          [
           "Cameron, Miss. Clear Annie",
           "female"
          ],
          [
           "Perkin, Mr. John Henry",
           "male"
          ],
          [
           "Givard, Mr. Hans Kristensen",
           "male"
          ],
          [
           "Kiernan, Mr. Philip",
           "male"
          ],
          [
           "Newell, Miss. Madeleine",
           "female"
          ],
          [
           "Honkanen, Miss. Eliina",
           "female"
          ],
          [
           "Jacobsohn, Mr. Sidney Samuel",
           "male"
          ],
          [
           "Bazzani, Miss. Albina",
           "female"
          ],
          [
           "Harris, Mr. Walter",
           "male"
          ],
          [
           "Sunderland, Mr. Victor Francis",
           "male"
          ],
          [
           "Bracken, Mr. James H",
           "male"
          ],
          [
           "Green, Mr. George Henry",
           "male"
          ],
          [
           "Nenkoff, Mr. Christo",
           "male"
          ],
          [
           "Hoyt, Mr. Frederick Maxfield",
           "male"
          ],
          [
           "Berglund, Mr. Karl Ivar Sven",
           "male"
          ],
          [
           "Mellors, Mr. William John",
           "male"
          ],
          [
           "Lovell, Mr. John Hall (\"Henry\")",
           "male"
          ],
          [
           "Fahlstrom, Mr. Arne Jonas",
           "male"
          ],
          [
           "Lefebre, Miss. Mathilde",
           "female"
          ],
          [
           "Harris, Mrs. Henry Birkhardt (Irene Wallach)",
           "female"
          ],
          [
           "Larsson, Mr. Bengt Edvin",
           "male"
          ],
          [
           "Sjostedt, Mr. Ernst Adolf",
           "male"
          ],
          [
           "Asplund, Miss. Lillian Gertrud",
           "female"
          ],
          [
           "Leyson, Mr. Robert William Norman",
           "male"
          ],
          [
           "Harknett, Miss. Alice Phoebe",
           "female"
          ],
          [
           "Hold, Mr. Stephen",
           "male"
          ],
          [
           "Collyer, Miss. Marjorie \"Lottie\"",
           "female"
          ],
          [
           "Pengelly, Mr. Frederick William",
           "male"
          ],
          [
           "Hunt, Mr. George Henry",
           "male"
          ],
          [
           "Zabour, Miss. Thamine",
           "female"
          ],
          [
           "Murphy, Miss. Katherine \"Kate\"",
           "female"
          ],
          [
           "Coleridge, Mr. Reginald Charles",
           "male"
          ],
          [
           "Maenpaa, Mr. Matti Alexanteri",
           "male"
          ],
          [
           "Attalah, Mr. Sleiman",
           "male"
          ],
          [
           "Minahan, Dr. William Edward",
           "male"
          ],
          [
           "Lindahl, Miss. Agda Thorilda Viktoria",
           "female"
          ],
          [
           "Hamalainen, Mrs. William (Anna)",
           "female"
          ],
          [
           "Beckwith, Mr. Richard Leonard",
           "male"
          ],
          [
           "Carter, Rev. Ernest Courtenay",
           "male"
          ],
          [
           "Reed, Mr. James George",
           "male"
          ],
          [
           "Strom, Mrs. Wilhelm (Elna Matilda Persson)",
           "female"
          ],
          [
           "Stead, Mr. William Thomas",
           "male"
          ],
          [
           "Lobb, Mr. William Arthur",
           "male"
          ],
          [
           "Rosblom, Mrs. Viktor (Helena Wilhelmina)",
           "female"
          ],
          [
           "Touma, Mrs. Darwis (Hanne Youssef Razi)",
           "female"
          ],
          [
           "Thorne, Mrs. Gertrude Maybelle",
           "female"
          ],
          [
           "Cherry, Miss. Gladys",
           "female"
          ],
          [
           "Ward, Miss. Anna",
           "female"
          ],
          [
           "Parrish, Mrs. (Lutie Davis)",
           "female"
          ],
          [
           "Smith, Mr. Thomas",
           "male"
          ],
          [
           "Asplund, Master. Edvin Rojj Felix",
           "male"
          ],
          [
           "Taussig, Mr. Emil",
           "male"
          ],
          [
           "Harrison, Mr. William",
           "male"
          ],
          [
           "Henry, Miss. Delia",
           "female"
          ],
          [
           "Reeves, Mr. David",
           "male"
          ],
          [
           "Panula, Mr. Ernesti Arvid",
           "male"
          ],
          [
           "Persson, Mr. Ernst Ulrik",
           "male"
          ],
          [
           "Graham, Mrs. William Thompson (Edith Junkins)",
           "female"
          ],
          [
           "Bissette, Miss. Amelia",
           "female"
          ],
          [
           "Cairns, Mr. Alexander",
           "male"
          ],
          [
           "Tornquist, Mr. William Henry",
           "male"
          ],
          [
           "Mellinger, Mrs. (Elizabeth Anne Maidment)",
           "female"
          ],
          [
           "Natsch, Mr. Charles H",
           "male"
          ],
          [
           "Healy, Miss. Hanora \"Nora\"",
           "female"
          ],
          [
           "Andrews, Miss. Kornelia Theodosia",
           "female"
          ],
          [
           "Lindblom, Miss. Augusta Charlotta",
           "female"
          ],
          [
           "Parkes, Mr. Francis \"Frank\"",
           "male"
          ],
          [
           "Rice, Master. Eric",
           "male"
          ],
          [
           "Abbott, Mrs. Stanton (Rosa Hunt)",
           "female"
          ],
          [
           "Duane, Mr. Frank",
           "male"
          ],
          [
           "Olsson, Mr. Nils Johan Goransson",
           "male"
          ],
          [
           "de Pelsmaeker, Mr. Alfons",
           "male"
          ],
          [
           "Dorking, Mr. Edward Arthur",
           "male"
          ],
          [
           "Smith, Mr. Richard William",
           "male"
          ],
          [
           "Stankovic, Mr. Ivan",
           "male"
          ],
          [
           "de Mulder, Mr. Theodore",
           "male"
          ],
          [
           "Naidenoff, Mr. Penko",
           "male"
          ],
          [
           "Hosono, Mr. Masabumi",
           "male"
          ],
          [
           "Connolly, Miss. Kate",
           "female"
          ],
          [
           "Barber, Miss. Ellen \"Nellie\"",
           "female"
          ],
          [
           "Bishop, Mrs. Dickinson H (Helen Walton)",
           "female"
          ],
          [
           "Levy, Mr. Rene Jacques",
           "male"
          ],
          [
           "Haas, Miss. Aloisia",
           "female"
          ],
          [
           "Mineff, Mr. Ivan",
           "male"
          ],
          [
           "Lewy, Mr. Ervin G",
           "male"
          ],
          [
           "Hanna, Mr. Mansour",
           "male"
          ],
          [
           "Allison, Miss. Helen Loraine",
           "female"
          ],
          [
           "Saalfeld, Mr. Adolphe",
           "male"
          ],
          [
           "Baxter, Mrs. James (Helene DeLaudeniere Chaput)",
           "female"
          ],
          [
           "Kelly, Miss. Anna Katherine \"Annie Kate\"",
           "female"
          ],
          [
           "McCoy, Mr. Bernard",
           "male"
          ],
          [
           "Johnson, Mr. William Cahoone Jr",
           "male"
          ],
          [
           "Keane, Miss. Nora A",
           "female"
          ],
          [
           "Williams, Mr. Howard Hugh \"Harry\"",
           "male"
          ],
          [
           "Allison, Master. Hudson Trevor",
           "male"
          ],
          [
           "Fleming, Miss. Margaret",
           "female"
          ],
          [
           "Penasco y Castellana, Mrs. Victor de Satode (Maria Josefa Perez de Soto y Vallejo)",
           "female"
          ],
          [
           "Abelson, Mr. Samuel",
           "male"
          ],
          [
           "Francatelli, Miss. Laura Mabel",
           "female"
          ],
          [
           "Hays, Miss. Margaret Bechstein",
           "female"
          ],
          [
           "Ryerson, Miss. Emily Borie",
           "female"
          ],
          [
           "Lahtinen, Mrs. William (Anna Sylfven)",
           "female"
          ],
          [
           "Hendekovic, Mr. Ignjac",
           "male"
          ],
          [
           "Hart, Mr. Benjamin",
           "male"
          ],
          [
           "Nilsson, Miss. Helmina Josefina",
           "female"
          ],
          [
           "Kantor, Mrs. Sinai (Miriam Sternin)",
           "female"
          ],
          [
           "Moraweck, Dr. Ernest",
           "male"
          ],
          [
           "Wick, Miss. Mary Natalie",
           "female"
          ],
          [
           "Spedden, Mrs. Frederic Oakley (Margaretta Corning Stone)",
           "female"
          ],
          [
           "Dennis, Mr. Samuel",
           "male"
          ],
          [
           "Danoff, Mr. Yoto",
           "male"
          ],
          [
           "Slayter, Miss. Hilda Mary",
           "female"
          ],
          [
           "Caldwell, Mrs. Albert Francis (Sylvia Mae Harbaugh)",
           "female"
          ],
          [
           "Sage, Mr. George John Jr",
           "male"
          ],
          [
           "Young, Miss. Marie Grice",
           "female"
          ],
          [
           "Nysveen, Mr. Johan Hansen",
           "male"
          ],
          [
           "Ball, Mrs. (Ada E Hall)",
           "female"
          ],
          [
           "Goldsmith, Mrs. Frank John (Emily Alice Brown)",
           "female"
          ],
          [
           "Hippach, Miss. Jean Gertrude",
           "female"
          ],
          [
           "McCoy, Miss. Agnes",
           "female"
          ],
          [
           "Partner, Mr. Austen",
           "male"
          ],
          [
           "Graham, Mr. George Edward",
           "male"
          ],
          [
           "Vander Planke, Mr. Leo Edmondus",
           "male"
          ],
          [
           "Frauenthal, Mrs. Henry William (Clara Heinsheimer)",
           "female"
          ],
          [
           "Denkoff, Mr. Mitto",
           "male"
          ],
          [
           "Pears, Mr. Thomas Clinton",
           "male"
          ],
          [
           "Burns, Miss. Elizabeth Margaret",
           "female"
          ],
          [
           "Dahl, Mr. Karl Edwart",
           "male"
          ],
          [
           "Blackwell, Mr. Stephen Weart",
           "male"
          ],
          [
           "Navratil, Master. Edmond Roger",
           "male"
          ],
          [
           "Fortune, Miss. Alice Elizabeth",
           "female"
          ],
          [
           "Collander, Mr. Erik Gustaf",
           "male"
          ],
          [
           "Sedgwick, Mr. Charles Frederick Waddington",
           "male"
          ],
          [
           "Fox, Mr. Stanley Hubert",
           "male"
          ],
          [
           "Brown, Miss. Amelia \"Mildred\"",
           "female"
          ],
          [
           "Smith, Miss. Marion Elsie",
           "female"
          ],
          [
           "Davison, Mrs. Thomas Henry (Mary E Finck)",
           "female"
          ],
          [
           "Coutts, Master. William Loch \"William\"",
           "male"
          ],
          [
           "Dimic, Mr. Jovan",
           "male"
          ],
          [
           "Odahl, Mr. Nils Martin",
           "male"
          ],
          [
           "Williams-Lambert, Mr. Fletcher Fellows",
           "male"
          ],
          [
           "Elias, Mr. Tannous",
           "male"
          ],
          [
           "Arnold-Franchi, Mr. Josef",
           "male"
          ],
          [
           "Yousif, Mr. Wazli",
           "male"
          ],
          [
           "Vanden Steen, Mr. Leo Peter",
           "male"
          ],
          [
           "Bowerman, Miss. Elsie Edith",
           "female"
          ],
          [
           "Funk, Miss. Annie Clemmer",
           "female"
          ],
          [
           "McGovern, Miss. Mary",
           "female"
          ],
          [
           "Mockler, Miss. Helen Mary \"Ellie\"",
           "female"
          ],
          [
           "Skoog, Mr. Wilhelm",
           "male"
          ],
          [
           "del Carlo, Mr. Sebastiano",
           "male"
          ],
          [
           "Barbara, Mrs. (Catherine David)",
           "female"
          ],
          [
           "Asim, Mr. Adola",
           "male"
          ],
          [
           "O'Brien, Mr. Thomas",
           "male"
          ],
          [
           "Adahl, Mr. Mauritz Nils Martin",
           "male"
          ],
          [
           "Warren, Mrs. Frank Manley (Anna Sophia Atkinson)",
           "female"
          ],
          [
           "Moussa, Mrs. (Mantoura Boulos)",
           "female"
          ],
          [
           "Jermyn, Miss. Annie",
           "female"
          ],
          [
           "Aubart, Mme. Leontine Pauline",
           "female"
          ],
          [
           "Harder, Mr. George Achilles",
           "male"
          ],
          [
           "Wiklund, Mr. Jakob Alfred",
           "male"
          ],
          [
           "Beavan, Mr. William Thomas",
           "male"
          ],
          [
           "Ringhini, Mr. Sante",
           "male"
          ],
          [
           "Palsson, Miss. Stina Viola",
           "female"
          ],
          [
           "Meyer, Mrs. Edgar Joseph (Leila Saks)",
           "female"
          ],
          [
           "Landergren, Miss. Aurora Adelia",
           "female"
          ],
          [
           "Widener, Mr. Harry Elkins",
           "male"
          ],
          [
           "Betros, Mr. Tannous",
           "male"
          ],
          [
           "Gustafsson, Mr. Karl Gideon",
           "male"
          ],
          [
           "Bidois, Miss. Rosalie",
           "female"
          ],
          [
           "Nakid, Miss. Maria (\"Mary\")",
           "female"
          ],
          [
           "Tikkanen, Mr. Juho",
           "male"
          ],
          [
           "Holverson, Mrs. Alexander Oskar (Mary Aline Towner)",
           "female"
          ],
          [
           "Plotcharsky, Mr. Vasil",
           "male"
          ],
          [
           "Davies, Mr. Charles Henry",
           "male"
          ],
          [
           "Goodwin, Master. Sidney Leonard",
           "male"
          ],
          [
           "Buss, Miss. Kate",
           "female"
          ],
          [
           "Sadlier, Mr. Matthew",
           "male"
          ],
          [
           "Lehmann, Miss. Bertha",
           "female"
          ],
          [
           "Carter, Mr. William Ernest",
           "male"
          ],
          [
           "Jansson, Mr. Carl Olof",
           "male"
          ],
          [
           "Gustafsson, Mr. Johan Birger",
           "male"
          ],
          [
           "Newell, Miss. Marjorie",
           "female"
          ],
          [
           "Sandstrom, Mrs. Hjalmar (Agnes Charlotta Bengtsson)",
           "female"
          ],
          [
           "Johansson, Mr. Erik",
           "male"
          ],
          [
           "Olsson, Miss. Elina",
           "female"
          ],
          [
           "McKane, Mr. Peter David",
           "male"
          ],
          [
           "Pain, Dr. Alfred",
           "male"
          ],
          [
           "Trout, Mrs. William H (Jessie L)",
           "female"
          ],
          [
           "Niskanen, Mr. Juha",
           "male"
          ],
          [
           "Adams, Mr. John",
           "male"
          ],
          [
           "Jussila, Miss. Mari Aina",
           "female"
          ],
          [
           "Hakkarainen, Mr. Pekka Pietari",
           "male"
          ],
          [
           "Oreskovic, Miss. Marija",
           "female"
          ],
          [
           "Gale, Mr. Shadrach",
           "male"
          ],
          [
           "Widegren, Mr. Carl/Charles Peter",
           "male"
          ],
          [
           "Richards, Master. William Rowe",
           "male"
          ],
          [
           "Birkeland, Mr. Hans Martin Monsen",
           "male"
          ],
          [
           "Lefebre, Miss. Ida",
           "female"
          ],
          [
           "Sdycoff, Mr. Todor",
           "male"
          ],
          [
           "Hart, Mr. Henry",
           "male"
          ],
          [
           "Minahan, Miss. Daisy E",
           "female"
          ],
          [
           "Cunningham, Mr. Alfred Fleming",
           "male"
          ],
          [
           "Sundman, Mr. Johan Julian",
           "male"
          ],
          [
           "Meek, Mrs. Thomas (Annie Louise Rowley)",
           "female"
          ],
          [
           "Drew, Mrs. James Vivian (Lulu Thorne Christian)",
           "female"
          ],
          [
           "Silven, Miss. Lyyli Karoliina",
           "female"
          ],
          [
           "Matthews, Mr. William John",
           "male"
          ],
          [
           "Van Impe, Miss. Catharina",
           "female"
          ],
          [
           "Gheorgheff, Mr. Stanio",
           "male"
          ],
          [
           "Charters, Mr. David",
           "male"
          ],
          [
           "Zimmerman, Mr. Leo",
           "male"
          ],
          [
           "Danbom, Mrs. Ernst Gilbert (Anna Sigrid Maria Brogren)",
           "female"
          ],
          [
           "Rosblom, Mr. Viktor Richard",
           "male"
          ],
          [
           "Wiseman, Mr. Phillippe",
           "male"
          ],
          [
           "Clarke, Mrs. Charles V (Ada Maria Winfield)",
           "female"
          ],
          [
           "Phillips, Miss. Kate Florence (\"Mrs Kate Louise Phillips Marshall\")",
           "female"
          ],
          [
           "Flynn, Mr. James",
           "male"
          ],
          [
           "Pickard, Mr. Berk (Berk Trembisky)",
           "male"
          ],
          [
           "Bjornstrom-Steffansson, Mr. Mauritz Hakan",
           "male"
          ],
          [
           "Thorneycroft, Mrs. Percival (Florence Kate White)",
           "female"
          ],
          [
           "Louch, Mrs. Charles Alexander (Alice Adelaide Slow)",
           "female"
          ],
          [
           "Kallio, Mr. Nikolai Erland",
           "male"
          ],
          [
           "Silvey, Mr. William Baird",
           "male"
          ],
          [
           "Carter, Miss. Lucile Polk",
           "female"
          ],
          [
           "Ford, Miss. Doolina Margaret \"Daisy\"",
           "female"
          ],
          [
           "Richards, Mrs. Sidney (Emily Hocking)",
           "female"
          ],
          [
           "Fortune, Mr. Mark",
           "male"
          ],
          [
           "Kvillner, Mr. Johan Henrik Johannesson",
           "male"
          ],
          [
           "Hart, Mrs. Benjamin (Esther Ada Bloomfield)",
           "female"
          ],
          [
           "Hampe, Mr. Leon",
           "male"
          ],
          [
           "Petterson, Mr. Johan Emil",
           "male"
          ],
          [
           "Reynaldo, Ms. Encarnacion",
           "female"
          ],
          [
           "Johannesen-Bratthammer, Mr. Bernt",
           "male"
          ],
          [
           "Dodge, Master. Washington",
           "male"
          ],
          [
           "Mellinger, Miss. Madeleine Violet",
           "female"
          ],
          [
           "Seward, Mr. Frederic Kimber",
           "male"
          ],
          [
           "Baclini, Miss. Marie Catherine",
           "female"
          ],
          [
           "Peuchen, Major. Arthur Godfrey",
           "male"
          ],
          [
           "West, Mr. Edwy Arthur",
           "male"
          ],
          [
           "Hagland, Mr. Ingvald Olai Olsen",
           "male"
          ],
          [
           "Foreman, Mr. Benjamin Laventall",
           "male"
          ],
          [
           "Goldenberg, Mr. Samuel L",
           "male"
          ],
          [
           "Peduzzi, Mr. Joseph",
           "male"
          ],
          [
           "Jalsevac, Mr. Ivan",
           "male"
          ],
          [
           "Millet, Mr. Francis Davis",
           "male"
          ],
          [
           "Kenyon, Mrs. Frederick R (Marion)",
           "female"
          ],
          [
           "Toomey, Miss. Ellen",
           "female"
          ],
          [
           "O'Connor, Mr. Maurice",
           "male"
          ],
          [
           "Anderson, Mr. Harry",
           "male"
          ],
          [
           "Morley, Mr. William",
           "male"
          ],
          [
           "Gee, Mr. Arthur H",
           "male"
          ],
          [
           "Milling, Mr. Jacob Christian",
           "male"
          ],
          [
           "Maisner, Mr. Simon",
           "male"
          ],
          [
           "Goncalves, Mr. Manuel Estanslas",
           "male"
          ],
          [
           "Campbell, Mr. William",
           "male"
          ],
          [
           "Smart, Mr. John Montgomery",
           "male"
          ],
          [
           "Scanlan, Mr. James",
           "male"
          ],
          [
           "Baclini, Miss. Helene Barbara",
           "female"
          ],
          [
           "Keefe, Mr. Arthur",
           "male"
          ],
          [
           "Cacic, Mr. Luka",
           "male"
          ],
          [
           "West, Mrs. Edwy Arthur (Ada Mary Worth)",
           "female"
          ],
          [
           "Jerwan, Mrs. Amin S (Marie Marthe Thuillard)",
           "female"
          ],
          [
           "Strandberg, Miss. Ida Sofia",
           "female"
          ],
          [
           "Clifford, Mr. George Quincy",
           "male"
          ],
          [
           "Renouf, Mr. Peter Henry",
           "male"
          ],
          [
           "Braund, Mr. Lewis Richard",
           "male"
          ],
          [
           "Karlsson, Mr. Nils August",
           "male"
          ],
          [
           "Hirvonen, Miss. Hildur E",
           "female"
          ],
          [
           "Goodwin, Master. Harold Victor",
           "male"
          ],
          [
           "Frost, Mr. Anthony Wood \"Archie\"",
           "male"
          ],
          [
           "Rouse, Mr. Richard Henry",
           "male"
          ],
          [
           "Turkula, Mrs. (Hedwig)",
           "female"
          ],
          [
           "Bishop, Mr. Dickinson H",
           "male"
          ],
          [
           "Lefebre, Miss. Jeannie",
           "female"
          ],
          [
           "Hoyt, Mrs. Frederick Maxfield (Jane Anne Forby)",
           "female"
          ],
          [
           "Kent, Mr. Edward Austin",
           "male"
          ],
          [
           "Somerton, Mr. Francis William",
           "male"
          ],
          [
           "Coutts, Master. Eden Leslie \"Neville\"",
           "male"
          ],
          [
           "Hagland, Mr. Konrad Mathias Reiersen",
           "male"
          ],
          [
           "Windelov, Mr. Einar",
           "male"
          ],
          [
           "Molson, Mr. Harry Markland",
           "male"
          ],
          [
           "Artagaveytia, Mr. Ramon",
           "male"
          ],
          [
           "Stanley, Mr. Edward Roland",
           "male"
          ],
          [
           "Yousseff, Mr. Gerious",
           "male"
          ],
          [
           "Eustis, Miss. Elizabeth Mussey",
           "female"
          ],
          [
           "Shellard, Mr. Frederick William",
           "male"
          ],
          [
           "Allison, Mrs. Hudson J C (Bessie Waldo Daniels)",
           "female"
          ],
          [
           "Svensson, Mr. Olof",
           "male"
          ],
          [
           "Calic, Mr. Petar",
           "male"
          ],
          [
           "Canavan, Miss. Mary",
           "female"
          ],
          [
           "O'Sullivan, Miss. Bridget Mary",
           "female"
          ],
          [
           "Laitinen, Miss. Kristina Sofia",
           "female"
          ],
          [
           "Maioni, Miss. Roberta",
           "female"
          ],
          [
           "Penasco y Castellana, Mr. Victor de Satode",
           "male"
          ],
          [
           "Quick, Mrs. Frederick Charles (Jane Richards)",
           "female"
          ],
          [
           "Bradley, Mr. George (\"George Arthur Brayton\")",
           "male"
          ],
          [
           "Olsen, Mr. Henry Margido",
           "male"
          ],
          [
           "Lang, Mr. Fang",
           "male"
          ],
          [
           "Daly, Mr. Eugene Patrick",
           "male"
          ],
          [
           "Webber, Mr. James",
           "male"
          ],
          [
           "McGough, Mr. James Robert",
           "male"
          ],
          [
           "Rothschild, Mrs. Martin (Elizabeth L. Barrett)",
           "female"
          ],
          [
           "Coleff, Mr. Satio",
           "male"
          ],
          [
           "Walker, Mr. William Anderson",
           "male"
          ],
          [
           "Lemore, Mrs. (Amelia Milley)",
           "female"
          ],
          [
           "Ryan, Mr. Patrick",
           "male"
          ],
          [
           "Angle, Mrs. William A (Florence \"Mary\" Agnes Hughes)",
           "female"
          ],
          [
           "Pavlovic, Mr. Stefo",
           "male"
          ],
          [
           "Perreault, Miss. Anne",
           "female"
          ],
          [
           "Vovk, Mr. Janko",
           "male"
          ],
          [
           "Lahoud, Mr. Sarkis",
           "male"
          ],
          [
           "Hippach, Mrs. Louis Albert (Ida Sophia Fischer)",
           "female"
          ],
          [
           "Kassem, Mr. Fared",
           "male"
          ],
          [
           "Farrell, Mr. James",
           "male"
          ],
          [
           "Ridsdale, Miss. Lucy",
           "female"
          ],
          [
           "Farthing, Mr. John",
           "male"
          ],
          [
           "Salonen, Mr. Johan Werner",
           "male"
          ],
          [
           "Hocking, Mr. Richard George",
           "male"
          ],
          [
           "Quick, Miss. Phyllis May",
           "female"
          ],
          [
           "Toufik, Mr. Nakli",
           "male"
          ],
          [
           "Elias, Mr. Joseph Jr",
           "male"
          ],
          [
           "Peter, Mrs. Catherine (Catherine Rizk)",
           "female"
          ],
          [
           "Cacic, Miss. Marija",
           "female"
          ],
          [
           "Hart, Miss. Eva Miriam",
           "female"
          ],
          [
           "Butt, Major. Archibald Willingham",
           "male"
          ],
          [
           "LeRoy, Miss. Bertha",
           "female"
          ],
          [
           "Risien, Mr. Samuel Beard",
           "male"
          ],
          [
           "Frolicher, Miss. Hedwig Margaritha",
           "female"
          ],
          [
           "Crosby, Miss. Harriet R",
           "female"
          ],
          [
           "Andersson, Miss. Ingeborg Constanzia",
           "female"
          ],
          [
           "Andersson, Miss. Sigrid Elisabeth",
           "female"
          ],
          [
           "Beane, Mr. Edward",
           "male"
          ],
          [
           "Douglas, Mr. Walter Donald",
           "male"
          ],
          [
           "Nicholson, Mr. Arthur Ernest",
           "male"
          ],
          [
           "Beane, Mrs. Edward (Ethel Clarke)",
           "female"
          ],
          [
           "Padro y Manent, Mr. Julian",
           "male"
          ],
          [
           "Goldsmith, Mr. Frank John",
           "male"
          ],
          [
           "Davies, Master. John Morgan Jr",
           "male"
          ],
          [
           "Thayer, Mr. John Borland Jr",
           "male"
          ],
          [
           "Sharp, Mr. Percival James R",
           "male"
          ],
          [
           "O'Brien, Mr. Timothy",
           "male"
          ],
          [
           "Leeni, Mr. Fahim (\"Philip Zenni\")",
           "male"
          ],
          [
           "Ohman, Miss. Velin",
           "female"
          ],
          [
           "Wright, Mr. George",
           "male"
          ],
          [
           "Duff Gordon, Lady. (Lucille Christiana Sutherland) (\"Mrs Morgan\")",
           "female"
          ],
          [
           "Robbins, Mr. Victor",
           "male"
          ],
          [
           "Taussig, Mrs. Emil (Tillie Mandelbaum)",
           "female"
          ],
          [
           "de Messemaeker, Mrs. Guillaume Joseph (Emma)",
           "female"
          ],
          [
           "Morrow, Mr. Thomas Rowan",
           "male"
          ],
          [
           "Sivic, Mr. Husein",
           "male"
          ],
          [
           "Norman, Mr. Robert Douglas",
           "male"
          ],
          [
           "Simmons, Mr. John",
           "male"
          ],
          [
           "Meanwell, Miss. (Marion Ogden)",
           "female"
          ],
          [
           "Davies, Mr. Alfred J",
           "male"
          ],
          [
           "Stoytcheff, Mr. Ilia",
           "male"
          ],
          [
           "Palsson, Mrs. Nils (Alma Cornelia Berglund)",
           "female"
          ],
          [
           "Doharr, Mr. Tannous",
           "male"
          ],
          [
           "Jonsson, Mr. Carl",
           "male"
          ],
          [
           "Harris, Mr. George",
           "male"
          ],
          [
           "Appleton, Mrs. Edward Dale (Charlotte Lamson)",
           "female"
          ],
          [
           "Flynn, Mr. John Irwin (\"Irving\")",
           "male"
          ],
          [
           "Kelly, Miss. Mary",
           "female"
          ],
          [
           "Rush, Mr. Alfred George John",
           "male"
          ],
          [
           "Patchett, Mr. George",
           "male"
          ],
          [
           "Garside, Miss. Ethel",
           "female"
          ],
          [
           "Silvey, Mrs. William Baird (Alice Munger)",
           "female"
          ],
          [
           "Caram, Mrs. Joseph (Maria Elias)",
           "female"
          ],
          [
           "Jussila, Mr. Eiriik",
           "male"
          ],
          [
           "Christy, Miss. Julie Rachel",
           "female"
          ],
          [
           "Thayer, Mrs. John Borland (Marian Longstreth Morris)",
           "female"
          ],
          [
           "Downton, Mr. William James",
           "male"
          ],
          [
           "Ross, Mr. John Hugo",
           "male"
          ],
          [
           "Paulner, Mr. Uscher",
           "male"
          ],
          [
           "Taussig, Miss. Ruth",
           "female"
          ],
          [
           "Jarvis, Mr. John Denzil",
           "male"
          ],
          [
           "Frolicher-Stehli, Mr. Maxmillian",
           "male"
          ],
          [
           "Gilinski, Mr. Eliezer",
           "male"
          ],
          [
           "Murdlin, Mr. Joseph",
           "male"
          ],
          [
           "Rintamaki, Mr. Matti",
           "male"
          ],
          [
           "Stephenson, Mrs. Walter Bertram (Martha Eustis)",
           "female"
          ],
          [
           "Elsbury, Mr. William James",
           "male"
          ],
          [
           "Bourke, Miss. Mary",
           "female"
          ],
          [
           "Chapman, Mr. John Henry",
           "male"
          ],
          [
           "Van Impe, Mr. Jean Baptiste",
           "male"
          ],
          [
           "Leitch, Miss. Jessie Wills",
           "female"
          ],
          [
           "Johnson, Mr. Alfred",
           "male"
          ],
          [
           "Boulos, Mr. Hanna",
           "male"
          ],
          [
           "Duff Gordon, Sir. Cosmo Edmund (\"Mr Morgan\")",
           "male"
          ],
          [
           "Jacobsohn, Mrs. Sidney Samuel (Amy Frances Christy)",
           "female"
          ],
          [
           "Slabenoff, Mr. Petco",
           "male"
          ],
          [
           "Harrington, Mr. Charles H",
           "male"
          ],
          [
           "Torber, Mr. Ernst William",
           "male"
          ],
          [
           "Homer, Mr. Harry (\"Mr E Haven\")",
           "male"
          ],
          [
           "Lindell, Mr. Edvard Bengtsson",
           "male"
          ],
          [
           "Karaic, Mr. Milan",
           "male"
          ],
          [
           "Daniel, Mr. Robert Williams",
           "male"
          ],
          [
           "Laroche, Mrs. Joseph (Juliette Marie Louise Lafargue)",
           "female"
          ],
          [
           "Shutes, Miss. Elizabeth W",
           "female"
          ],
          [
           "Andersson, Mrs. Anders Johan (Alfrida Konstantia Brogren)",
           "female"
          ],
          [
           "Jardin, Mr. Jose Neto",
           "male"
          ],
          [
           "Murphy, Miss. Margaret Jane",
           "female"
          ],
          [
           "Horgan, Mr. John",
           "male"
          ],
          [
           "Brocklebank, Mr. William Alfred",
           "male"
          ],
          [
           "Herman, Miss. Alice",
           "female"
          ],
          [
           "Danbom, Mr. Ernst Gilbert",
           "male"
          ],
          [
           "Lobb, Mrs. William Arthur (Cordelia K Stanlick)",
           "female"
          ],
          [
           "Becker, Miss. Marion Louise",
           "female"
          ],
          [
           "Gavey, Mr. Lawrence",
           "male"
          ],
          [
           "Yasbeck, Mr. Antoni",
           "male"
          ],
          [
           "Kimball, Mr. Edwin Nelson Jr",
           "male"
          ],
          [
           "Nakid, Mr. Sahid",
           "male"
          ],
          [
           "Hansen, Mr. Henry Damsgaard",
           "male"
          ],
          [
           "Bowen, Mr. David John \"Dai\"",
           "male"
          ],
          [
           "Sutton, Mr. Frederick",
           "male"
          ],
          [
           "Kirkland, Rev. Charles Leonard",
           "male"
          ],
          [
           "Longley, Miss. Gretchen Fiske",
           "female"
          ],
          [
           "Bostandyeff, Mr. Guentcho",
           "male"
          ],
          [
           "O'Connell, Mr. Patrick D",
           "male"
          ],
          [
           "Barkworth, Mr. Algernon Henry Wilson",
           "male"
          ],
          [
           "Lundahl, Mr. Johan Svensson",
           "male"
          ],
          [
           "Stahelin-Maeglin, Dr. Max",
           "male"
          ],
          [
           "Parr, Mr. William Henry Marsh",
           "male"
          ],
          [
           "Skoog, Miss. Mabel",
           "female"
          ],
          [
           "Davis, Miss. Mary",
           "female"
          ],
          [
           "Leinonen, Mr. Antti Gustaf",
           "male"
          ],
          [
           "Collyer, Mr. Harvey",
           "male"
          ],
          [
           "Panula, Mrs. Juha (Maria Emilia Ojala)",
           "female"
          ],
          [
           "Thorneycroft, Mr. Percival",
           "male"
          ],
          [
           "Jensen, Mr. Hans Peder",
           "male"
          ],
          [
           "Sagesser, Mlle. Emma",
           "female"
          ],
          [
           "Skoog, Miss. Margit Elizabeth",
           "female"
          ],
          [
           "Foo, Mr. Choong",
           "male"
          ],
          [
           "Baclini, Miss. Eugenie",
           "female"
          ],
          [
           "Harper, Mr. Henry Sleeper",
           "male"
          ],
          [
           "Cor, Mr. Liudevit",
           "male"
          ],
          [
           "Simonius-Blumer, Col. Oberst Alfons",
           "male"
          ],
          [
           "Willey, Mr. Edward",
           "male"
          ],
          [
           "Stanley, Miss. Amy Zillah Elsie",
           "female"
          ],
          [
           "Mitkoff, Mr. Mito",
           "male"
          ],
          [
           "Doling, Miss. Elsie",
           "female"
          ],
          [
           "Kalvik, Mr. Johannes Halvorsen",
           "male"
          ],
          [
           "O'Leary, Miss. Hanora \"Norah\"",
           "female"
          ],
          [
           "Hegarty, Miss. Hanora \"Nora\"",
           "female"
          ],
          [
           "Hickman, Mr. Leonard Mark",
           "male"
          ],
          [
           "Radeff, Mr. Alexander",
           "male"
          ],
          [
           "Bourke, Mrs. John (Catherine)",
           "female"
          ],
          [
           "Eitemiller, Mr. George Floyd",
           "male"
          ],
          [
           "Newell, Mr. Arthur Webster",
           "male"
          ],
          [
           "Frauenthal, Dr. Henry William",
           "male"
          ],
          [
           "Badt, Mr. Mohamed",
           "male"
          ],
          [
           "Colley, Mr. Edward Pomeroy",
           "male"
          ],
          [
           "Coleff, Mr. Peju",
           "male"
          ],
          [
           "Lindqvist, Mr. Eino William",
           "male"
          ],
          [
           "Hickman, Mr. Lewis",
           "male"
          ],
          [
           "Butler, Mr. Reginald Fenton",
           "male"
          ],
          [
           "Rommetvedt, Mr. Knud Paust",
           "male"
          ],
          [
           "Cook, Mr. Jacob",
           "male"
          ],
          [
           "Taylor, Mrs. Elmer Zebley (Juliet Cummins Wright)",
           "female"
          ],
          [
           "Brown, Mrs. Thomas William Solomon (Elizabeth Catherine Ford)",
           "female"
          ],
          [
           "Davidson, Mr. Thornton",
           "male"
          ],
          [
           "Mitchell, Mr. Henry Michael",
           "male"
          ],
          [
           "Wilhelms, Mr. Charles",
           "male"
          ],
          [
           "Watson, Mr. Ennis Hastings",
           "male"
          ],
          [
           "Edvardsson, Mr. Gustaf Hjalmar",
           "male"
          ],
          [
           "Sawyer, Mr. Frederick Charles",
           "male"
          ],
          [
           "Turja, Miss. Anna Sofia",
           "female"
          ],
          [
           "Goodwin, Mrs. Frederick (Augusta Tyler)",
           "female"
          ],
          [
           "Cardeza, Mr. Thomas Drake Martinez",
           "male"
          ],
          [
           "Peters, Miss. Katie",
           "female"
          ],
          [
           "Hassab, Mr. Hammad",
           "male"
          ],
          [
           "Olsvigen, Mr. Thor Anderson",
           "male"
          ],
          [
           "Goodwin, Mr. Charles Edward",
           "male"
          ],
          [
           "Brown, Mr. Thomas William Solomon",
           "male"
          ],
          [
           "Laroche, Mr. Joseph Philippe Lemercier",
           "male"
          ],
          [
           "Panula, Mr. Jaako Arnold",
           "male"
          ],
          [
           "Dakic, Mr. Branko",
           "male"
          ],
          [
           "Fischer, Mr. Eberhard Thelander",
           "male"
          ],
          [
           "Madill, Miss. Georgette Alexandra",
           "female"
          ],
          [
           "Dick, Mr. Albert Adrian",
           "male"
          ],
          [
           "Karun, Miss. Manca",
           "female"
          ],
          [
           "Lam, Mr. Ali",
           "male"
          ],
          [
           "Saad, Mr. Khalil",
           "male"
          ],
          [
           "Weir, Col. John",
           "male"
          ],
          [
           "Chapman, Mr. Charles Henry",
           "male"
          ],
          [
           "Kelly, Mr. James",
           "male"
          ],
          [
           "Mullens, Miss. Katherine \"Katie\"",
           "female"
          ],
          [
           "Thayer, Mr. John Borland",
           "male"
          ],
          [
           "Humblen, Mr. Adolf Mathias Nicolai Olsen",
           "male"
          ],
          [
           "Astor, Mrs. John Jacob (Madeleine Talmadge Force)",
           "female"
          ],
          [
           "Silverthorne, Mr. Spencer Victor",
           "male"
          ],
          [
           "Barbara, Miss. Saiide",
           "female"
          ],
          [
           "Gallagher, Mr. Martin",
           "male"
          ],
          [
           "Hansen, Mr. Henrik Juul",
           "male"
          ],
          [
           "Morley, Mr. Henry Samuel (\"Mr Henry Marshall\")",
           "male"
          ],
          [
           "Kelly, Mrs. Florence \"Fannie\"",
           "female"
          ],
          [
           "Calderhead, Mr. Edward Pennington",
           "male"
          ],
          [
           "Cleaver, Miss. Alice",
           "female"
          ],
          [
           "Moubarek, Master. Halim Gonios (\"William George\")",
           "male"
          ],
          [
           "Mayne, Mlle. Berthe Antonine (\"Mrs de Villiers\")",
           "female"
          ],
          [
           "Klaber, Mr. Herman",
           "male"
          ],
          [
           "Taylor, Mr. Elmer Zebley",
           "male"
          ],
          [
           "Larsson, Mr. August Viktor",
           "male"
          ],
          [
           "Greenberg, Mr. Samuel",
           "male"
          ],
          [
           "Soholt, Mr. Peter Andreas Lauritz Andersen",
           "male"
          ],
          [
           "Endres, Miss. Caroline Louise",
           "female"
          ],
          [
           "Troutt, Miss. Edwina Celia \"Winnie\"",
           "female"
          ],
          [
           "McEvoy, Mr. Michael",
           "male"
          ],
          [
           "Johnson, Mr. Malkolm Joackim",
           "male"
          ],
          [
           "Harper, Miss. Annie Jessie \"Nina\"",
           "female"
          ],
          [
           "Jensen, Mr. Svend Lauritz",
           "male"
          ],
          [
           "Gillespie, Mr. William Henry",
           "male"
          ],
          [
           "Hodges, Mr. Henry Price",
           "male"
          ],
          [
           "Chambers, Mr. Norman Campbell",
           "male"
          ],
          [
           "Oreskovic, Mr. Luka",
           "male"
          ],
          [
           "Renouf, Mrs. Peter Henry (Lillian Jefferys)",
           "female"
          ],
          [
           "Mannion, Miss. Margareth",
           "female"
          ],
          [
           "Bryhl, Mr. Kurt Arnold Gottfrid",
           "male"
          ],
          [
           "Ilmakangas, Miss. Pieta Sofia",
           "female"
          ],
          [
           "Allen, Miss. Elisabeth Walton",
           "female"
          ],
          [
           "Hassan, Mr. Houssein G N",
           "male"
          ],
          [
           "Knight, Mr. Robert J",
           "male"
          ],
          [
           "Berriman, Mr. William John",
           "male"
          ],
          [
           "Troupiansky, Mr. Moses Aaron",
           "male"
          ],
          [
           "Williams, Mr. Leslie",
           "male"
          ],
          [
           "Ford, Mrs. Edward (Margaret Ann Watson)",
           "female"
          ],
          [
           "Lesurer, Mr. Gustave J",
           "male"
          ],
          [
           "Ivanoff, Mr. Kanio",
           "male"
          ],
          [
           "Nankoff, Mr. Minko",
           "male"
          ],
          [
           "Hawksford, Mr. Walter James",
           "male"
          ],
          [
           "Cavendish, Mr. Tyrell William",
           "male"
          ],
          [
           "Ryerson, Miss. Susan Parker \"Suzette\"",
           "female"
          ],
          [
           "McNamee, Mr. Neal",
           "male"
          ],
          [
           "Stranden, Mr. Juho",
           "male"
          ],
          [
           "Crosby, Capt. Edward Gifford",
           "male"
          ],
          [
           "Abbott, Mr. Rossmore Edward",
           "male"
          ],
          [
           "Sinkkonen, Miss. Anna",
           "female"
          ],
          [
           "Marvin, Mr. Daniel Warner",
           "male"
          ],
          [
           "Connaghton, Mr. Michael",
           "male"
          ],
          [
           "Wells, Miss. Joan",
           "female"
          ],
          [
           "Moor, Master. Meier",
           "male"
          ],
          [
           "Vande Velde, Mr. Johannes Joseph",
           "male"
          ],
          [
           "Jonkoff, Mr. Lalio",
           "male"
          ],
          [
           "Herman, Mrs. Samuel (Jane Laver)",
           "female"
          ],
          [
           "Hamalainen, Master. Viljo",
           "male"
          ],
          [
           "Carlsson, Mr. August Sigfrid",
           "male"
          ],
          [
           "Bailey, Mr. Percy Andrew",
           "male"
          ],
          [
           "Theobald, Mr. Thomas Leonard",
           "male"
          ],
          [
           "Rothes, the Countess. of (Lucy Noel Martha Dyer-Edwards)",
           "female"
          ],
          [
           "Garfirth, Mr. John",
           "male"
          ],
          [
           "Nirva, Mr. Iisakki Antino Aijo",
           "male"
          ],
          [
           "Barah, Mr. Hanna Assi",
           "male"
          ],
          [
           "Carter, Mrs. William Ernest (Lucile Polk)",
           "female"
          ],
          [
           "Eklund, Mr. Hans Linus",
           "male"
          ],
          [
           "Hogeboom, Mrs. John C (Anna Andrews)",
           "female"
          ],
          [
           "Brewe, Dr. Arthur Jackson",
           "male"
          ],
          [
           "Mangan, Miss. Mary",
           "female"
          ],
          [
           "Moran, Mr. Daniel J",
           "male"
          ],
          [
           "Gronnestad, Mr. Daniel Danielsen",
           "male"
          ],
          [
           "Lievens, Mr. Rene Aime",
           "male"
          ],
          [
           "Jensen, Mr. Niels Peder",
           "male"
          ],
          [
           "Mack, Mrs. (Mary)",
           "female"
          ],
          [
           "Elias, Mr. Dibo",
           "male"
          ],
          [
           "Hocking, Mrs. Elizabeth (Eliza Needs)",
           "female"
          ],
          [
           "Myhrman, Mr. Pehr Fabian Oliver Malkolm",
           "male"
          ],
          [
           "Tobin, Mr. Roger",
           "male"
          ],
          [
           "Emanuel, Miss. Virginia Ethel",
           "female"
          ],
          [
           "Kilgannon, Mr. Thomas J",
           "male"
          ],
          [
           "Robert, Mrs. Edward Scott (Elisabeth Walton McMillan)",
           "female"
          ],
          [
           "Ayoub, Miss. Banoura",
           "female"
          ],
          [
           "Dick, Mrs. Albert Adrian (Vera Gillespie)",
           "female"
          ],
          [
           "Long, Mr. Milton Clyde",
           "male"
          ],
          [
           "Johnston, Mr. Andrew G",
           "male"
          ],
          [
           "Ali, Mr. William",
           "male"
          ],
          [
           "Harmer, Mr. Abraham (David Lishin)",
           "male"
          ],
          [
           "Sjoblom, Miss. Anna Sofia",
           "female"
          ],
          [
           "Rice, Master. George Hugh",
           "male"
          ],
          [
           "Dean, Master. Bertram Vere",
           "male"
          ],
          [
           "Guggenheim, Mr. Benjamin",
           "male"
          ],
          [
           "Keane, Mr. Andrew \"Andy\"",
           "male"
          ],
          [
           "Gaskell, Mr. Alfred",
           "male"
          ],
          [
           "Sage, Miss. Stella Anna",
           "female"
          ],
          [
           "Hoyt, Mr. William Fisher",
           "male"
          ],
          [
           "Dantcheff, Mr. Ristiu",
           "male"
          ],
          [
           "Otter, Mr. Richard",
           "male"
          ],
          [
           "Leader, Dr. Alice (Farnham)",
           "female"
          ],
          [
           "Osman, Mrs. Mara",
           "female"
          ],
          [
           "Ibrahim Shawah, Mr. Yousseff",
           "male"
          ],
          [
           "Van Impe, Mrs. Jean Baptiste (Rosalie Paula Govaert)",
           "female"
          ],
          [
           "Ponesell, Mr. Martin",
           "male"
          ],
          [
           "Collyer, Mrs. Harvey (Charlotte Annie Tate)",
           "female"
          ],
          [
           "Carter, Master. William Thornton II",
           "male"
          ],
          [
           "Thomas, Master. Assad Alexander",
           "male"
          ],
          [
           "Hedman, Mr. Oskar Arvid",
           "male"
          ],
          [
           "Johansson, Mr. Karl Johan",
           "male"
          ],
          [
           "Andrews, Mr. Thomas Jr",
           "male"
          ],
          [
           "Pettersson, Miss. Ellen Natalia",
           "female"
          ],
          [
           "Meyer, Mr. August",
           "male"
          ],
          [
           "Chambers, Mrs. Norman Campbell (Bertha Griggs)",
           "female"
          ],
          [
           "Alexander, Mr. William",
           "male"
          ],
          [
           "Lester, Mr. James",
           "male"
          ],
          [
           "Slemen, Mr. Richard James",
           "male"
          ],
          [
           "Andersson, Miss. Ebba Iris Alfrida",
           "female"
          ],
          [
           "Tomlin, Mr. Ernest Portage",
           "male"
          ],
          [
           "Fry, Mr. Richard",
           "male"
          ],
          [
           "Heininen, Miss. Wendla Maria",
           "female"
          ],
          [
           "Mallet, Mr. Albert",
           "male"
          ],
          [
           "Holm, Mr. John Fredrik Alexander",
           "male"
          ],
          [
           "Skoog, Master. Karl Thorsten",
           "male"
          ],
          [
           "Hays, Mrs. Charles Melville (Clara Jennings Gregg)",
           "female"
          ],
          [
           "Lulic, Mr. Nikola",
           "male"
          ],
          [
           "Reuchlin, Jonkheer. John George",
           "male"
          ],
          [
           "Moor, Mrs. (Beila)",
           "female"
          ],
          [
           "Panula, Master. Urho Abraham",
           "male"
          ],
          [
           "Flynn, Mr. John",
           "male"
          ],
          [
           "Lam, Mr. Len",
           "male"
          ],
          [
           "Mallet, Master. Andre",
           "male"
          ],
          [
           "McCormack, Mr. Thomas Joseph",
           "male"
          ],
          [
           "Stone, Mrs. George Nelson (Martha Evelyn)",
           "female"
          ],
          [
           "Yasbeck, Mrs. Antoni (Selini Alexander)",
           "female"
          ],
          [
           "Richards, Master. George Sibley",
           "male"
          ],
          [
           "Saad, Mr. Amin",
           "male"
          ],
          [
           "Augustsson, Mr. Albert",
           "male"
          ],
          [
           "Allum, Mr. Owen George",
           "male"
          ],
          [
           "Compton, Miss. Sara Rebecca",
           "female"
          ],
          [
           "Pasic, Mr. Jakob",
           "male"
          ],
          [
           "Sirota, Mr. Maurice",
           "male"
          ],
          [
           "Chip, Mr. Chang",
           "male"
          ],
          [
           "Marechal, Mr. Pierre",
           "male"
          ],
          [
           "Alhomaki, Mr. Ilmari Rudolf",
           "male"
          ],
          [
           "Mudd, Mr. Thomas Charles",
           "male"
          ],
          [
           "Serepeca, Miss. Augusta",
           "female"
          ],
          [
           "Lemberopolous, Mr. Peter L",
           "male"
          ],
          [
           "Culumovic, Mr. Jeso",
           "male"
          ],
          [
           "Abbing, Mr. Anthony",
           "male"
          ],
          [
           "Sage, Mr. Douglas Bullen",
           "male"
          ],
          [
           "Markoff, Mr. Marin",
           "male"
          ],
          [
           "Harper, Rev. John",
           "male"
          ],
          [
           "Goldenberg, Mrs. Samuel L (Edwiga Grabowska)",
           "female"
          ],
          [
           "Andersson, Master. Sigvard Harald Elias",
           "male"
          ],
          [
           "Svensson, Mr. Johan",
           "male"
          ],
          [
           "Boulos, Miss. Nourelain",
           "female"
          ],
          [
           "Lines, Miss. Mary Conover",
           "female"
          ],
          [
           "Carter, Mrs. Ernest Courtenay (Lilian Hughes)",
           "female"
          ],
          [
           "Aks, Mrs. Sam (Leah Rosen)",
           "female"
          ],
          [
           "Wick, Mrs. George Dennick (Mary Hitchcock)",
           "female"
          ],
          [
           "Daly, Mr. Peter Denis ",
           "male"
          ],
          [
           "Baclini, Mrs. Solomon (Latifa Qurban)",
           "female"
          ],
          [
           "Razi, Mr. Raihed",
           "male"
          ],
          [
           "Hansen, Mr. Claus Peter",
           "male"
          ],
          [
           "Giles, Mr. Frederick Edward",
           "male"
          ],
          [
           "Swift, Mrs. Frederick Joel (Margaret Welles Barron)",
           "female"
          ],
          [
           "Sage, Miss. Dorothy Edith \"Dolly\"",
           "female"
          ],
          [
           "Gill, Mr. John William",
           "male"
          ],
          [
           "Bystrom, Mrs. (Karolina)",
           "female"
          ],
          [
           "Duran y More, Miss. Asuncion",
           "female"
          ],
          [
           "Roebling, Mr. Washington Augustus II",
           "male"
          ],
          [
           "van Melkebeke, Mr. Philemon",
           "male"
          ],
          [
           "Johnson, Master. Harold Theodor",
           "male"
          ],
          [
           "Balkic, Mr. Cerin",
           "male"
          ],
          [
           "Beckwith, Mrs. Richard Leonard (Sallie Monypeny)",
           "female"
          ],
          [
           "Carlsson, Mr. Frans Olof",
           "male"
          ],
          [
           "Vander Cruyssen, Mr. Victor",
           "male"
          ],
          [
           "Abelson, Mrs. Samuel (Hannah Wizosky)",
           "female"
          ],
          [
           "Najib, Miss. Adele Kiamie \"Jane\"",
           "female"
          ],
          [
           "Gustafsson, Mr. Alfred Ossian",
           "male"
          ],
          [
           "Petroff, Mr. Nedelio",
           "male"
          ],
          [
           "Laleff, Mr. Kristo",
           "male"
          ],
          [
           "Potter, Mrs. Thomas Jr (Lily Alexenia Wilson)",
           "female"
          ],
          [
           "Shelley, Mrs. William (Imanita Parrish Hall)",
           "female"
          ],
          [
           "Markun, Mr. Johann",
           "male"
          ],
          [
           "Dahlberg, Miss. Gerda Ulrika",
           "female"
          ],
          [
           "Banfield, Mr. Frederick James",
           "male"
          ],
          [
           "Sutehall, Mr. Henry Jr",
           "male"
          ],
          [
           "Rice, Mrs. William (Margaret Norton)",
           "female"
          ],
          [
           "Montvila, Rev. Juozas",
           "male"
          ],
          [
           "Graham, Miss. Margaret Edith",
           "female"
          ],
          [
           "Johnston, Miss. Catherine Helen \"Carrie\"",
           "female"
          ],
          [
           "Behr, Mr. Karl Howell",
           "male"
          ],
          [
           "Dooley, Mr. Patrick",
           "male"
          ]
         ],
         "hovertemplate": "Age=%{x}<br>Fare=%{y}<br>Name=%{customdata[0]}<br>Sex=%{customdata[1]}<extra></extra>",
         "legendgroup": "",
         "marker": {
          "color": "#3182bd",
          "symbol": "circle"
         },
         "mode": "markers",
         "name": "",
         "orientation": "v",
         "showlegend": false,
         "type": "scatter",
         "x": {
          "bdata": "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",
          "dtype": "f8"
         },
         "xaxis": "x",
         "y": {
          "bdata": "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",
          "dtype": "f8"
         },
         "yaxis": "y"
        }
       ],
       "layout": {
        "legend": {
         "tracegroupgap": 0
        },
        "margin": {
         "t": 60
        },
        "template": {
         "data": {
          "bar": [
           {
            "error_x": {
             "color": "#2a3f5f"
            },
            "error_y": {
             "color": "#2a3f5f"
            },
            "marker": {
             "line": {
              "color": "white",
              "width": 0.5
             },
             "pattern": {
              "fillmode": "overlay",
              "size": 10,
              "solidity": 0.2
             }
            },
            "type": "bar"
           }
          ],
          "barpolar": [
           {
            "marker": {
             "line": {
              "color": "white",
              "width": 0.5
             },
             "pattern": {
              "fillmode": "overlay",
              "size": 10,
              "solidity": 0.2
             }
            },
            "type": "barpolar"
           }
          ],
          "carpet": [
           {
            "aaxis": {
             "endlinecolor": "#2a3f5f",
             "gridcolor": "#C8D4E3",
             "linecolor": "#C8D4E3",
             "minorgridcolor": "#C8D4E3",
             "startlinecolor": "#2a3f5f"
            },
            "baxis": {
             "endlinecolor": "#2a3f5f",
             "gridcolor": "#C8D4E3",
             "linecolor": "#C8D4E3",
             "minorgridcolor": "#C8D4E3",
             "startlinecolor": "#2a3f5f"
            },
            "type": "carpet"
           }
          ],
          "choropleth": [
           {
            "colorbar": {
             "outlinewidth": 0,
             "ticks": ""
            },
            "type": "choropleth"
           }
          ],
          "contour": [
           {
            "colorbar": {
             "outlinewidth": 0,
             "ticks": ""
            },
            "colorscale": [
             [
              0,
              "#0d0887"
             ],
             [
              0.1111111111111111,
              "#46039f"
             ],
             [
              0.2222222222222222,
              "#7201a8"
             ],
             [
              0.3333333333333333,
              "#9c179e"
             ],
             [
              0.4444444444444444,
              "#bd3786"
             ],
             [
              0.5555555555555556,
              "#d8576b"
             ],
             [
              0.6666666666666666,
              "#ed7953"
             ],
             [
              0.7777777777777778,
              "#fb9f3a"
             ],
             [
              0.8888888888888888,
              "#fdca26"
             ],
             [
              1,
              "#f0f921"
             ]
            ],
            "type": "contour"
           }
          ],
          "contourcarpet": [
           {
            "colorbar": {
             "outlinewidth": 0,
             "ticks": ""
            },
            "type": "contourcarpet"
           }
          ],
          "heatmap": [
           {
            "colorbar": {
             "outlinewidth": 0,
             "ticks": ""
            },
            "colorscale": [
             [
              0,
              "#0d0887"
             ],
             [
              0.1111111111111111,
              "#46039f"
             ],
             [
              0.2222222222222222,
              "#7201a8"
             ],
             [
              0.3333333333333333,
              "#9c179e"
             ],
             [
              0.4444444444444444,
              "#bd3786"
             ],
             [
              0.5555555555555556,
              "#d8576b"
             ],
             [
              0.6666666666666666,
              "#ed7953"
             ],
             [
              0.7777777777777778,
              "#fb9f3a"
             ],
             [
              0.8888888888888888,
              "#fdca26"
             ],
             [
              1,
              "#f0f921"
             ]
            ],
            "type": "heatmap"
           }
          ],
          "histogram": [
           {
            "marker": {
             "pattern": {
              "fillmode": "overlay",
              "size": 10,
              "solidity": 0.2
             }
            },
            "type": "histogram"
           }
          ],
          "histogram2d": [
           {
            "colorbar": {
             "outlinewidth": 0,
             "ticks": ""
            },
            "colorscale": [
             [
              0,
              "#0d0887"
             ],
             [
              0.1111111111111111,
              "#46039f"
             ],
             [
              0.2222222222222222,
              "#7201a8"
             ],
             [
              0.3333333333333333,
              "#9c179e"
             ],
             [
              0.4444444444444444,
              "#bd3786"
             ],
             [
              0.5555555555555556,
              "#d8576b"
             ],
             [
              0.6666666666666666,
              "#ed7953"
             ],
             [
              0.7777777777777778,
              "#fb9f3a"
             ],
             [
              0.8888888888888888,
              "#fdca26"
             ],
             [
              1,
              "#f0f921"
             ]
            ],
            "type": "histogram2d"
           }
          ],
          "histogram2dcontour": [
           {
            "colorbar": {
             "outlinewidth": 0,
             "ticks": ""
            },
            "colorscale": [
             [
              0,
              "#0d0887"
             ],
             [
              0.1111111111111111,
              "#46039f"
             ],
             [
              0.2222222222222222,
              "#7201a8"
             ],
             [
              0.3333333333333333,
              "#9c179e"
             ],
             [
              0.4444444444444444,
              "#bd3786"
             ],
             [
              0.5555555555555556,
              "#d8576b"
             ],
             [
              0.6666666666666666,
              "#ed7953"
             ],
             [
              0.7777777777777778,
              "#fb9f3a"
             ],
             [
              0.8888888888888888,
              "#fdca26"
             ],
             [
              1,
              "#f0f921"
             ]
            ],
            "type": "histogram2dcontour"
           }
          ],
          "mesh3d": [
           {
            "colorbar": {
             "outlinewidth": 0,
             "ticks": ""
            },
            "type": "mesh3d"
           }
          ],
          "parcoords": [
           {
            "line": {
             "colorbar": {
              "outlinewidth": 0,
              "ticks": ""
             }
            },
            "type": "parcoords"
           }
          ],
          "pie": [
           {
            "automargin": true,
            "type": "pie"
           }
          ],
          "scatter": [
           {
            "fillpattern": {
             "fillmode": "overlay",
             "size": 10,
             "solidity": 0.2
            },
            "type": "scatter"
           }
          ],
          "scatter3d": [
           {
            "line": {
             "colorbar": {
              "outlinewidth": 0,
              "ticks": ""
             }
            },
            "marker": {
             "colorbar": {
              "outlinewidth": 0,
              "ticks": ""
             }
            },
            "type": "scatter3d"
           }
          ],
          "scattercarpet": [
           {
            "marker": {
             "colorbar": {
              "outlinewidth": 0,
              "ticks": ""
             }
            },
            "type": "scattercarpet"
           }
          ],
          "scattergeo": [
           {
            "marker": {
             "colorbar": {
              "outlinewidth": 0,
              "ticks": ""
             }
            },
            "type": "scattergeo"
           }
          ],
          "scattergl": [
           {
            "marker": {
             "colorbar": {
              "outlinewidth": 0,
              "ticks": ""
             }
            },
            "type": "scattergl"
           }
          ],
          "scattermap": [
           {
            "marker": {
             "colorbar": {
              "outlinewidth": 0,
              "ticks": ""
             }
            },
            "type": "scattermap"
           }
          ],
          "scattermapbox": [
           {
            "marker": {
             "colorbar": {
              "outlinewidth": 0,
              "ticks": ""
             }
            },
            "type": "scattermapbox"
           }
          ],
          "scatterpolar": [
           {
            "marker": {
             "colorbar": {
              "outlinewidth": 0,
              "ticks": ""
             }
            },
            "type": "scatterpolar"
           }
          ],
          "scatterpolargl": [
           {
            "marker": {
             "colorbar": {
              "outlinewidth": 0,
              "ticks": ""
             }
            },
            "type": "scatterpolargl"
           }
          ],
          "scatterternary": [
           {
            "marker": {
             "colorbar": {
              "outlinewidth": 0,
              "ticks": ""
             }
            },
            "type": "scatterternary"
           }
          ],
          "surface": [
           {
            "colorbar": {
             "outlinewidth": 0,
             "ticks": ""
            },
            "colorscale": [
             [
              0,
              "#0d0887"
             ],
             [
              0.1111111111111111,
              "#46039f"
             ],
             [
              0.2222222222222222,
              "#7201a8"
             ],
             [
              0.3333333333333333,
              "#9c179e"
             ],
             [
              0.4444444444444444,
              "#bd3786"
             ],
             [
              0.5555555555555556,
              "#d8576b"
             ],
             [
              0.6666666666666666,
              "#ed7953"
             ],
             [
              0.7777777777777778,
              "#fb9f3a"
             ],
             [
              0.8888888888888888,
              "#fdca26"
             ],
             [
              1,
              "#f0f921"
             ]
            ],
            "type": "surface"
           }
          ],
          "table": [
           {
            "cells": {
             "fill": {
              "color": "#EBF0F8"
             },
             "line": {
              "color": "white"
             }
            },
            "header": {
             "fill": {
              "color": "#C8D4E3"
             },
             "line": {
              "color": "white"
             }
            },
            "type": "table"
           }
          ]
         },
         "layout": {
          "annotationdefaults": {
           "arrowcolor": "#2a3f5f",
           "arrowhead": 0,
           "arrowwidth": 1
          },
          "autotypenumbers": "strict",
          "coloraxis": {
           "colorbar": {
            "outlinewidth": 0,
            "ticks": ""
           }
          },
          "colorscale": {
           "diverging": [
            [
             0,
             "#8e0152"
            ],
            [
             0.1,
             "#c51b7d"
            ],
            [
             0.2,
             "#de77ae"
            ],
            [
             0.3,
             "#f1b6da"
            ],
            [
             0.4,
             "#fde0ef"
            ],
            [
             0.5,
             "#f7f7f7"
            ],
            [
             0.6,
             "#e6f5d0"
            ],
            [
             0.7,
             "#b8e186"
            ],
            [
             0.8,
             "#7fbc41"
            ],
            [
             0.9,
             "#4d9221"
            ],
            [
             1,
             "#276419"
            ]
           ],
           "sequential": [
            [
             0,
             "#0d0887"
            ],
            [
             0.1111111111111111,
             "#46039f"
            ],
            [
             0.2222222222222222,
             "#7201a8"
            ],
            [
             0.3333333333333333,
             "#9c179e"
            ],
            [
             0.4444444444444444,
             "#bd3786"
            ],
            [
             0.5555555555555556,
             "#d8576b"
            ],
            [
             0.6666666666666666,
             "#ed7953"
            ],
            [
             0.7777777777777778,
             "#fb9f3a"
            ],
            [
             0.8888888888888888,
             "#fdca26"
            ],
            [
             1,
             "#f0f921"
            ]
           ],
           "sequentialminus": [
            [
             0,
             "#0d0887"
            ],
            [
             0.1111111111111111,
             "#46039f"
            ],
            [
             0.2222222222222222,
             "#7201a8"
            ],
            [
             0.3333333333333333,
             "#9c179e"
            ],
            [
             0.4444444444444444,
             "#bd3786"
            ],
            [
             0.5555555555555556,
             "#d8576b"
            ],
            [
             0.6666666666666666,
             "#ed7953"
            ],
            [
             0.7777777777777778,
             "#fb9f3a"
            ],
            [
             0.8888888888888888,
             "#fdca26"
            ],
            [
             1,
             "#f0f921"
            ]
           ]
          },
          "colorway": [
           "#636efa",
           "#EF553B",
           "#00cc96",
           "#ab63fa",
           "#FFA15A",
           "#19d3f3",
           "#FF6692",
           "#B6E880",
           "#FF97FF",
           "#FECB52"
          ],
          "font": {
           "color": "#2a3f5f"
          },
          "geo": {
           "bgcolor": "white",
           "lakecolor": "white",
           "landcolor": "white",
           "showlakes": true,
           "showland": true,
           "subunitcolor": "#C8D4E3"
          },
          "hoverlabel": {
           "align": "left"
          },
          "hovermode": "closest",
          "mapbox": {
           "style": "light"
          },
          "paper_bgcolor": "white",
          "plot_bgcolor": "white",
          "polar": {
           "angularaxis": {
            "gridcolor": "#EBF0F8",
            "linecolor": "#EBF0F8",
            "ticks": ""
           },
           "bgcolor": "white",
           "radialaxis": {
            "gridcolor": "#EBF0F8",
            "linecolor": "#EBF0F8",
            "ticks": ""
           }
          },
          "scene": {
           "xaxis": {
            "backgroundcolor": "white",
            "gridcolor": "#DFE8F3",
            "gridwidth": 2,
            "linecolor": "#EBF0F8",
            "showbackground": true,
            "ticks": "",
            "zerolinecolor": "#EBF0F8"
           },
           "yaxis": {
            "backgroundcolor": "white",
            "gridcolor": "#DFE8F3",
            "gridwidth": 2,
            "linecolor": "#EBF0F8",
            "showbackground": true,
            "ticks": "",
            "zerolinecolor": "#EBF0F8"
           },
           "zaxis": {
            "backgroundcolor": "white",
            "gridcolor": "#DFE8F3",
            "gridwidth": 2,
            "linecolor": "#EBF0F8",
            "showbackground": true,
            "ticks": "",
            "zerolinecolor": "#EBF0F8"
           }
          },
          "shapedefaults": {
           "line": {
            "color": "#2a3f5f"
           }
          },
          "ternary": {
           "aaxis": {
            "gridcolor": "#DFE8F3",
            "linecolor": "#A2B1C6",
            "ticks": ""
           },
           "baxis": {
            "gridcolor": "#DFE8F3",
            "linecolor": "#A2B1C6",
            "ticks": ""
           },
           "bgcolor": "white",
           "caxis": {
            "gridcolor": "#DFE8F3",
            "linecolor": "#A2B1C6",
            "ticks": ""
           }
          },
          "title": {
           "x": 0.05
          },
          "xaxis": {
           "automargin": true,
           "gridcolor": "#EBF0F8",
           "linecolor": "#EBF0F8",
           "ticks": "",
           "title": {
            "standoff": 15
           },
           "zerolinecolor": "#EBF0F8",
           "zerolinewidth": 2
          },
          "yaxis": {
           "automargin": true,
           "gridcolor": "#EBF0F8",
           "linecolor": "#EBF0F8",
           "ticks": "",
           "title": {
            "standoff": 15
           },
           "zerolinecolor": "#EBF0F8",
           "zerolinewidth": 2
          }
         }
        },
        "xaxis": {
         "anchor": "y",
         "domain": [
          0,
          1
         ],
         "title": {
          "text": "Age"
         }
        },
        "yaxis": {
         "anchor": "x",
         "domain": [
          0,
          1
         ],
         "title": {
          "text": "Fare"
         },
         "type": "log"
        }
       }
      }
     },
     "metadata": {},
     "output_type": "display_data"
    }
   ],
   "source": [
    "fig = px.scatter(data_frame=df,\n",
    "                 x='Age',\n",
    "                 y='Fare',\n",
    "                 hover_data=['Name', 'Sex'],\n",
    "                 template='plotly_white',\n",
    "                 color_discrete_sequence=['#3182bd'],\n",
    "                 log_y=True)\n",
    "fig.show()"
   ]
  },
  {
   "cell_type": "markdown",
   "id": "a3a70154-a985-4850-b54e-0f5495f33de4",
   "metadata": {},
   "source": [
    "## Bar Charts\n",
    "\n",
    "We can create some [interesting bar chart variations](https://plot.ly/python/bar-charts/):"
   ]
  },
  {
   "cell_type": "code",
   "execution_count": 6,
   "id": "cb9cfa9b-6357-4031-b873-7efa71c08710",
   "metadata": {},
   "outputs": [
    {
     "data": {
      "application/vnd.plotly.v1+json": {
       "config": {
        "plotlyServerURL": "https://plot.ly"
       },
       "data": [
        {
         "bingroup": "y",
         "histfunc": "avg",
         "hovertemplate": "avg of Age=%{x}<br>Sex=%{y}<extra></extra>",
         "legendgroup": "",
         "marker": {
          "color": "#1F77B4",
          "pattern": {
           "shape": ""
          }
         },
         "name": "",
         "orientation": "h",
         "showlegend": false,
         "type": "histogram",
         "x": {
          "bdata": "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",
          "dtype": "f8"
         },
         "xaxis": "x",
         "y": [
          "male",
          "female",
          "female",
          "female",
          "male",
          "male",
          "male",
          "male",
          "female",
          "female",
          "female",
          "female",
          "male",
          "male",
          "female",
          "female",
          "male",
          "male",
          "female",
          "female",
          "male",
          "male",
          "female",
          "male",
          "female",
          "female",
          "male",
          "male",
          "female",
          "male",
          "male",
          "female",
          "female",
          "male",
          "male",
          "male",
          "male",
          "male",
          "female",
          "female",
          "female",
          "female",
          "male",
          "female",
          "female",
          "male",
          "male",
          "female",
          "male",
          "female",
          "male",
          "male",
          "female",
          "female",
          "male",
          "male",
          "female",
          "male",
          "female",
          "male",
          "male",
          "female",
          "male",
          "male",
          "male",
          "male",
          "female",
          "male",
          "female",
          "male",
          "male",
          "female",
          "male",
          "male",
          "male",
          "male",
          "male",
          "male",
          "male",
          "female",
          "male",
          "male",
          "female",
          "male",
          "female",
          "female",
          "male",
          "male",
          "female",
          "male",
          "male",
          "male",
          "male",
          "male",
          "male",
          "male",
          "male",
          "male",
          "female",
          "male",
          "female",
          "male",
          "male",
          "male",
          "male",
          "male",
          "female",
          "male",
          "male",
          "female",
          "male",
          "female",
          "male",
          "female",
          "female",
          "male",
          "male",
          "male",
          "male",
          "female",
          "male",
          "male",
          "male",
          "female",
          "male",
          "male",
          "male",
          "male",
          "female",
          "male",
          "male",
          "male",
          "female",
          "female",
          "male",
          "male",
          "female",
          "male",
          "male",
          "male",
          "female",
          "female",
          "female",
          "male",
          "male",
          "male",
          "male",
          "female",
          "male",
          "male",
          "male",
          "female",
          "male",
          "male",
          "male",
          "male",
          "female",
          "male",
          "male",
          "male",
          "male",
          "female",
          "male",
          "male",
          "male",
          "male",
          "female",
          "female",
          "male",
          "male",
          "male",
          "male",
          "female",
          "male",
          "male",
          "male",
          "male",
          "female",
          "male",
          "male",
          "female",
          "male",
          "male",
          "male",
          "female",
          "male",
          "female",
          "male",
          "male",
          "male",
          "female",
          "male",
          "female",
          "male",
          "female",
          "female",
          "male",
          "male",
          "female",
          "female",
          "male",
          "male",
          "male",
          "male",
          "male",
          "female",
          "male",
          "male",
          "female",
          "male",
          "male",
          "female",
          "male",
          "male",
          "male",
          "female",
          "female",
          "male",
          "female",
          "male",
          "male",
          "male",
          "male",
          "male",
          "male",
          "male",
          "male",
          "male",
          "male",
          "female",
          "female",
          "male",
          "male",
          "female",
          "male",
          "female",
          "male",
          "female",
          "male",
          "male",
          "female",
          "female",
          "male",
          "male",
          "male",
          "male",
          "female",
          "female",
          "male",
          "male",
          "male",
          "female",
          "male",
          "male",
          "female",
          "female",
          "female",
          "female",
          "female",
          "female",
          "male",
          "male",
          "male",
          "male",
          "female",
          "male",
          "male",
          "male",
          "female",
          "female",
          "male",
          "male",
          "female",
          "male",
          "female",
          "female",
          "female",
          "male",
          "male",
          "female",
          "male",
          "male",
          "male",
          "male",
          "male",
          "male",
          "male",
          "male",
          "male",
          "female",
          "female",
          "female",
          "male",
          "female",
          "male",
          "male",
          "male",
          "female",
          "male",
          "female",
          "female",
          "male",
          "male",
          "female",
          "male",
          "male",
          "female",
          "female",
          "male",
          "female",
          "female",
          "female",
          "female",
          "male",
          "male",
          "female",
          "female",
          "male",
          "female",
          "female",
          "male",
          "male",
          "female",
          "female",
          "male",
          "female",
          "male",
          "female",
          "female",
          "female",
          "female",
          "male",
          "male",
          "male",
          "female",
          "male",
          "male",
          "female",
          "male",
          "male",
          "male",
          "female",
          "male",
          "male",
          "male",
          "female",
          "female",
          "female",
          "male",
          "male",
          "male",
          "male",
          "male",
          "male",
          "male",
          "male",
          "female",
          "female",
          "female",
          "female",
          "male",
          "male",
          "female",
          "male",
          "male",
          "male",
          "female",
          "female",
          "female",
          "female",
          "male",
          "male",
          "male",
          "male",
          "female",
          "female",
          "female",
          "male",
          "male",
          "male",
          "female",
          "female",
          "male",
          "female",
          "male",
          "male",
          "male",
          "female",
          "male",
          "female",
          "male",
          "male",
          "male",
          "female",
          "female",
          "male",
          "female",
          "male",
          "male",
          "female",
          "male",
          "male",
          "female",
          "male",
          "female",
          "male",
          "male",
          "male",
          "male",
          "female",
          "male",
          "male",
          "female",
          "male",
          "male",
          "female",
          "female",
          "female",
          "male",
          "female",
          "male",
          "male",
          "male",
          "female",
          "male",
          "male",
          "female",
          "female",
          "male",
          "male",
          "male",
          "female",
          "female",
          "male",
          "male",
          "female",
          "female",
          "female",
          "male",
          "male",
          "female",
          "male",
          "male",
          "female",
          "male",
          "male",
          "female",
          "male",
          "female",
          "male",
          "male",
          "male",
          "male",
          "male",
          "male",
          "male",
          "male",
          "female",
          "female",
          "male",
          "male",
          "male",
          "male",
          "male",
          "male",
          "male",
          "male",
          "male",
          "male",
          "female",
          "male",
          "male",
          "female",
          "female",
          "female",
          "male",
          "male",
          "male",
          "male",
          "female",
          "male",
          "male",
          "male",
          "female",
          "male",
          "female",
          "female",
          "male",
          "male",
          "male",
          "male",
          "male",
          "male",
          "male",
          "male",
          "male",
          "female",
          "male",
          "female",
          "male",
          "male",
          "female",
          "female",
          "female",
          "female",
          "male",
          "female",
          "male",
          "male",
          "male",
          "male",
          "male",
          "male",
          "female",
          "male",
          "male",
          "female",
          "male",
          "female",
          "male",
          "female",
          "male",
          "male",
          "female",
          "male",
          "male",
          "female",
          "male",
          "male",
          "male",
          "female",
          "male",
          "male",
          "female",
          "female",
          "female",
          "male",
          "female",
          "male",
          "female",
          "female",
          "female",
          "female",
          "male",
          "male",
          "male",
          "female",
          "male",
          "male",
          "male",
          "male",
          "male",
          "male",
          "male",
          "female",
          "male",
          "female",
          "male",
          "female",
          "female",
          "male",
          "male",
          "male",
          "male",
          "female",
          "male",
          "male",
          "female",
          "male",
          "male",
          "male",
          "female",
          "male",
          "female",
          "male",
          "male",
          "female",
          "female",
          "female",
          "male",
          "female",
          "female",
          "male",
          "male",
          "male",
          "female",
          "male",
          "male",
          "male",
          "male",
          "male",
          "female",
          "male",
          "female",
          "male",
          "male",
          "female",
          "male",
          "male",
          "male",
          "female",
          "male",
          "male",
          "male",
          "male",
          "male",
          "male",
          "male",
          "female",
          "female",
          "female",
          "male",
          "female",
          "male",
          "male",
          "female",
          "male",
          "female",
          "female",
          "male",
          "male",
          "male",
          "male",
          "male",
          "male",
          "male",
          "male",
          "female",
          "male",
          "male",
          "male",
          "male",
          "male",
          "male",
          "female",
          "female",
          "male",
          "male",
          "female",
          "male",
          "male",
          "female",
          "female",
          "male",
          "female",
          "male",
          "male",
          "male",
          "male",
          "female",
          "male",
          "female",
          "male",
          "female",
          "female",
          "male",
          "male",
          "female",
          "male",
          "male",
          "male",
          "male",
          "male",
          "male",
          "male",
          "male",
          "male",
          "male",
          "male",
          "female",
          "female",
          "male",
          "male",
          "male",
          "male",
          "male",
          "male",
          "female",
          "female",
          "male",
          "female",
          "male",
          "male",
          "male",
          "male",
          "male",
          "male",
          "male",
          "male",
          "female",
          "male",
          "female",
          "male",
          "male",
          "male",
          "male",
          "male",
          "female",
          "male",
          "male",
          "female",
          "male",
          "female",
          "male",
          "male",
          "male",
          "female",
          "male",
          "female",
          "male",
          "female",
          "male",
          "male",
          "male",
          "male",
          "male",
          "female",
          "female",
          "male",
          "male",
          "female",
          "male",
          "male",
          "male",
          "male",
          "male",
          "female",
          "female",
          "male",
          "female",
          "female",
          "male",
          "male",
          "male",
          "male",
          "male",
          "female",
          "male",
          "male",
          "male",
          "male",
          "male",
          "female",
          "male",
          "male",
          "male",
          "male",
          "female",
          "male",
          "male",
          "female",
          "male",
          "male",
          "male",
          "female",
          "male",
          "male",
          "male",
          "male",
          "female",
          "male",
          "male",
          "male",
          "female",
          "male",
          "female",
          "male",
          "female",
          "male",
          "male",
          "male",
          "male",
          "female",
          "male",
          "female",
          "male",
          "male",
          "female",
          "male",
          "female",
          "female",
          "female",
          "male",
          "male",
          "male",
          "male",
          "female",
          "male",
          "male",
          "male",
          "male",
          "male",
          "female",
          "male",
          "male",
          "male",
          "female",
          "female",
          "male",
          "female",
          "male",
          "female",
          "male",
          "male",
          "male",
          "male",
          "male",
          "female",
          "male",
          "female",
          "male",
          "male",
          "male",
          "female",
          "male",
          "male",
          "female",
          "male",
          "male",
          "male",
          "female",
          "male",
          "male",
          "female",
          "male",
          "male",
          "male",
          "male",
          "male",
          "female",
          "female",
          "male",
          "male",
          "male",
          "male",
          "female",
          "male",
          "male",
          "male",
          "male",
          "male",
          "male",
          "female",
          "male",
          "male",
          "male",
          "male",
          "male",
          "male",
          "female",
          "male",
          "male",
          "female",
          "female",
          "female",
          "female",
          "female",
          "male",
          "female",
          "male",
          "male",
          "male",
          "female",
          "female",
          "male",
          "female",
          "female",
          "male",
          "male",
          "male",
          "male",
          "female",
          "male",
          "male",
          "female",
          "female",
          "male",
          "male",
          "male",
          "female",
          "female",
          "male",
          "female",
          "male",
          "male",
          "female",
          "male",
          "female",
          "female",
          "male",
          "male"
         ],
         "yaxis": "y"
        }
       ],
       "layout": {
        "barmode": "relative",
        "legend": {
         "tracegroupgap": 0
        },
        "margin": {
         "t": 60
        },
        "template": {
         "data": {
          "bar": [
           {
            "error_x": {
             "color": "#2a3f5f"
            },
            "error_y": {
             "color": "#2a3f5f"
            },
            "marker": {
             "line": {
              "color": "white",
              "width": 0.5
             },
             "pattern": {
              "fillmode": "overlay",
              "size": 10,
              "solidity": 0.2
             }
            },
            "type": "bar"
           }
          ],
          "barpolar": [
           {
            "marker": {
             "line": {
              "color": "white",
              "width": 0.5
             },
             "pattern": {
              "fillmode": "overlay",
              "size": 10,
              "solidity": 0.2
             }
            },
            "type": "barpolar"
           }
          ],
          "carpet": [
           {
            "aaxis": {
             "endlinecolor": "#2a3f5f",
             "gridcolor": "#C8D4E3",
             "linecolor": "#C8D4E3",
             "minorgridcolor": "#C8D4E3",
             "startlinecolor": "#2a3f5f"
            },
            "baxis": {
             "endlinecolor": "#2a3f5f",
             "gridcolor": "#C8D4E3",
             "linecolor": "#C8D4E3",
             "minorgridcolor": "#C8D4E3",
             "startlinecolor": "#2a3f5f"
            },
            "type": "carpet"
           }
          ],
          "choropleth": [
           {
            "colorbar": {
             "outlinewidth": 0,
             "ticks": ""
            },
            "type": "choropleth"
           }
          ],
          "contour": [
           {
            "colorbar": {
             "outlinewidth": 0,
             "ticks": ""
            },
            "colorscale": [
             [
              0,
              "#0d0887"
             ],
             [
              0.1111111111111111,
              "#46039f"
             ],
             [
              0.2222222222222222,
              "#7201a8"
             ],
             [
              0.3333333333333333,
              "#9c179e"
             ],
             [
              0.4444444444444444,
              "#bd3786"
             ],
             [
              0.5555555555555556,
              "#d8576b"
             ],
             [
              0.6666666666666666,
              "#ed7953"
             ],
             [
              0.7777777777777778,
              "#fb9f3a"
             ],
             [
              0.8888888888888888,
              "#fdca26"
             ],
             [
              1,
              "#f0f921"
             ]
            ],
            "type": "contour"
           }
          ],
          "contourcarpet": [
           {
            "colorbar": {
             "outlinewidth": 0,
             "ticks": ""
            },
            "type": "contourcarpet"
           }
          ],
          "heatmap": [
           {
            "colorbar": {
             "outlinewidth": 0,
             "ticks": ""
            },
            "colorscale": [
             [
              0,
              "#0d0887"
             ],
             [
              0.1111111111111111,
              "#46039f"
             ],
             [
              0.2222222222222222,
              "#7201a8"
             ],
             [
              0.3333333333333333,
              "#9c179e"
             ],
             [
              0.4444444444444444,
              "#bd3786"
             ],
             [
              0.5555555555555556,
              "#d8576b"
             ],
             [
              0.6666666666666666,
              "#ed7953"
             ],
             [
              0.7777777777777778,
              "#fb9f3a"
             ],
             [
              0.8888888888888888,
              "#fdca26"
             ],
             [
              1,
              "#f0f921"
             ]
            ],
            "type": "heatmap"
           }
          ],
          "histogram": [
           {
            "marker": {
             "pattern": {
              "fillmode": "overlay",
              "size": 10,
              "solidity": 0.2
             }
            },
            "type": "histogram"
           }
          ],
          "histogram2d": [
           {
            "colorbar": {
             "outlinewidth": 0,
             "ticks": ""
            },
            "colorscale": [
             [
              0,
              "#0d0887"
             ],
             [
              0.1111111111111111,
              "#46039f"
             ],
             [
              0.2222222222222222,
              "#7201a8"
             ],
             [
              0.3333333333333333,
              "#9c179e"
             ],
             [
              0.4444444444444444,
              "#bd3786"
             ],
             [
              0.5555555555555556,
              "#d8576b"
             ],
             [
              0.6666666666666666,
              "#ed7953"
             ],
             [
              0.7777777777777778,
              "#fb9f3a"
             ],
             [
              0.8888888888888888,
              "#fdca26"
             ],
             [
              1,
              "#f0f921"
             ]
            ],
            "type": "histogram2d"
           }
          ],
          "histogram2dcontour": [
           {
            "colorbar": {
             "outlinewidth": 0,
             "ticks": ""
            },
            "colorscale": [
             [
              0,
              "#0d0887"
             ],
             [
              0.1111111111111111,
              "#46039f"
             ],
             [
              0.2222222222222222,
              "#7201a8"
             ],
             [
              0.3333333333333333,
              "#9c179e"
             ],
             [
              0.4444444444444444,
              "#bd3786"
             ],
             [
              0.5555555555555556,
              "#d8576b"
             ],
             [
              0.6666666666666666,
              "#ed7953"
             ],
             [
              0.7777777777777778,
              "#fb9f3a"
             ],
             [
              0.8888888888888888,
              "#fdca26"
             ],
             [
              1,
              "#f0f921"
             ]
            ],
            "type": "histogram2dcontour"
           }
          ],
          "mesh3d": [
           {
            "colorbar": {
             "outlinewidth": 0,
             "ticks": ""
            },
            "type": "mesh3d"
           }
          ],
          "parcoords": [
           {
            "line": {
             "colorbar": {
              "outlinewidth": 0,
              "ticks": ""
             }
            },
            "type": "parcoords"
           }
          ],
          "pie": [
           {
            "automargin": true,
            "type": "pie"
           }
          ],
          "scatter": [
           {
            "fillpattern": {
             "fillmode": "overlay",
             "size": 10,
             "solidity": 0.2
            },
            "type": "scatter"
           }
          ],
          "scatter3d": [
           {
            "line": {
             "colorbar": {
              "outlinewidth": 0,
              "ticks": ""
             }
            },
            "marker": {
             "colorbar": {
              "outlinewidth": 0,
              "ticks": ""
             }
            },
            "type": "scatter3d"
           }
          ],
          "scattercarpet": [
           {
            "marker": {
             "colorbar": {
              "outlinewidth": 0,
              "ticks": ""
             }
            },
            "type": "scattercarpet"
           }
          ],
          "scattergeo": [
           {
            "marker": {
             "colorbar": {
              "outlinewidth": 0,
              "ticks": ""
             }
            },
            "type": "scattergeo"
           }
          ],
          "scattergl": [
           {
            "marker": {
             "colorbar": {
              "outlinewidth": 0,
              "ticks": ""
             }
            },
            "type": "scattergl"
           }
          ],
          "scattermap": [
           {
            "marker": {
             "colorbar": {
              "outlinewidth": 0,
              "ticks": ""
             }
            },
            "type": "scattermap"
           }
          ],
          "scattermapbox": [
           {
            "marker": {
             "colorbar": {
              "outlinewidth": 0,
              "ticks": ""
             }
            },
            "type": "scattermapbox"
           }
          ],
          "scatterpolar": [
           {
            "marker": {
             "colorbar": {
              "outlinewidth": 0,
              "ticks": ""
             }
            },
            "type": "scatterpolar"
           }
          ],
          "scatterpolargl": [
           {
            "marker": {
             "colorbar": {
              "outlinewidth": 0,
              "ticks": ""
             }
            },
            "type": "scatterpolargl"
           }
          ],
          "scatterternary": [
           {
            "marker": {
             "colorbar": {
              "outlinewidth": 0,
              "ticks": ""
             }
            },
            "type": "scatterternary"
           }
          ],
          "surface": [
           {
            "colorbar": {
             "outlinewidth": 0,
             "ticks": ""
            },
            "colorscale": [
             [
              0,
              "#0d0887"
             ],
             [
              0.1111111111111111,
              "#46039f"
             ],
             [
              0.2222222222222222,
              "#7201a8"
             ],
             [
              0.3333333333333333,
              "#9c179e"
             ],
             [
              0.4444444444444444,
              "#bd3786"
             ],
             [
              0.5555555555555556,
              "#d8576b"
             ],
             [
              0.6666666666666666,
              "#ed7953"
             ],
             [
              0.7777777777777778,
              "#fb9f3a"
             ],
             [
              0.8888888888888888,
              "#fdca26"
             ],
             [
              1,
              "#f0f921"
             ]
            ],
            "type": "surface"
           }
          ],
          "table": [
           {
            "cells": {
             "fill": {
              "color": "#EBF0F8"
             },
             "line": {
              "color": "white"
             }
            },
            "header": {
             "fill": {
              "color": "#C8D4E3"
             },
             "line": {
              "color": "white"
             }
            },
            "type": "table"
           }
          ]
         },
         "layout": {
          "annotationdefaults": {
           "arrowcolor": "#2a3f5f",
           "arrowhead": 0,
           "arrowwidth": 1
          },
          "autotypenumbers": "strict",
          "coloraxis": {
           "colorbar": {
            "outlinewidth": 0,
            "ticks": ""
           }
          },
          "colorscale": {
           "diverging": [
            [
             0,
             "#8e0152"
            ],
            [
             0.1,
             "#c51b7d"
            ],
            [
             0.2,
             "#de77ae"
            ],
            [
             0.3,
             "#f1b6da"
            ],
            [
             0.4,
             "#fde0ef"
            ],
            [
             0.5,
             "#f7f7f7"
            ],
            [
             0.6,
             "#e6f5d0"
            ],
            [
             0.7,
             "#b8e186"
            ],
            [
             0.8,
             "#7fbc41"
            ],
            [
             0.9,
             "#4d9221"
            ],
            [
             1,
             "#276419"
            ]
           ],
           "sequential": [
            [
             0,
             "#0d0887"
            ],
            [
             0.1111111111111111,
             "#46039f"
            ],
            [
             0.2222222222222222,
             "#7201a8"
            ],
            [
             0.3333333333333333,
             "#9c179e"
            ],
            [
             0.4444444444444444,
             "#bd3786"
            ],
            [
             0.5555555555555556,
             "#d8576b"
            ],
            [
             0.6666666666666666,
             "#ed7953"
            ],
            [
             0.7777777777777778,
             "#fb9f3a"
            ],
            [
             0.8888888888888888,
             "#fdca26"
            ],
            [
             1,
             "#f0f921"
            ]
           ],
           "sequentialminus": [
            [
             0,
             "#0d0887"
            ],
            [
             0.1111111111111111,
             "#46039f"
            ],
            [
             0.2222222222222222,
             "#7201a8"
            ],
            [
             0.3333333333333333,
             "#9c179e"
            ],
            [
             0.4444444444444444,
             "#bd3786"
            ],
            [
             0.5555555555555556,
             "#d8576b"
            ],
            [
             0.6666666666666666,
             "#ed7953"
            ],
            [
             0.7777777777777778,
             "#fb9f3a"
            ],
            [
             0.8888888888888888,
             "#fdca26"
            ],
            [
             1,
             "#f0f921"
            ]
           ]
          },
          "colorway": [
           "#636efa",
           "#EF553B",
           "#00cc96",
           "#ab63fa",
           "#FFA15A",
           "#19d3f3",
           "#FF6692",
           "#B6E880",
           "#FF97FF",
           "#FECB52"
          ],
          "font": {
           "color": "#2a3f5f"
          },
          "geo": {
           "bgcolor": "white",
           "lakecolor": "white",
           "landcolor": "white",
           "showlakes": true,
           "showland": true,
           "subunitcolor": "#C8D4E3"
          },
          "hoverlabel": {
           "align": "left"
          },
          "hovermode": "closest",
          "mapbox": {
           "style": "light"
          },
          "paper_bgcolor": "white",
          "plot_bgcolor": "white",
          "polar": {
           "angularaxis": {
            "gridcolor": "#EBF0F8",
            "linecolor": "#EBF0F8",
            "ticks": ""
           },
           "bgcolor": "white",
           "radialaxis": {
            "gridcolor": "#EBF0F8",
            "linecolor": "#EBF0F8",
            "ticks": ""
           }
          },
          "scene": {
           "xaxis": {
            "backgroundcolor": "white",
            "gridcolor": "#DFE8F3",
            "gridwidth": 2,
            "linecolor": "#EBF0F8",
            "showbackground": true,
            "ticks": "",
            "zerolinecolor": "#EBF0F8"
           },
           "yaxis": {
            "backgroundcolor": "white",
            "gridcolor": "#DFE8F3",
            "gridwidth": 2,
            "linecolor": "#EBF0F8",
            "showbackground": true,
            "ticks": "",
            "zerolinecolor": "#EBF0F8"
           },
           "zaxis": {
            "backgroundcolor": "white",
            "gridcolor": "#DFE8F3",
            "gridwidth": 2,
            "linecolor": "#EBF0F8",
            "showbackground": true,
            "ticks": "",
            "zerolinecolor": "#EBF0F8"
           }
          },
          "shapedefaults": {
           "line": {
            "color": "#2a3f5f"
           }
          },
          "ternary": {
           "aaxis": {
            "gridcolor": "#DFE8F3",
            "linecolor": "#A2B1C6",
            "ticks": ""
           },
           "baxis": {
            "gridcolor": "#DFE8F3",
            "linecolor": "#A2B1C6",
            "ticks": ""
           },
           "bgcolor": "white",
           "caxis": {
            "gridcolor": "#DFE8F3",
            "linecolor": "#A2B1C6",
            "ticks": ""
           }
          },
          "title": {
           "x": 0.05
          },
          "xaxis": {
           "automargin": true,
           "gridcolor": "#EBF0F8",
           "linecolor": "#EBF0F8",
           "ticks": "",
           "title": {
            "standoff": 15
           },
           "zerolinecolor": "#EBF0F8",
           "zerolinewidth": 2
          },
          "yaxis": {
           "automargin": true,
           "gridcolor": "#EBF0F8",
           "linecolor": "#EBF0F8",
           "ticks": "",
           "title": {
            "standoff": 15
           },
           "zerolinecolor": "#EBF0F8",
           "zerolinewidth": 2
          }
         }
        },
        "xaxis": {
         "anchor": "y",
         "domain": [
          0,
          1
         ],
         "title": {
          "text": "avg of Age"
         }
        },
        "yaxis": {
         "anchor": "x",
         "domain": [
          0,
          1
         ],
         "title": {
          "text": "Sex"
         }
        }
       }
      }
     },
     "metadata": {},
     "output_type": "display_data"
    }
   ],
   "source": [
    "# average age per group\n",
    "fig = px.histogram(df,  \n",
    "             y='Sex',\n",
    "             x='Age',\n",
    "             histfunc='avg',\n",
    "             hover_data=['Name'],\n",
    "             template='plotly_white',\n",
    "             color_discrete_sequence=px.colors.qualitative.D3\n",
    "            )\n",
    "fig.show()"
   ]
  },
  {
   "cell_type": "markdown",
   "id": "2bc34ff8",
   "metadata": {},
   "source": [
    "Notice, the default settings don't always do what you expect them to do ..."
   ]
  },
  {
   "cell_type": "code",
   "execution_count": 7,
   "id": "355a8a54-6e9d-4ffc-9960-251bb7d04938",
   "metadata": {
    "tags": []
   },
   "outputs": [
    {
     "data": {
      "application/vnd.plotly.v1+json": {
       "config": {
        "plotlyServerURL": "https://plot.ly"
       },
       "data": [
        {
         "customdata": [
          [
           "Braund, Mr. Owen Harris"
          ],
          [
           "Cumings, Mrs. John Bradley (Florence Briggs Thayer)"
          ],
          [
           "Heikkinen, Miss. Laina"
          ],
          [
           "Futrelle, Mrs. Jacques Heath (Lily May Peel)"
          ],
          [
           "Allen, Mr. William Henry"
          ],
          [
           "Moran, Mr. James"
          ],
          [
           "McCarthy, Mr. Timothy J"
          ],
          [
           "Palsson, Master. Gosta Leonard"
          ],
          [
           "Johnson, Mrs. Oscar W (Elisabeth Vilhelmina Berg)"
          ],
          [
           "Nasser, Mrs. Nicholas (Adele Achem)"
          ],
          [
           "Sandstrom, Miss. Marguerite Rut"
          ],
          [
           "Bonnell, Miss. Elizabeth"
          ],
          [
           "Saundercock, Mr. William Henry"
          ],
          [
           "Andersson, Mr. Anders Johan"
          ],
          [
           "Vestrom, Miss. Hulda Amanda Adolfina"
          ],
          [
           "Hewlett, Mrs. (Mary D Kingcome) "
          ],
          [
           "Rice, Master. Eugene"
          ],
          [
           "Williams, Mr. Charles Eugene"
          ],
          [
           "Vander Planke, Mrs. Julius (Emelia Maria Vandemoortele)"
          ],
          [
           "Masselmani, Mrs. Fatima"
          ],
          [
           "Fynney, Mr. Joseph J"
          ],
          [
           "Beesley, Mr. Lawrence"
          ],
          [
           "McGowan, Miss. Anna \"Annie\""
          ],
          [
           "Sloper, Mr. William Thompson"
          ],
          [
           "Palsson, Miss. Torborg Danira"
          ],
          [
           "Asplund, Mrs. Carl Oscar (Selma Augusta Emilia Johansson)"
          ],
          [
           "Emir, Mr. Farred Chehab"
          ],
          [
           "Fortune, Mr. Charles Alexander"
          ],
          [
           "O'Dwyer, Miss. Ellen \"Nellie\""
          ],
          [
           "Todoroff, Mr. Lalio"
          ],
          [
           "Uruchurtu, Don. Manuel E"
          ],
          [
           "Spencer, Mrs. William Augustus (Marie Eugenie)"
          ],
          [
           "Glynn, Miss. Mary Agatha"
          ],
          [
           "Wheadon, Mr. Edward H"
          ],
          [
           "Meyer, Mr. Edgar Joseph"
          ],
          [
           "Holverson, Mr. Alexander Oskar"
          ],
          [
           "Mamee, Mr. Hanna"
          ],
          [
           "Cann, Mr. Ernest Charles"
          ],
          [
           "Vander Planke, Miss. Augusta Maria"
          ],
          [
           "Nicola-Yarred, Miss. Jamila"
          ],
          [
           "Ahlin, Mrs. Johan (Johanna Persdotter Larsson)"
          ],
          [
           "Turpin, Mrs. William John Robert (Dorothy Ann Wonnacott)"
          ],
          [
           "Kraeff, Mr. Theodor"
          ],
          [
           "Laroche, Miss. Simonne Marie Anne Andree"
          ],
          [
           "Devaney, Miss. Margaret Delia"
          ],
          [
           "Rogers, Mr. William John"
          ],
          [
           "Lennon, Mr. Denis"
          ],
          [
           "O'Driscoll, Miss. Bridget"
          ],
          [
           "Samaan, Mr. Youssef"
          ],
          [
           "Arnold-Franchi, Mrs. Josef (Josefine Franchi)"
          ],
          [
           "Panula, Master. Juha Niilo"
          ],
          [
           "Nosworthy, Mr. Richard Cater"
          ],
          [
           "Harper, Mrs. Henry Sleeper (Myna Haxtun)"
          ],
          [
           "Faunthorpe, Mrs. Lizzie (Elizabeth Anne Wilkinson)"
          ],
          [
           "Ostby, Mr. Engelhart Cornelius"
          ],
          [
           "Woolner, Mr. Hugh"
          ],
          [
           "Rugg, Miss. Emily"
          ],
          [
           "Novel, Mr. Mansouer"
          ],
          [
           "West, Miss. Constance Mirium"
          ],
          [
           "Goodwin, Master. William Frederick"
          ],
          [
           "Sirayanian, Mr. Orsen"
          ],
          [
           "Icard, Miss. Amelie"
          ],
          [
           "Harris, Mr. Henry Birkhardt"
          ],
          [
           "Skoog, Master. Harald"
          ],
          [
           "Stewart, Mr. Albert A"
          ],
          [
           "Moubarek, Master. Gerios"
          ],
          [
           "Nye, Mrs. (Elizabeth Ramell)"
          ],
          [
           "Crease, Mr. Ernest James"
          ],
          [
           "Andersson, Miss. Erna Alexandra"
          ],
          [
           "Kink, Mr. Vincenz"
          ],
          [
           "Jenkin, Mr. Stephen Curnow"
          ],
          [
           "Goodwin, Miss. Lillian Amy"
          ],
          [
           "Hood, Mr. Ambrose Jr"
          ],
          [
           "Chronopoulos, Mr. Apostolos"
          ],
          [
           "Bing, Mr. Lee"
          ],
          [
           "Moen, Mr. Sigurd Hansen"
          ],
          [
           "Staneff, Mr. Ivan"
          ],
          [
           "Moutal, Mr. Rahamin Haim"
          ],
          [
           "Caldwell, Master. Alden Gates"
          ],
          [
           "Dowdell, Miss. Elizabeth"
          ],
          [
           "Waelens, Mr. Achille"
          ],
          [
           "Sheerlinck, Mr. Jan Baptist"
          ],
          [
           "McDermott, Miss. Brigdet Delia"
          ],
          [
           "Carrau, Mr. Francisco M"
          ],
          [
           "Ilett, Miss. Bertha"
          ],
          [
           "Backstrom, Mrs. Karl Alfred (Maria Mathilda Gustafsson)"
          ],
          [
           "Ford, Mr. William Neal"
          ],
          [
           "Slocovski, Mr. Selman Francis"
          ],
          [
           "Fortune, Miss. Mabel Helen"
          ],
          [
           "Celotti, Mr. Francesco"
          ],
          [
           "Christmann, Mr. Emil"
          ],
          [
           "Andreasson, Mr. Paul Edvin"
          ],
          [
           "Chaffee, Mr. Herbert Fuller"
          ],
          [
           "Dean, Mr. Bertram Frank"
          ],
          [
           "Coxon, Mr. Daniel"
          ],
          [
           "Shorney, Mr. Charles Joseph"
          ],
          [
           "Goldschmidt, Mr. George B"
          ],
          [
           "Greenfield, Mr. William Bertram"
          ],
          [
           "Doling, Mrs. John T (Ada Julia Bone)"
          ],
          [
           "Kantor, Mr. Sinai"
          ],
          [
           "Petranec, Miss. Matilda"
          ],
          [
           "Petroff, Mr. Pastcho (\"Pentcho\")"
          ],
          [
           "White, Mr. Richard Frasar"
          ],
          [
           "Johansson, Mr. Gustaf Joel"
          ],
          [
           "Gustafsson, Mr. Anders Vilhelm"
          ],
          [
           "Mionoff, Mr. Stoytcho"
          ],
          [
           "Salkjelsvik, Miss. Anna Kristine"
          ],
          [
           "Moss, Mr. Albert Johan"
          ],
          [
           "Rekic, Mr. Tido"
          ],
          [
           "Moran, Miss. Bertha"
          ],
          [
           "Porter, Mr. Walter Chamberlain"
          ],
          [
           "Zabour, Miss. Hileni"
          ],
          [
           "Barton, Mr. David John"
          ],
          [
           "Jussila, Miss. Katriina"
          ],
          [
           "Attalah, Miss. Malake"
          ],
          [
           "Pekoniemi, Mr. Edvard"
          ],
          [
           "Connors, Mr. Patrick"
          ],
          [
           "Turpin, Mr. William John Robert"
          ],
          [
           "Baxter, Mr. Quigg Edmond"
          ],
          [
           "Andersson, Miss. Ellis Anna Maria"
          ],
          [
           "Hickman, Mr. Stanley George"
          ],
          [
           "Moore, Mr. Leonard Charles"
          ],
          [
           "Nasser, Mr. Nicholas"
          ],
          [
           "Webber, Miss. Susan"
          ],
          [
           "White, Mr. Percival Wayland"
          ],
          [
           "Nicola-Yarred, Master. Elias"
          ],
          [
           "McMahon, Mr. Martin"
          ],
          [
           "Madsen, Mr. Fridtjof Arne"
          ],
          [
           "Peter, Miss. Anna"
          ],
          [
           "Ekstrom, Mr. Johan"
          ],
          [
           "Drazenoic, Mr. Jozef"
          ],
          [
           "Coelho, Mr. Domingos Fernandeo"
          ],
          [
           "Robins, Mrs. Alexander A (Grace Charity Laury)"
          ],
          [
           "Weisz, Mrs. Leopold (Mathilde Francoise Pede)"
          ],
          [
           "Sobey, Mr. Samuel James Hayden"
          ],
          [
           "Richard, Mr. Emile"
          ],
          [
           "Newsom, Miss. Helen Monypeny"
          ],
          [
           "Futrelle, Mr. Jacques Heath"
          ],
          [
           "Osen, Mr. Olaf Elon"
          ],
          [
           "Giglio, Mr. Victor"
          ],
          [
           "Boulos, Mrs. Joseph (Sultana)"
          ],
          [
           "Nysten, Miss. Anna Sofia"
          ],
          [
           "Hakkarainen, Mrs. Pekka Pietari (Elin Matilda Dolck)"
          ],
          [
           "Burke, Mr. Jeremiah"
          ],
          [
           "Andrew, Mr. Edgardo Samuel"
          ],
          [
           "Nicholls, Mr. Joseph Charles"
          ],
          [
           "Andersson, Mr. August Edvard (\"Wennerstrom\")"
          ],
          [
           "Ford, Miss. Robina Maggie \"Ruby\""
          ],
          [
           "Navratil, Mr. Michel (\"Louis M Hoffman\")"
          ],
          [
           "Byles, Rev. Thomas Roussel Davids"
          ],
          [
           "Bateman, Rev. Robert James"
          ],
          [
           "Pears, Mrs. Thomas (Edith Wearne)"
          ],
          [
           "Meo, Mr. Alfonzo"
          ],
          [
           "van Billiard, Mr. Austin Blyler"
          ],
          [
           "Olsen, Mr. Ole Martin"
          ],
          [
           "Williams, Mr. Charles Duane"
          ],
          [
           "Gilnagh, Miss. Katherine \"Katie\""
          ],
          [
           "Corn, Mr. Harry"
          ],
          [
           "Smiljanic, Mr. Mile"
          ],
          [
           "Sage, Master. Thomas Henry"
          ],
          [
           "Cribb, Mr. John Hatfield"
          ],
          [
           "Watt, Mrs. James (Elizabeth \"Bessie\" Inglis Milne)"
          ],
          [
           "Bengtsson, Mr. John Viktor"
          ],
          [
           "Calic, Mr. Jovo"
          ],
          [
           "Panula, Master. Eino Viljami"
          ],
          [
           "Goldsmith, Master. Frank John William \"Frankie\""
          ],
          [
           "Chibnall, Mrs. (Edith Martha Bowerman)"
          ],
          [
           "Skoog, Mrs. William (Anna Bernhardina Karlsson)"
          ],
          [
           "Baumann, Mr. John D"
          ],
          [
           "Ling, Mr. Lee"
          ],
          [
           "Van der hoef, Mr. Wyckoff"
          ],
          [
           "Rice, Master. Arthur"
          ],
          [
           "Johnson, Miss. Eleanor Ileen"
          ],
          [
           "Sivola, Mr. Antti Wilhelm"
          ],
          [
           "Smith, Mr. James Clinch"
          ],
          [
           "Klasen, Mr. Klas Albin"
          ],
          [
           "Lefebre, Master. Henry Forbes"
          ],
          [
           "Isham, Miss. Ann Elizabeth"
          ],
          [
           "Hale, Mr. Reginald"
          ],
          [
           "Leonard, Mr. Lionel"
          ],
          [
           "Sage, Miss. Constance Gladys"
          ],
          [
           "Pernot, Mr. Rene"
          ],
          [
           "Asplund, Master. Clarence Gustaf Hugo"
          ],
          [
           "Becker, Master. Richard F"
          ],
          [
           "Kink-Heilmann, Miss. Luise Gretchen"
          ],
          [
           "Rood, Mr. Hugh Roscoe"
          ],
          [
           "O'Brien, Mrs. Thomas (Johanna \"Hannah\" Godfrey)"
          ],
          [
           "Romaine, Mr. Charles Hallace (\"Mr C Rolmane\")"
          ],
          [
           "Bourke, Mr. John"
          ],
          [
           "Turcin, Mr. Stjepan"
          ],
          [
           "Pinsky, Mrs. (Rosa)"
          ],
          [
           "Carbines, Mr. William"
          ],
          [
           "Andersen-Jensen, Miss. Carla Christine Nielsine"
          ],
          [
           "Navratil, Master. Michel M"
          ],
          [
           "Brown, Mrs. James Joseph (Margaret Tobin)"
          ],
          [
           "Lurette, Miss. Elise"
          ],
          [
           "Mernagh, Mr. Robert"
          ],
          [
           "Olsen, Mr. Karl Siegwart Andreas"
          ],
          [
           "Madigan, Miss. Margaret \"Maggie\""
          ],
          [
           "Yrois, Miss. Henriette (\"Mrs Harbeck\")"
          ],
          [
           "Vande Walle, Mr. Nestor Cyriel"
          ],
          [
           "Sage, Mr. Frederick"
          ],
          [
           "Johanson, Mr. Jakob Alfred"
          ],
          [
           "Youseff, Mr. Gerious"
          ],
          [
           "Cohen, Mr. Gurshon \"Gus\""
          ],
          [
           "Strom, Miss. Telma Matilda"
          ],
          [
           "Backstrom, Mr. Karl Alfred"
          ],
          [
           "Albimona, Mr. Nassef Cassem"
          ],
          [
           "Carr, Miss. Helen \"Ellen\""
          ],
          [
           "Blank, Mr. Henry"
          ],
          [
           "Ali, Mr. Ahmed"
          ],
          [
           "Cameron, Miss. Clear Annie"
          ],
          [
           "Perkin, Mr. John Henry"
          ],
          [
           "Givard, Mr. Hans Kristensen"
          ],
          [
           "Kiernan, Mr. Philip"
          ],
          [
           "Newell, Miss. Madeleine"
          ],
          [
           "Honkanen, Miss. Eliina"
          ],
          [
           "Jacobsohn, Mr. Sidney Samuel"
          ],
          [
           "Bazzani, Miss. Albina"
          ],
          [
           "Harris, Mr. Walter"
          ],
          [
           "Sunderland, Mr. Victor Francis"
          ],
          [
           "Bracken, Mr. James H"
          ],
          [
           "Green, Mr. George Henry"
          ],
          [
           "Nenkoff, Mr. Christo"
          ],
          [
           "Hoyt, Mr. Frederick Maxfield"
          ],
          [
           "Berglund, Mr. Karl Ivar Sven"
          ],
          [
           "Mellors, Mr. William John"
          ],
          [
           "Lovell, Mr. John Hall (\"Henry\")"
          ],
          [
           "Fahlstrom, Mr. Arne Jonas"
          ],
          [
           "Lefebre, Miss. Mathilde"
          ],
          [
           "Harris, Mrs. Henry Birkhardt (Irene Wallach)"
          ],
          [
           "Larsson, Mr. Bengt Edvin"
          ],
          [
           "Sjostedt, Mr. Ernst Adolf"
          ],
          [
           "Asplund, Miss. Lillian Gertrud"
          ],
          [
           "Leyson, Mr. Robert William Norman"
          ],
          [
           "Harknett, Miss. Alice Phoebe"
          ],
          [
           "Hold, Mr. Stephen"
          ],
          [
           "Collyer, Miss. Marjorie \"Lottie\""
          ],
          [
           "Pengelly, Mr. Frederick William"
          ],
          [
           "Hunt, Mr. George Henry"
          ],
          [
           "Zabour, Miss. Thamine"
          ],
          [
           "Murphy, Miss. Katherine \"Kate\""
          ],
          [
           "Coleridge, Mr. Reginald Charles"
          ],
          [
           "Maenpaa, Mr. Matti Alexanteri"
          ],
          [
           "Attalah, Mr. Sleiman"
          ],
          [
           "Minahan, Dr. William Edward"
          ],
          [
           "Lindahl, Miss. Agda Thorilda Viktoria"
          ],
          [
           "Hamalainen, Mrs. William (Anna)"
          ],
          [
           "Beckwith, Mr. Richard Leonard"
          ],
          [
           "Carter, Rev. Ernest Courtenay"
          ],
          [
           "Reed, Mr. James George"
          ],
          [
           "Strom, Mrs. Wilhelm (Elna Matilda Persson)"
          ],
          [
           "Stead, Mr. William Thomas"
          ],
          [
           "Lobb, Mr. William Arthur"
          ],
          [
           "Rosblom, Mrs. Viktor (Helena Wilhelmina)"
          ],
          [
           "Touma, Mrs. Darwis (Hanne Youssef Razi)"
          ],
          [
           "Thorne, Mrs. Gertrude Maybelle"
          ],
          [
           "Cherry, Miss. Gladys"
          ],
          [
           "Ward, Miss. Anna"
          ],
          [
           "Parrish, Mrs. (Lutie Davis)"
          ],
          [
           "Smith, Mr. Thomas"
          ],
          [
           "Asplund, Master. Edvin Rojj Felix"
          ],
          [
           "Taussig, Mr. Emil"
          ],
          [
           "Harrison, Mr. William"
          ],
          [
           "Henry, Miss. Delia"
          ],
          [
           "Reeves, Mr. David"
          ],
          [
           "Panula, Mr. Ernesti Arvid"
          ],
          [
           "Persson, Mr. Ernst Ulrik"
          ],
          [
           "Graham, Mrs. William Thompson (Edith Junkins)"
          ],
          [
           "Bissette, Miss. Amelia"
          ],
          [
           "Cairns, Mr. Alexander"
          ],
          [
           "Tornquist, Mr. William Henry"
          ],
          [
           "Mellinger, Mrs. (Elizabeth Anne Maidment)"
          ],
          [
           "Natsch, Mr. Charles H"
          ],
          [
           "Healy, Miss. Hanora \"Nora\""
          ],
          [
           "Andrews, Miss. Kornelia Theodosia"
          ],
          [
           "Lindblom, Miss. Augusta Charlotta"
          ],
          [
           "Parkes, Mr. Francis \"Frank\""
          ],
          [
           "Rice, Master. Eric"
          ],
          [
           "Abbott, Mrs. Stanton (Rosa Hunt)"
          ],
          [
           "Duane, Mr. Frank"
          ],
          [
           "Olsson, Mr. Nils Johan Goransson"
          ],
          [
           "de Pelsmaeker, Mr. Alfons"
          ],
          [
           "Dorking, Mr. Edward Arthur"
          ],
          [
           "Smith, Mr. Richard William"
          ],
          [
           "Stankovic, Mr. Ivan"
          ],
          [
           "de Mulder, Mr. Theodore"
          ],
          [
           "Naidenoff, Mr. Penko"
          ],
          [
           "Hosono, Mr. Masabumi"
          ],
          [
           "Connolly, Miss. Kate"
          ],
          [
           "Barber, Miss. Ellen \"Nellie\""
          ],
          [
           "Bishop, Mrs. Dickinson H (Helen Walton)"
          ],
          [
           "Levy, Mr. Rene Jacques"
          ],
          [
           "Haas, Miss. Aloisia"
          ],
          [
           "Mineff, Mr. Ivan"
          ],
          [
           "Lewy, Mr. Ervin G"
          ],
          [
           "Hanna, Mr. Mansour"
          ],
          [
           "Allison, Miss. Helen Loraine"
          ],
          [
           "Saalfeld, Mr. Adolphe"
          ],
          [
           "Baxter, Mrs. James (Helene DeLaudeniere Chaput)"
          ],
          [
           "Kelly, Miss. Anna Katherine \"Annie Kate\""
          ],
          [
           "McCoy, Mr. Bernard"
          ],
          [
           "Johnson, Mr. William Cahoone Jr"
          ],
          [
           "Keane, Miss. Nora A"
          ],
          [
           "Williams, Mr. Howard Hugh \"Harry\""
          ],
          [
           "Allison, Master. Hudson Trevor"
          ],
          [
           "Fleming, Miss. Margaret"
          ],
          [
           "Penasco y Castellana, Mrs. Victor de Satode (Maria Josefa Perez de Soto y Vallejo)"
          ],
          [
           "Abelson, Mr. Samuel"
          ],
          [
           "Francatelli, Miss. Laura Mabel"
          ],
          [
           "Hays, Miss. Margaret Bechstein"
          ],
          [
           "Ryerson, Miss. Emily Borie"
          ],
          [
           "Lahtinen, Mrs. William (Anna Sylfven)"
          ],
          [
           "Hendekovic, Mr. Ignjac"
          ],
          [
           "Hart, Mr. Benjamin"
          ],
          [
           "Nilsson, Miss. Helmina Josefina"
          ],
          [
           "Kantor, Mrs. Sinai (Miriam Sternin)"
          ],
          [
           "Moraweck, Dr. Ernest"
          ],
          [
           "Wick, Miss. Mary Natalie"
          ],
          [
           "Spedden, Mrs. Frederic Oakley (Margaretta Corning Stone)"
          ],
          [
           "Dennis, Mr. Samuel"
          ],
          [
           "Danoff, Mr. Yoto"
          ],
          [
           "Slayter, Miss. Hilda Mary"
          ],
          [
           "Caldwell, Mrs. Albert Francis (Sylvia Mae Harbaugh)"
          ],
          [
           "Sage, Mr. George John Jr"
          ],
          [
           "Young, Miss. Marie Grice"
          ],
          [
           "Nysveen, Mr. Johan Hansen"
          ],
          [
           "Ball, Mrs. (Ada E Hall)"
          ],
          [
           "Goldsmith, Mrs. Frank John (Emily Alice Brown)"
          ],
          [
           "Hippach, Miss. Jean Gertrude"
          ],
          [
           "McCoy, Miss. Agnes"
          ],
          [
           "Partner, Mr. Austen"
          ],
          [
           "Graham, Mr. George Edward"
          ],
          [
           "Vander Planke, Mr. Leo Edmondus"
          ],
          [
           "Frauenthal, Mrs. Henry William (Clara Heinsheimer)"
          ],
          [
           "Denkoff, Mr. Mitto"
          ],
          [
           "Pears, Mr. Thomas Clinton"
          ],
          [
           "Burns, Miss. Elizabeth Margaret"
          ],
          [
           "Dahl, Mr. Karl Edwart"
          ],
          [
           "Blackwell, Mr. Stephen Weart"
          ],
          [
           "Navratil, Master. Edmond Roger"
          ],
          [
           "Fortune, Miss. Alice Elizabeth"
          ],
          [
           "Collander, Mr. Erik Gustaf"
          ],
          [
           "Sedgwick, Mr. Charles Frederick Waddington"
          ],
          [
           "Fox, Mr. Stanley Hubert"
          ],
          [
           "Brown, Miss. Amelia \"Mildred\""
          ],
          [
           "Smith, Miss. Marion Elsie"
          ],
          [
           "Davison, Mrs. Thomas Henry (Mary E Finck)"
          ],
          [
           "Coutts, Master. William Loch \"William\""
          ],
          [
           "Dimic, Mr. Jovan"
          ],
          [
           "Odahl, Mr. Nils Martin"
          ],
          [
           "Williams-Lambert, Mr. Fletcher Fellows"
          ],
          [
           "Elias, Mr. Tannous"
          ],
          [
           "Arnold-Franchi, Mr. Josef"
          ],
          [
           "Yousif, Mr. Wazli"
          ],
          [
           "Vanden Steen, Mr. Leo Peter"
          ],
          [
           "Bowerman, Miss. Elsie Edith"
          ],
          [
           "Funk, Miss. Annie Clemmer"
          ],
          [
           "McGovern, Miss. Mary"
          ],
          [
           "Mockler, Miss. Helen Mary \"Ellie\""
          ],
          [
           "Skoog, Mr. Wilhelm"
          ],
          [
           "del Carlo, Mr. Sebastiano"
          ],
          [
           "Barbara, Mrs. (Catherine David)"
          ],
          [
           "Asim, Mr. Adola"
          ],
          [
           "O'Brien, Mr. Thomas"
          ],
          [
           "Adahl, Mr. Mauritz Nils Martin"
          ],
          [
           "Warren, Mrs. Frank Manley (Anna Sophia Atkinson)"
          ],
          [
           "Moussa, Mrs. (Mantoura Boulos)"
          ],
          [
           "Jermyn, Miss. Annie"
          ],
          [
           "Aubart, Mme. Leontine Pauline"
          ],
          [
           "Harder, Mr. George Achilles"
          ],
          [
           "Wiklund, Mr. Jakob Alfred"
          ],
          [
           "Beavan, Mr. William Thomas"
          ],
          [
           "Ringhini, Mr. Sante"
          ],
          [
           "Palsson, Miss. Stina Viola"
          ],
          [
           "Meyer, Mrs. Edgar Joseph (Leila Saks)"
          ],
          [
           "Landergren, Miss. Aurora Adelia"
          ],
          [
           "Widener, Mr. Harry Elkins"
          ],
          [
           "Betros, Mr. Tannous"
          ],
          [
           "Gustafsson, Mr. Karl Gideon"
          ],
          [
           "Bidois, Miss. Rosalie"
          ],
          [
           "Nakid, Miss. Maria (\"Mary\")"
          ],
          [
           "Tikkanen, Mr. Juho"
          ],
          [
           "Holverson, Mrs. Alexander Oskar (Mary Aline Towner)"
          ],
          [
           "Plotcharsky, Mr. Vasil"
          ],
          [
           "Davies, Mr. Charles Henry"
          ],
          [
           "Goodwin, Master. Sidney Leonard"
          ],
          [
           "Buss, Miss. Kate"
          ],
          [
           "Sadlier, Mr. Matthew"
          ],
          [
           "Lehmann, Miss. Bertha"
          ],
          [
           "Carter, Mr. William Ernest"
          ],
          [
           "Jansson, Mr. Carl Olof"
          ],
          [
           "Gustafsson, Mr. Johan Birger"
          ],
          [
           "Newell, Miss. Marjorie"
          ],
          [
           "Sandstrom, Mrs. Hjalmar (Agnes Charlotta Bengtsson)"
          ],
          [
           "Johansson, Mr. Erik"
          ],
          [
           "Olsson, Miss. Elina"
          ],
          [
           "McKane, Mr. Peter David"
          ],
          [
           "Pain, Dr. Alfred"
          ],
          [
           "Trout, Mrs. William H (Jessie L)"
          ],
          [
           "Niskanen, Mr. Juha"
          ],
          [
           "Adams, Mr. John"
          ],
          [
           "Jussila, Miss. Mari Aina"
          ],
          [
           "Hakkarainen, Mr. Pekka Pietari"
          ],
          [
           "Oreskovic, Miss. Marija"
          ],
          [
           "Gale, Mr. Shadrach"
          ],
          [
           "Widegren, Mr. Carl/Charles Peter"
          ],
          [
           "Richards, Master. William Rowe"
          ],
          [
           "Birkeland, Mr. Hans Martin Monsen"
          ],
          [
           "Lefebre, Miss. Ida"
          ],
          [
           "Sdycoff, Mr. Todor"
          ],
          [
           "Hart, Mr. Henry"
          ],
          [
           "Minahan, Miss. Daisy E"
          ],
          [
           "Cunningham, Mr. Alfred Fleming"
          ],
          [
           "Sundman, Mr. Johan Julian"
          ],
          [
           "Meek, Mrs. Thomas (Annie Louise Rowley)"
          ],
          [
           "Drew, Mrs. James Vivian (Lulu Thorne Christian)"
          ],
          [
           "Silven, Miss. Lyyli Karoliina"
          ],
          [
           "Matthews, Mr. William John"
          ],
          [
           "Van Impe, Miss. Catharina"
          ],
          [
           "Gheorgheff, Mr. Stanio"
          ],
          [
           "Charters, Mr. David"
          ],
          [
           "Zimmerman, Mr. Leo"
          ],
          [
           "Danbom, Mrs. Ernst Gilbert (Anna Sigrid Maria Brogren)"
          ],
          [
           "Rosblom, Mr. Viktor Richard"
          ],
          [
           "Wiseman, Mr. Phillippe"
          ],
          [
           "Clarke, Mrs. Charles V (Ada Maria Winfield)"
          ],
          [
           "Phillips, Miss. Kate Florence (\"Mrs Kate Louise Phillips Marshall\")"
          ],
          [
           "Flynn, Mr. James"
          ],
          [
           "Pickard, Mr. Berk (Berk Trembisky)"
          ],
          [
           "Bjornstrom-Steffansson, Mr. Mauritz Hakan"
          ],
          [
           "Thorneycroft, Mrs. Percival (Florence Kate White)"
          ],
          [
           "Louch, Mrs. Charles Alexander (Alice Adelaide Slow)"
          ],
          [
           "Kallio, Mr. Nikolai Erland"
          ],
          [
           "Silvey, Mr. William Baird"
          ],
          [
           "Carter, Miss. Lucile Polk"
          ],
          [
           "Ford, Miss. Doolina Margaret \"Daisy\""
          ],
          [
           "Richards, Mrs. Sidney (Emily Hocking)"
          ],
          [
           "Fortune, Mr. Mark"
          ],
          [
           "Kvillner, Mr. Johan Henrik Johannesson"
          ],
          [
           "Hart, Mrs. Benjamin (Esther Ada Bloomfield)"
          ],
          [
           "Hampe, Mr. Leon"
          ],
          [
           "Petterson, Mr. Johan Emil"
          ],
          [
           "Reynaldo, Ms. Encarnacion"
          ],
          [
           "Johannesen-Bratthammer, Mr. Bernt"
          ],
          [
           "Dodge, Master. Washington"
          ],
          [
           "Mellinger, Miss. Madeleine Violet"
          ],
          [
           "Seward, Mr. Frederic Kimber"
          ],
          [
           "Baclini, Miss. Marie Catherine"
          ],
          [
           "Peuchen, Major. Arthur Godfrey"
          ],
          [
           "West, Mr. Edwy Arthur"
          ],
          [
           "Hagland, Mr. Ingvald Olai Olsen"
          ],
          [
           "Foreman, Mr. Benjamin Laventall"
          ],
          [
           "Goldenberg, Mr. Samuel L"
          ],
          [
           "Peduzzi, Mr. Joseph"
          ],
          [
           "Jalsevac, Mr. Ivan"
          ],
          [
           "Millet, Mr. Francis Davis"
          ],
          [
           "Kenyon, Mrs. Frederick R (Marion)"
          ],
          [
           "Toomey, Miss. Ellen"
          ],
          [
           "O'Connor, Mr. Maurice"
          ],
          [
           "Anderson, Mr. Harry"
          ],
          [
           "Morley, Mr. William"
          ],
          [
           "Gee, Mr. Arthur H"
          ],
          [
           "Milling, Mr. Jacob Christian"
          ],
          [
           "Maisner, Mr. Simon"
          ],
          [
           "Goncalves, Mr. Manuel Estanslas"
          ],
          [
           "Campbell, Mr. William"
          ],
          [
           "Smart, Mr. John Montgomery"
          ],
          [
           "Scanlan, Mr. James"
          ],
          [
           "Baclini, Miss. Helene Barbara"
          ],
          [
           "Keefe, Mr. Arthur"
          ],
          [
           "Cacic, Mr. Luka"
          ],
          [
           "West, Mrs. Edwy Arthur (Ada Mary Worth)"
          ],
          [
           "Jerwan, Mrs. Amin S (Marie Marthe Thuillard)"
          ],
          [
           "Strandberg, Miss. Ida Sofia"
          ],
          [
           "Clifford, Mr. George Quincy"
          ],
          [
           "Renouf, Mr. Peter Henry"
          ],
          [
           "Braund, Mr. Lewis Richard"
          ],
          [
           "Karlsson, Mr. Nils August"
          ],
          [
           "Hirvonen, Miss. Hildur E"
          ],
          [
           "Goodwin, Master. Harold Victor"
          ],
          [
           "Frost, Mr. Anthony Wood \"Archie\""
          ],
          [
           "Rouse, Mr. Richard Henry"
          ],
          [
           "Turkula, Mrs. (Hedwig)"
          ],
          [
           "Bishop, Mr. Dickinson H"
          ],
          [
           "Lefebre, Miss. Jeannie"
          ],
          [
           "Hoyt, Mrs. Frederick Maxfield (Jane Anne Forby)"
          ],
          [
           "Kent, Mr. Edward Austin"
          ],
          [
           "Somerton, Mr. Francis William"
          ],
          [
           "Coutts, Master. Eden Leslie \"Neville\""
          ],
          [
           "Hagland, Mr. Konrad Mathias Reiersen"
          ],
          [
           "Windelov, Mr. Einar"
          ],
          [
           "Molson, Mr. Harry Markland"
          ],
          [
           "Artagaveytia, Mr. Ramon"
          ],
          [
           "Stanley, Mr. Edward Roland"
          ],
          [
           "Yousseff, Mr. Gerious"
          ],
          [
           "Eustis, Miss. Elizabeth Mussey"
          ],
          [
           "Shellard, Mr. Frederick William"
          ],
          [
           "Allison, Mrs. Hudson J C (Bessie Waldo Daniels)"
          ],
          [
           "Svensson, Mr. Olof"
          ],
          [
           "Calic, Mr. Petar"
          ],
          [
           "Canavan, Miss. Mary"
          ],
          [
           "O'Sullivan, Miss. Bridget Mary"
          ],
          [
           "Laitinen, Miss. Kristina Sofia"
          ],
          [
           "Maioni, Miss. Roberta"
          ],
          [
           "Penasco y Castellana, Mr. Victor de Satode"
          ],
          [
           "Quick, Mrs. Frederick Charles (Jane Richards)"
          ],
          [
           "Bradley, Mr. George (\"George Arthur Brayton\")"
          ],
          [
           "Olsen, Mr. Henry Margido"
          ],
          [
           "Lang, Mr. Fang"
          ],
          [
           "Daly, Mr. Eugene Patrick"
          ],
          [
           "Webber, Mr. James"
          ],
          [
           "McGough, Mr. James Robert"
          ],
          [
           "Rothschild, Mrs. Martin (Elizabeth L. Barrett)"
          ],
          [
           "Coleff, Mr. Satio"
          ],
          [
           "Walker, Mr. William Anderson"
          ],
          [
           "Lemore, Mrs. (Amelia Milley)"
          ],
          [
           "Ryan, Mr. Patrick"
          ],
          [
           "Angle, Mrs. William A (Florence \"Mary\" Agnes Hughes)"
          ],
          [
           "Pavlovic, Mr. Stefo"
          ],
          [
           "Perreault, Miss. Anne"
          ],
          [
           "Vovk, Mr. Janko"
          ],
          [
           "Lahoud, Mr. Sarkis"
          ],
          [
           "Hippach, Mrs. Louis Albert (Ida Sophia Fischer)"
          ],
          [
           "Kassem, Mr. Fared"
          ],
          [
           "Farrell, Mr. James"
          ],
          [
           "Ridsdale, Miss. Lucy"
          ],
          [
           "Farthing, Mr. John"
          ],
          [
           "Salonen, Mr. Johan Werner"
          ],
          [
           "Hocking, Mr. Richard George"
          ],
          [
           "Quick, Miss. Phyllis May"
          ],
          [
           "Toufik, Mr. Nakli"
          ],
          [
           "Elias, Mr. Joseph Jr"
          ],
          [
           "Peter, Mrs. Catherine (Catherine Rizk)"
          ],
          [
           "Cacic, Miss. Marija"
          ],
          [
           "Hart, Miss. Eva Miriam"
          ],
          [
           "Butt, Major. Archibald Willingham"
          ],
          [
           "LeRoy, Miss. Bertha"
          ],
          [
           "Risien, Mr. Samuel Beard"
          ],
          [
           "Frolicher, Miss. Hedwig Margaritha"
          ],
          [
           "Crosby, Miss. Harriet R"
          ],
          [
           "Andersson, Miss. Ingeborg Constanzia"
          ],
          [
           "Andersson, Miss. Sigrid Elisabeth"
          ],
          [
           "Beane, Mr. Edward"
          ],
          [
           "Douglas, Mr. Walter Donald"
          ],
          [
           "Nicholson, Mr. Arthur Ernest"
          ],
          [
           "Beane, Mrs. Edward (Ethel Clarke)"
          ],
          [
           "Padro y Manent, Mr. Julian"
          ],
          [
           "Goldsmith, Mr. Frank John"
          ],
          [
           "Davies, Master. John Morgan Jr"
          ],
          [
           "Thayer, Mr. John Borland Jr"
          ],
          [
           "Sharp, Mr. Percival James R"
          ],
          [
           "O'Brien, Mr. Timothy"
          ],
          [
           "Leeni, Mr. Fahim (\"Philip Zenni\")"
          ],
          [
           "Ohman, Miss. Velin"
          ],
          [
           "Wright, Mr. George"
          ],
          [
           "Duff Gordon, Lady. (Lucille Christiana Sutherland) (\"Mrs Morgan\")"
          ],
          [
           "Robbins, Mr. Victor"
          ],
          [
           "Taussig, Mrs. Emil (Tillie Mandelbaum)"
          ],
          [
           "de Messemaeker, Mrs. Guillaume Joseph (Emma)"
          ],
          [
           "Morrow, Mr. Thomas Rowan"
          ],
          [
           "Sivic, Mr. Husein"
          ],
          [
           "Norman, Mr. Robert Douglas"
          ],
          [
           "Simmons, Mr. John"
          ],
          [
           "Meanwell, Miss. (Marion Ogden)"
          ],
          [
           "Davies, Mr. Alfred J"
          ],
          [
           "Stoytcheff, Mr. Ilia"
          ],
          [
           "Palsson, Mrs. Nils (Alma Cornelia Berglund)"
          ],
          [
           "Doharr, Mr. Tannous"
          ],
          [
           "Jonsson, Mr. Carl"
          ],
          [
           "Harris, Mr. George"
          ],
          [
           "Appleton, Mrs. Edward Dale (Charlotte Lamson)"
          ],
          [
           "Flynn, Mr. John Irwin (\"Irving\")"
          ],
          [
           "Kelly, Miss. Mary"
          ],
          [
           "Rush, Mr. Alfred George John"
          ],
          [
           "Patchett, Mr. George"
          ],
          [
           "Garside, Miss. Ethel"
          ],
          [
           "Silvey, Mrs. William Baird (Alice Munger)"
          ],
          [
           "Caram, Mrs. Joseph (Maria Elias)"
          ],
          [
           "Jussila, Mr. Eiriik"
          ],
          [
           "Christy, Miss. Julie Rachel"
          ],
          [
           "Thayer, Mrs. John Borland (Marian Longstreth Morris)"
          ],
          [
           "Downton, Mr. William James"
          ],
          [
           "Ross, Mr. John Hugo"
          ],
          [
           "Paulner, Mr. Uscher"
          ],
          [
           "Taussig, Miss. Ruth"
          ],
          [
           "Jarvis, Mr. John Denzil"
          ],
          [
           "Frolicher-Stehli, Mr. Maxmillian"
          ],
          [
           "Gilinski, Mr. Eliezer"
          ],
          [
           "Murdlin, Mr. Joseph"
          ],
          [
           "Rintamaki, Mr. Matti"
          ],
          [
           "Stephenson, Mrs. Walter Bertram (Martha Eustis)"
          ],
          [
           "Elsbury, Mr. William James"
          ],
          [
           "Bourke, Miss. Mary"
          ],
          [
           "Chapman, Mr. John Henry"
          ],
          [
           "Van Impe, Mr. Jean Baptiste"
          ],
          [
           "Leitch, Miss. Jessie Wills"
          ],
          [
           "Johnson, Mr. Alfred"
          ],
          [
           "Boulos, Mr. Hanna"
          ],
          [
           "Duff Gordon, Sir. Cosmo Edmund (\"Mr Morgan\")"
          ],
          [
           "Jacobsohn, Mrs. Sidney Samuel (Amy Frances Christy)"
          ],
          [
           "Slabenoff, Mr. Petco"
          ],
          [
           "Harrington, Mr. Charles H"
          ],
          [
           "Torber, Mr. Ernst William"
          ],
          [
           "Homer, Mr. Harry (\"Mr E Haven\")"
          ],
          [
           "Lindell, Mr. Edvard Bengtsson"
          ],
          [
           "Karaic, Mr. Milan"
          ],
          [
           "Daniel, Mr. Robert Williams"
          ],
          [
           "Laroche, Mrs. Joseph (Juliette Marie Louise Lafargue)"
          ],
          [
           "Shutes, Miss. Elizabeth W"
          ],
          [
           "Andersson, Mrs. Anders Johan (Alfrida Konstantia Brogren)"
          ],
          [
           "Jardin, Mr. Jose Neto"
          ],
          [
           "Murphy, Miss. Margaret Jane"
          ],
          [
           "Horgan, Mr. John"
          ],
          [
           "Brocklebank, Mr. William Alfred"
          ],
          [
           "Herman, Miss. Alice"
          ],
          [
           "Danbom, Mr. Ernst Gilbert"
          ],
          [
           "Lobb, Mrs. William Arthur (Cordelia K Stanlick)"
          ],
          [
           "Becker, Miss. Marion Louise"
          ],
          [
           "Gavey, Mr. Lawrence"
          ],
          [
           "Yasbeck, Mr. Antoni"
          ],
          [
           "Kimball, Mr. Edwin Nelson Jr"
          ],
          [
           "Nakid, Mr. Sahid"
          ],
          [
           "Hansen, Mr. Henry Damsgaard"
          ],
          [
           "Bowen, Mr. David John \"Dai\""
          ],
          [
           "Sutton, Mr. Frederick"
          ],
          [
           "Kirkland, Rev. Charles Leonard"
          ],
          [
           "Longley, Miss. Gretchen Fiske"
          ],
          [
           "Bostandyeff, Mr. Guentcho"
          ],
          [
           "O'Connell, Mr. Patrick D"
          ],
          [
           "Barkworth, Mr. Algernon Henry Wilson"
          ],
          [
           "Lundahl, Mr. Johan Svensson"
          ],
          [
           "Stahelin-Maeglin, Dr. Max"
          ],
          [
           "Parr, Mr. William Henry Marsh"
          ],
          [
           "Skoog, Miss. Mabel"
          ],
          [
           "Davis, Miss. Mary"
          ],
          [
           "Leinonen, Mr. Antti Gustaf"
          ],
          [
           "Collyer, Mr. Harvey"
          ],
          [
           "Panula, Mrs. Juha (Maria Emilia Ojala)"
          ],
          [
           "Thorneycroft, Mr. Percival"
          ],
          [
           "Jensen, Mr. Hans Peder"
          ],
          [
           "Sagesser, Mlle. Emma"
          ],
          [
           "Skoog, Miss. Margit Elizabeth"
          ],
          [
           "Foo, Mr. Choong"
          ],
          [
           "Baclini, Miss. Eugenie"
          ],
          [
           "Harper, Mr. Henry Sleeper"
          ],
          [
           "Cor, Mr. Liudevit"
          ],
          [
           "Simonius-Blumer, Col. Oberst Alfons"
          ],
          [
           "Willey, Mr. Edward"
          ],
          [
           "Stanley, Miss. Amy Zillah Elsie"
          ],
          [
           "Mitkoff, Mr. Mito"
          ],
          [
           "Doling, Miss. Elsie"
          ],
          [
           "Kalvik, Mr. Johannes Halvorsen"
          ],
          [
           "O'Leary, Miss. Hanora \"Norah\""
          ],
          [
           "Hegarty, Miss. Hanora \"Nora\""
          ],
          [
           "Hickman, Mr. Leonard Mark"
          ],
          [
           "Radeff, Mr. Alexander"
          ],
          [
           "Bourke, Mrs. John (Catherine)"
          ],
          [
           "Eitemiller, Mr. George Floyd"
          ],
          [
           "Newell, Mr. Arthur Webster"
          ],
          [
           "Frauenthal, Dr. Henry William"
          ],
          [
           "Badt, Mr. Mohamed"
          ],
          [
           "Colley, Mr. Edward Pomeroy"
          ],
          [
           "Coleff, Mr. Peju"
          ],
          [
           "Lindqvist, Mr. Eino William"
          ],
          [
           "Hickman, Mr. Lewis"
          ],
          [
           "Butler, Mr. Reginald Fenton"
          ],
          [
           "Rommetvedt, Mr. Knud Paust"
          ],
          [
           "Cook, Mr. Jacob"
          ],
          [
           "Taylor, Mrs. Elmer Zebley (Juliet Cummins Wright)"
          ],
          [
           "Brown, Mrs. Thomas William Solomon (Elizabeth Catherine Ford)"
          ],
          [
           "Davidson, Mr. Thornton"
          ],
          [
           "Mitchell, Mr. Henry Michael"
          ],
          [
           "Wilhelms, Mr. Charles"
          ],
          [
           "Watson, Mr. Ennis Hastings"
          ],
          [
           "Edvardsson, Mr. Gustaf Hjalmar"
          ],
          [
           "Sawyer, Mr. Frederick Charles"
          ],
          [
           "Turja, Miss. Anna Sofia"
          ],
          [
           "Goodwin, Mrs. Frederick (Augusta Tyler)"
          ],
          [
           "Cardeza, Mr. Thomas Drake Martinez"
          ],
          [
           "Peters, Miss. Katie"
          ],
          [
           "Hassab, Mr. Hammad"
          ],
          [
           "Olsvigen, Mr. Thor Anderson"
          ],
          [
           "Goodwin, Mr. Charles Edward"
          ],
          [
           "Brown, Mr. Thomas William Solomon"
          ],
          [
           "Laroche, Mr. Joseph Philippe Lemercier"
          ],
          [
           "Panula, Mr. Jaako Arnold"
          ],
          [
           "Dakic, Mr. Branko"
          ],
          [
           "Fischer, Mr. Eberhard Thelander"
          ],
          [
           "Madill, Miss. Georgette Alexandra"
          ],
          [
           "Dick, Mr. Albert Adrian"
          ],
          [
           "Karun, Miss. Manca"
          ],
          [
           "Lam, Mr. Ali"
          ],
          [
           "Saad, Mr. Khalil"
          ],
          [
           "Weir, Col. John"
          ],
          [
           "Chapman, Mr. Charles Henry"
          ],
          [
           "Kelly, Mr. James"
          ],
          [
           "Mullens, Miss. Katherine \"Katie\""
          ],
          [
           "Thayer, Mr. John Borland"
          ],
          [
           "Humblen, Mr. Adolf Mathias Nicolai Olsen"
          ],
          [
           "Astor, Mrs. John Jacob (Madeleine Talmadge Force)"
          ],
          [
           "Silverthorne, Mr. Spencer Victor"
          ],
          [
           "Barbara, Miss. Saiide"
          ],
          [
           "Gallagher, Mr. Martin"
          ],
          [
           "Hansen, Mr. Henrik Juul"
          ],
          [
           "Morley, Mr. Henry Samuel (\"Mr Henry Marshall\")"
          ],
          [
           "Kelly, Mrs. Florence \"Fannie\""
          ],
          [
           "Calderhead, Mr. Edward Pennington"
          ],
          [
           "Cleaver, Miss. Alice"
          ],
          [
           "Moubarek, Master. Halim Gonios (\"William George\")"
          ],
          [
           "Mayne, Mlle. Berthe Antonine (\"Mrs de Villiers\")"
          ],
          [
           "Klaber, Mr. Herman"
          ],
          [
           "Taylor, Mr. Elmer Zebley"
          ],
          [
           "Larsson, Mr. August Viktor"
          ],
          [
           "Greenberg, Mr. Samuel"
          ],
          [
           "Soholt, Mr. Peter Andreas Lauritz Andersen"
          ],
          [
           "Endres, Miss. Caroline Louise"
          ],
          [
           "Troutt, Miss. Edwina Celia \"Winnie\""
          ],
          [
           "McEvoy, Mr. Michael"
          ],
          [
           "Johnson, Mr. Malkolm Joackim"
          ],
          [
           "Harper, Miss. Annie Jessie \"Nina\""
          ],
          [
           "Jensen, Mr. Svend Lauritz"
          ],
          [
           "Gillespie, Mr. William Henry"
          ],
          [
           "Hodges, Mr. Henry Price"
          ],
          [
           "Chambers, Mr. Norman Campbell"
          ],
          [
           "Oreskovic, Mr. Luka"
          ],
          [
           "Renouf, Mrs. Peter Henry (Lillian Jefferys)"
          ],
          [
           "Mannion, Miss. Margareth"
          ],
          [
           "Bryhl, Mr. Kurt Arnold Gottfrid"
          ],
          [
           "Ilmakangas, Miss. Pieta Sofia"
          ],
          [
           "Allen, Miss. Elisabeth Walton"
          ],
          [
           "Hassan, Mr. Houssein G N"
          ],
          [
           "Knight, Mr. Robert J"
          ],
          [
           "Berriman, Mr. William John"
          ],
          [
           "Troupiansky, Mr. Moses Aaron"
          ],
          [
           "Williams, Mr. Leslie"
          ],
          [
           "Ford, Mrs. Edward (Margaret Ann Watson)"
          ],
          [
           "Lesurer, Mr. Gustave J"
          ],
          [
           "Ivanoff, Mr. Kanio"
          ],
          [
           "Nankoff, Mr. Minko"
          ],
          [
           "Hawksford, Mr. Walter James"
          ],
          [
           "Cavendish, Mr. Tyrell William"
          ],
          [
           "Ryerson, Miss. Susan Parker \"Suzette\""
          ],
          [
           "McNamee, Mr. Neal"
          ],
          [
           "Stranden, Mr. Juho"
          ],
          [
           "Crosby, Capt. Edward Gifford"
          ],
          [
           "Abbott, Mr. Rossmore Edward"
          ],
          [
           "Sinkkonen, Miss. Anna"
          ],
          [
           "Marvin, Mr. Daniel Warner"
          ],
          [
           "Connaghton, Mr. Michael"
          ],
          [
           "Wells, Miss. Joan"
          ],
          [
           "Moor, Master. Meier"
          ],
          [
           "Vande Velde, Mr. Johannes Joseph"
          ],
          [
           "Jonkoff, Mr. Lalio"
          ],
          [
           "Herman, Mrs. Samuel (Jane Laver)"
          ],
          [
           "Hamalainen, Master. Viljo"
          ],
          [
           "Carlsson, Mr. August Sigfrid"
          ],
          [
           "Bailey, Mr. Percy Andrew"
          ],
          [
           "Theobald, Mr. Thomas Leonard"
          ],
          [
           "Rothes, the Countess. of (Lucy Noel Martha Dyer-Edwards)"
          ],
          [
           "Garfirth, Mr. John"
          ],
          [
           "Nirva, Mr. Iisakki Antino Aijo"
          ],
          [
           "Barah, Mr. Hanna Assi"
          ],
          [
           "Carter, Mrs. William Ernest (Lucile Polk)"
          ],
          [
           "Eklund, Mr. Hans Linus"
          ],
          [
           "Hogeboom, Mrs. John C (Anna Andrews)"
          ],
          [
           "Brewe, Dr. Arthur Jackson"
          ],
          [
           "Mangan, Miss. Mary"
          ],
          [
           "Moran, Mr. Daniel J"
          ],
          [
           "Gronnestad, Mr. Daniel Danielsen"
          ],
          [
           "Lievens, Mr. Rene Aime"
          ],
          [
           "Jensen, Mr. Niels Peder"
          ],
          [
           "Mack, Mrs. (Mary)"
          ],
          [
           "Elias, Mr. Dibo"
          ],
          [
           "Hocking, Mrs. Elizabeth (Eliza Needs)"
          ],
          [
           "Myhrman, Mr. Pehr Fabian Oliver Malkolm"
          ],
          [
           "Tobin, Mr. Roger"
          ],
          [
           "Emanuel, Miss. Virginia Ethel"
          ],
          [
           "Kilgannon, Mr. Thomas J"
          ],
          [
           "Robert, Mrs. Edward Scott (Elisabeth Walton McMillan)"
          ],
          [
           "Ayoub, Miss. Banoura"
          ],
          [
           "Dick, Mrs. Albert Adrian (Vera Gillespie)"
          ],
          [
           "Long, Mr. Milton Clyde"
          ],
          [
           "Johnston, Mr. Andrew G"
          ],
          [
           "Ali, Mr. William"
          ],
          [
           "Harmer, Mr. Abraham (David Lishin)"
          ],
          [
           "Sjoblom, Miss. Anna Sofia"
          ],
          [
           "Rice, Master. George Hugh"
          ],
          [
           "Dean, Master. Bertram Vere"
          ],
          [
           "Guggenheim, Mr. Benjamin"
          ],
          [
           "Keane, Mr. Andrew \"Andy\""
          ],
          [
           "Gaskell, Mr. Alfred"
          ],
          [
           "Sage, Miss. Stella Anna"
          ],
          [
           "Hoyt, Mr. William Fisher"
          ],
          [
           "Dantcheff, Mr. Ristiu"
          ],
          [
           "Otter, Mr. Richard"
          ],
          [
           "Leader, Dr. Alice (Farnham)"
          ],
          [
           "Osman, Mrs. Mara"
          ],
          [
           "Ibrahim Shawah, Mr. Yousseff"
          ],
          [
           "Van Impe, Mrs. Jean Baptiste (Rosalie Paula Govaert)"
          ],
          [
           "Ponesell, Mr. Martin"
          ],
          [
           "Collyer, Mrs. Harvey (Charlotte Annie Tate)"
          ],
          [
           "Carter, Master. William Thornton II"
          ],
          [
           "Thomas, Master. Assad Alexander"
          ],
          [
           "Hedman, Mr. Oskar Arvid"
          ],
          [
           "Johansson, Mr. Karl Johan"
          ],
          [
           "Andrews, Mr. Thomas Jr"
          ],
          [
           "Pettersson, Miss. Ellen Natalia"
          ],
          [
           "Meyer, Mr. August"
          ],
          [
           "Chambers, Mrs. Norman Campbell (Bertha Griggs)"
          ],
          [
           "Alexander, Mr. William"
          ],
          [
           "Lester, Mr. James"
          ],
          [
           "Slemen, Mr. Richard James"
          ],
          [
           "Andersson, Miss. Ebba Iris Alfrida"
          ],
          [
           "Tomlin, Mr. Ernest Portage"
          ],
          [
           "Fry, Mr. Richard"
          ],
          [
           "Heininen, Miss. Wendla Maria"
          ],
          [
           "Mallet, Mr. Albert"
          ],
          [
           "Holm, Mr. John Fredrik Alexander"
          ],
          [
           "Skoog, Master. Karl Thorsten"
          ],
          [
           "Hays, Mrs. Charles Melville (Clara Jennings Gregg)"
          ],
          [
           "Lulic, Mr. Nikola"
          ],
          [
           "Reuchlin, Jonkheer. John George"
          ],
          [
           "Moor, Mrs. (Beila)"
          ],
          [
           "Panula, Master. Urho Abraham"
          ],
          [
           "Flynn, Mr. John"
          ],
          [
           "Lam, Mr. Len"
          ],
          [
           "Mallet, Master. Andre"
          ],
          [
           "McCormack, Mr. Thomas Joseph"
          ],
          [
           "Stone, Mrs. George Nelson (Martha Evelyn)"
          ],
          [
           "Yasbeck, Mrs. Antoni (Selini Alexander)"
          ],
          [
           "Richards, Master. George Sibley"
          ],
          [
           "Saad, Mr. Amin"
          ],
          [
           "Augustsson, Mr. Albert"
          ],
          [
           "Allum, Mr. Owen George"
          ],
          [
           "Compton, Miss. Sara Rebecca"
          ],
          [
           "Pasic, Mr. Jakob"
          ],
          [
           "Sirota, Mr. Maurice"
          ],
          [
           "Chip, Mr. Chang"
          ],
          [
           "Marechal, Mr. Pierre"
          ],
          [
           "Alhomaki, Mr. Ilmari Rudolf"
          ],
          [
           "Mudd, Mr. Thomas Charles"
          ],
          [
           "Serepeca, Miss. Augusta"
          ],
          [
           "Lemberopolous, Mr. Peter L"
          ],
          [
           "Culumovic, Mr. Jeso"
          ],
          [
           "Abbing, Mr. Anthony"
          ],
          [
           "Sage, Mr. Douglas Bullen"
          ],
          [
           "Markoff, Mr. Marin"
          ],
          [
           "Harper, Rev. John"
          ],
          [
           "Goldenberg, Mrs. Samuel L (Edwiga Grabowska)"
          ],
          [
           "Andersson, Master. Sigvard Harald Elias"
          ],
          [
           "Svensson, Mr. Johan"
          ],
          [
           "Boulos, Miss. Nourelain"
          ],
          [
           "Lines, Miss. Mary Conover"
          ],
          [
           "Carter, Mrs. Ernest Courtenay (Lilian Hughes)"
          ],
          [
           "Aks, Mrs. Sam (Leah Rosen)"
          ],
          [
           "Wick, Mrs. George Dennick (Mary Hitchcock)"
          ],
          [
           "Daly, Mr. Peter Denis "
          ],
          [
           "Baclini, Mrs. Solomon (Latifa Qurban)"
          ],
          [
           "Razi, Mr. Raihed"
          ],
          [
           "Hansen, Mr. Claus Peter"
          ],
          [
           "Giles, Mr. Frederick Edward"
          ],
          [
           "Swift, Mrs. Frederick Joel (Margaret Welles Barron)"
          ],
          [
           "Sage, Miss. Dorothy Edith \"Dolly\""
          ],
          [
           "Gill, Mr. John William"
          ],
          [
           "Bystrom, Mrs. (Karolina)"
          ],
          [
           "Duran y More, Miss. Asuncion"
          ],
          [
           "Roebling, Mr. Washington Augustus II"
          ],
          [
           "van Melkebeke, Mr. Philemon"
          ],
          [
           "Johnson, Master. Harold Theodor"
          ],
          [
           "Balkic, Mr. Cerin"
          ],
          [
           "Beckwith, Mrs. Richard Leonard (Sallie Monypeny)"
          ],
          [
           "Carlsson, Mr. Frans Olof"
          ],
          [
           "Vander Cruyssen, Mr. Victor"
          ],
          [
           "Abelson, Mrs. Samuel (Hannah Wizosky)"
          ],
          [
           "Najib, Miss. Adele Kiamie \"Jane\""
          ],
          [
           "Gustafsson, Mr. Alfred Ossian"
          ],
          [
           "Petroff, Mr. Nedelio"
          ],
          [
           "Laleff, Mr. Kristo"
          ],
          [
           "Potter, Mrs. Thomas Jr (Lily Alexenia Wilson)"
          ],
          [
           "Shelley, Mrs. William (Imanita Parrish Hall)"
          ],
          [
           "Markun, Mr. Johann"
          ],
          [
           "Dahlberg, Miss. Gerda Ulrika"
          ],
          [
           "Banfield, Mr. Frederick James"
          ],
          [
           "Sutehall, Mr. Henry Jr"
          ],
          [
           "Rice, Mrs. William (Margaret Norton)"
          ],
          [
           "Montvila, Rev. Juozas"
          ],
          [
           "Graham, Miss. Margaret Edith"
          ],
          [
           "Johnston, Miss. Catherine Helen \"Carrie\""
          ],
          [
           "Behr, Mr. Karl Howell"
          ],
          [
           "Dooley, Mr. Patrick"
          ]
         ],
         "hovertemplate": "Age=%{x}<br>Sex=%{y}<br>Name=%{customdata[0]}<extra></extra>",
         "legendgroup": "",
         "marker": {
          "color": "#1F77B4",
          "pattern": {
           "shape": ""
          }
         },
         "name": "",
         "orientation": "h",
         "showlegend": false,
         "textposition": "auto",
         "type": "bar",
         "x": {
          "bdata": "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",
          "dtype": "f8"
         },
         "xaxis": "x",
         "y": [
          "male",
          "female",
          "female",
          "female",
          "male",
          "male",
          "male",
          "male",
          "female",
          "female",
          "female",
          "female",
          "male",
          "male",
          "female",
          "female",
          "male",
          "male",
          "female",
          "female",
          "male",
          "male",
          "female",
          "male",
          "female",
          "female",
          "male",
          "male",
          "female",
          "male",
          "male",
          "female",
          "female",
          "male",
          "male",
          "male",
          "male",
          "male",
          "female",
          "female",
          "female",
          "female",
          "male",
          "female",
          "female",
          "male",
          "male",
          "female",
          "male",
          "female",
          "male",
          "male",
          "female",
          "female",
          "male",
          "male",
          "female",
          "male",
          "female",
          "male",
          "male",
          "female",
          "male",
          "male",
          "male",
          "male",
          "female",
          "male",
          "female",
          "male",
          "male",
          "female",
          "male",
          "male",
          "male",
          "male",
          "male",
          "male",
          "male",
          "female",
          "male",
          "male",
          "female",
          "male",
          "female",
          "female",
          "male",
          "male",
          "female",
          "male",
          "male",
          "male",
          "male",
          "male",
          "male",
          "male",
          "male",
          "male",
          "female",
          "male",
          "female",
          "male",
          "male",
          "male",
          "male",
          "male",
          "female",
          "male",
          "male",
          "female",
          "male",
          "female",
          "male",
          "female",
          "female",
          "male",
          "male",
          "male",
          "male",
          "female",
          "male",
          "male",
          "male",
          "female",
          "male",
          "male",
          "male",
          "male",
          "female",
          "male",
          "male",
          "male",
          "female",
          "female",
          "male",
          "male",
          "female",
          "male",
          "male",
          "male",
          "female",
          "female",
          "female",
          "male",
          "male",
          "male",
          "male",
          "female",
          "male",
          "male",
          "male",
          "female",
          "male",
          "male",
          "male",
          "male",
          "female",
          "male",
          "male",
          "male",
          "male",
          "female",
          "male",
          "male",
          "male",
          "male",
          "female",
          "female",
          "male",
          "male",
          "male",
          "male",
          "female",
          "male",
          "male",
          "male",
          "male",
          "female",
          "male",
          "male",
          "female",
          "male",
          "male",
          "male",
          "female",
          "male",
          "female",
          "male",
          "male",
          "male",
          "female",
          "male",
          "female",
          "male",
          "female",
          "female",
          "male",
          "male",
          "female",
          "female",
          "male",
          "male",
          "male",
          "male",
          "male",
          "female",
          "male",
          "male",
          "female",
          "male",
          "male",
          "female",
          "male",
          "male",
          "male",
          "female",
          "female",
          "male",
          "female",
          "male",
          "male",
          "male",
          "male",
          "male",
          "male",
          "male",
          "male",
          "male",
          "male",
          "female",
          "female",
          "male",
          "male",
          "female",
          "male",
          "female",
          "male",
          "female",
          "male",
          "male",
          "female",
          "female",
          "male",
          "male",
          "male",
          "male",
          "female",
          "female",
          "male",
          "male",
          "male",
          "female",
          "male",
          "male",
          "female",
          "female",
          "female",
          "female",
          "female",
          "female",
          "male",
          "male",
          "male",
          "male",
          "female",
          "male",
          "male",
          "male",
          "female",
          "female",
          "male",
          "male",
          "female",
          "male",
          "female",
          "female",
          "female",
          "male",
          "male",
          "female",
          "male",
          "male",
          "male",
          "male",
          "male",
          "male",
          "male",
          "male",
          "male",
          "female",
          "female",
          "female",
          "male",
          "female",
          "male",
          "male",
          "male",
          "female",
          "male",
          "female",
          "female",
          "male",
          "male",
          "female",
          "male",
          "male",
          "female",
          "female",
          "male",
          "female",
          "female",
          "female",
          "female",
          "male",
          "male",
          "female",
          "female",
          "male",
          "female",
          "female",
          "male",
          "male",
          "female",
          "female",
          "male",
          "female",
          "male",
          "female",
          "female",
          "female",
          "female",
          "male",
          "male",
          "male",
          "female",
          "male",
          "male",
          "female",
          "male",
          "male",
          "male",
          "female",
          "male",
          "male",
          "male",
          "female",
          "female",
          "female",
          "male",
          "male",
          "male",
          "male",
          "male",
          "male",
          "male",
          "male",
          "female",
          "female",
          "female",
          "female",
          "male",
          "male",
          "female",
          "male",
          "male",
          "male",
          "female",
          "female",
          "female",
          "female",
          "male",
          "male",
          "male",
          "male",
          "female",
          "female",
          "female",
          "male",
          "male",
          "male",
          "female",
          "female",
          "male",
          "female",
          "male",
          "male",
          "male",
          "female",
          "male",
          "female",
          "male",
          "male",
          "male",
          "female",
          "female",
          "male",
          "female",
          "male",
          "male",
          "female",
          "male",
          "male",
          "female",
          "male",
          "female",
          "male",
          "male",
          "male",
          "male",
          "female",
          "male",
          "male",
          "female",
          "male",
          "male",
          "female",
          "female",
          "female",
          "male",
          "female",
          "male",
          "male",
          "male",
          "female",
          "male",
          "male",
          "female",
          "female",
          "male",
          "male",
          "male",
          "female",
          "female",
          "male",
          "male",
          "female",
          "female",
          "female",
          "male",
          "male",
          "female",
          "male",
          "male",
          "female",
          "male",
          "male",
          "female",
          "male",
          "female",
          "male",
          "male",
          "male",
          "male",
          "male",
          "male",
          "male",
          "male",
          "female",
          "female",
          "male",
          "male",
          "male",
          "male",
          "male",
          "male",
          "male",
          "male",
          "male",
          "male",
          "female",
          "male",
          "male",
          "female",
          "female",
          "female",
          "male",
          "male",
          "male",
          "male",
          "female",
          "male",
          "male",
          "male",
          "female",
          "male",
          "female",
          "female",
          "male",
          "male",
          "male",
          "male",
          "male",
          "male",
          "male",
          "male",
          "male",
          "female",
          "male",
          "female",
          "male",
          "male",
          "female",
          "female",
          "female",
          "female",
          "male",
          "female",
          "male",
          "male",
          "male",
          "male",
          "male",
          "male",
          "female",
          "male",
          "male",
          "female",
          "male",
          "female",
          "male",
          "female",
          "male",
          "male",
          "female",
          "male",
          "male",
          "female",
          "male",
          "male",
          "male",
          "female",
          "male",
          "male",
          "female",
          "female",
          "female",
          "male",
          "female",
          "male",
          "female",
          "female",
          "female",
          "female",
          "male",
          "male",
          "male",
          "female",
          "male",
          "male",
          "male",
          "male",
          "male",
          "male",
          "male",
          "female",
          "male",
          "female",
          "male",
          "female",
          "female",
          "male",
          "male",
          "male",
          "male",
          "female",
          "male",
          "male",
          "female",
          "male",
          "male",
          "male",
          "female",
          "male",
          "female",
          "male",
          "male",
          "female",
          "female",
          "female",
          "male",
          "female",
          "female",
          "male",
          "male",
          "male",
          "female",
          "male",
          "male",
          "male",
          "male",
          "male",
          "female",
          "male",
          "female",
          "male",
          "male",
          "female",
          "male",
          "male",
          "male",
          "female",
          "male",
          "male",
          "male",
          "male",
          "male",
          "male",
          "male",
          "female",
          "female",
          "female",
          "male",
          "female",
          "male",
          "male",
          "female",
          "male",
          "female",
          "female",
          "male",
          "male",
          "male",
          "male",
          "male",
          "male",
          "male",
          "male",
          "female",
          "male",
          "male",
          "male",
          "male",
          "male",
          "male",
          "female",
          "female",
          "male",
          "male",
          "female",
          "male",
          "male",
          "female",
          "female",
          "male",
          "female",
          "male",
          "male",
          "male",
          "male",
          "female",
          "male",
          "female",
          "male",
          "female",
          "female",
          "male",
          "male",
          "female",
          "male",
          "male",
          "male",
          "male",
          "male",
          "male",
          "male",
          "male",
          "male",
          "male",
          "male",
          "female",
          "female",
          "male",
          "male",
          "male",
          "male",
          "male",
          "male",
          "female",
          "female",
          "male",
          "female",
          "male",
          "male",
          "male",
          "male",
          "male",
          "male",
          "male",
          "male",
          "female",
          "male",
          "female",
          "male",
          "male",
          "male",
          "male",
          "male",
          "female",
          "male",
          "male",
          "female",
          "male",
          "female",
          "male",
          "male",
          "male",
          "female",
          "male",
          "female",
          "male",
          "female",
          "male",
          "male",
          "male",
          "male",
          "male",
          "female",
          "female",
          "male",
          "male",
          "female",
          "male",
          "male",
          "male",
          "male",
          "male",
          "female",
          "female",
          "male",
          "female",
          "female",
          "male",
          "male",
          "male",
          "male",
          "male",
          "female",
          "male",
          "male",
          "male",
          "male",
          "male",
          "female",
          "male",
          "male",
          "male",
          "male",
          "female",
          "male",
          "male",
          "female",
          "male",
          "male",
          "male",
          "female",
          "male",
          "male",
          "male",
          "male",
          "female",
          "male",
          "male",
          "male",
          "female",
          "male",
          "female",
          "male",
          "female",
          "male",
          "male",
          "male",
          "male",
          "female",
          "male",
          "female",
          "male",
          "male",
          "female",
          "male",
          "female",
          "female",
          "female",
          "male",
          "male",
          "male",
          "male",
          "female",
          "male",
          "male",
          "male",
          "male",
          "male",
          "female",
          "male",
          "male",
          "male",
          "female",
          "female",
          "male",
          "female",
          "male",
          "female",
          "male",
          "male",
          "male",
          "male",
          "male",
          "female",
          "male",
          "female",
          "male",
          "male",
          "male",
          "female",
          "male",
          "male",
          "female",
          "male",
          "male",
          "male",
          "female",
          "male",
          "male",
          "female",
          "male",
          "male",
          "male",
          "male",
          "male",
          "female",
          "female",
          "male",
          "male",
          "male",
          "male",
          "female",
          "male",
          "male",
          "male",
          "male",
          "male",
          "male",
          "female",
          "male",
          "male",
          "male",
          "male",
          "male",
          "male",
          "female",
          "male",
          "male",
          "female",
          "female",
          "female",
          "female",
          "female",
          "male",
          "female",
          "male",
          "male",
          "male",
          "female",
          "female",
          "male",
          "female",
          "female",
          "male",
          "male",
          "male",
          "male",
          "female",
          "male",
          "male",
          "female",
          "female",
          "male",
          "male",
          "male",
          "female",
          "female",
          "male",
          "female",
          "male",
          "male",
          "female",
          "male",
          "female",
          "female",
          "male",
          "male"
         ],
         "yaxis": "y"
        }
       ],
       "layout": {
        "barmode": "relative",
        "legend": {
         "tracegroupgap": 0
        },
        "margin": {
         "t": 60
        },
        "template": {
         "data": {
          "bar": [
           {
            "error_x": {
             "color": "#2a3f5f"
            },
            "error_y": {
             "color": "#2a3f5f"
            },
            "marker": {
             "line": {
              "color": "white",
              "width": 0.5
             },
             "pattern": {
              "fillmode": "overlay",
              "size": 10,
              "solidity": 0.2
             }
            },
            "type": "bar"
           }
          ],
          "barpolar": [
           {
            "marker": {
             "line": {
              "color": "white",
              "width": 0.5
             },
             "pattern": {
              "fillmode": "overlay",
              "size": 10,
              "solidity": 0.2
             }
            },
            "type": "barpolar"
           }
          ],
          "carpet": [
           {
            "aaxis": {
             "endlinecolor": "#2a3f5f",
             "gridcolor": "#C8D4E3",
             "linecolor": "#C8D4E3",
             "minorgridcolor": "#C8D4E3",
             "startlinecolor": "#2a3f5f"
            },
            "baxis": {
             "endlinecolor": "#2a3f5f",
             "gridcolor": "#C8D4E3",
             "linecolor": "#C8D4E3",
             "minorgridcolor": "#C8D4E3",
             "startlinecolor": "#2a3f5f"
            },
            "type": "carpet"
           }
          ],
          "choropleth": [
           {
            "colorbar": {
             "outlinewidth": 0,
             "ticks": ""
            },
            "type": "choropleth"
           }
          ],
          "contour": [
           {
            "colorbar": {
             "outlinewidth": 0,
             "ticks": ""
            },
            "colorscale": [
             [
              0,
              "#0d0887"
             ],
             [
              0.1111111111111111,
              "#46039f"
             ],
             [
              0.2222222222222222,
              "#7201a8"
             ],
             [
              0.3333333333333333,
              "#9c179e"
             ],
             [
              0.4444444444444444,
              "#bd3786"
             ],
             [
              0.5555555555555556,
              "#d8576b"
             ],
             [
              0.6666666666666666,
              "#ed7953"
             ],
             [
              0.7777777777777778,
              "#fb9f3a"
             ],
             [
              0.8888888888888888,
              "#fdca26"
             ],
             [
              1,
              "#f0f921"
             ]
            ],
            "type": "contour"
           }
          ],
          "contourcarpet": [
           {
            "colorbar": {
             "outlinewidth": 0,
             "ticks": ""
            },
            "type": "contourcarpet"
           }
          ],
          "heatmap": [
           {
            "colorbar": {
             "outlinewidth": 0,
             "ticks": ""
            },
            "colorscale": [
             [
              0,
              "#0d0887"
             ],
             [
              0.1111111111111111,
              "#46039f"
             ],
             [
              0.2222222222222222,
              "#7201a8"
             ],
             [
              0.3333333333333333,
              "#9c179e"
             ],
             [
              0.4444444444444444,
              "#bd3786"
             ],
             [
              0.5555555555555556,
              "#d8576b"
             ],
             [
              0.6666666666666666,
              "#ed7953"
             ],
             [
              0.7777777777777778,
              "#fb9f3a"
             ],
             [
              0.8888888888888888,
              "#fdca26"
             ],
             [
              1,
              "#f0f921"
             ]
            ],
            "type": "heatmap"
           }
          ],
          "histogram": [
           {
            "marker": {
             "pattern": {
              "fillmode": "overlay",
              "size": 10,
              "solidity": 0.2
             }
            },
            "type": "histogram"
           }
          ],
          "histogram2d": [
           {
            "colorbar": {
             "outlinewidth": 0,
             "ticks": ""
            },
            "colorscale": [
             [
              0,
              "#0d0887"
             ],
             [
              0.1111111111111111,
              "#46039f"
             ],
             [
              0.2222222222222222,
              "#7201a8"
             ],
             [
              0.3333333333333333,
              "#9c179e"
             ],
             [
              0.4444444444444444,
              "#bd3786"
             ],
             [
              0.5555555555555556,
              "#d8576b"
             ],
             [
              0.6666666666666666,
              "#ed7953"
             ],
             [
              0.7777777777777778,
              "#fb9f3a"
             ],
             [
              0.8888888888888888,
              "#fdca26"
             ],
             [
              1,
              "#f0f921"
             ]
            ],
            "type": "histogram2d"
           }
          ],
          "histogram2dcontour": [
           {
            "colorbar": {
             "outlinewidth": 0,
             "ticks": ""
            },
            "colorscale": [
             [
              0,
              "#0d0887"
             ],
             [
              0.1111111111111111,
              "#46039f"
             ],
             [
              0.2222222222222222,
              "#7201a8"
             ],
             [
              0.3333333333333333,
              "#9c179e"
             ],
             [
              0.4444444444444444,
              "#bd3786"
             ],
             [
              0.5555555555555556,
              "#d8576b"
             ],
             [
              0.6666666666666666,
              "#ed7953"
             ],
             [
              0.7777777777777778,
              "#fb9f3a"
             ],
             [
              0.8888888888888888,
              "#fdca26"
             ],
             [
              1,
              "#f0f921"
             ]
            ],
            "type": "histogram2dcontour"
           }
          ],
          "mesh3d": [
           {
            "colorbar": {
             "outlinewidth": 0,
             "ticks": ""
            },
            "type": "mesh3d"
           }
          ],
          "parcoords": [
           {
            "line": {
             "colorbar": {
              "outlinewidth": 0,
              "ticks": ""
             }
            },
            "type": "parcoords"
           }
          ],
          "pie": [
           {
            "automargin": true,
            "type": "pie"
           }
          ],
          "scatter": [
           {
            "fillpattern": {
             "fillmode": "overlay",
             "size": 10,
             "solidity": 0.2
            },
            "type": "scatter"
           }
          ],
          "scatter3d": [
           {
            "line": {
             "colorbar": {
              "outlinewidth": 0,
              "ticks": ""
             }
            },
            "marker": {
             "colorbar": {
              "outlinewidth": 0,
              "ticks": ""
             }
            },
            "type": "scatter3d"
           }
          ],
          "scattercarpet": [
           {
            "marker": {
             "colorbar": {
              "outlinewidth": 0,
              "ticks": ""
             }
            },
            "type": "scattercarpet"
           }
          ],
          "scattergeo": [
           {
            "marker": {
             "colorbar": {
              "outlinewidth": 0,
              "ticks": ""
             }
            },
            "type": "scattergeo"
           }
          ],
          "scattergl": [
           {
            "marker": {
             "colorbar": {
              "outlinewidth": 0,
              "ticks": ""
             }
            },
            "type": "scattergl"
           }
          ],
          "scattermap": [
           {
            "marker": {
             "colorbar": {
              "outlinewidth": 0,
              "ticks": ""
             }
            },
            "type": "scattermap"
           }
          ],
          "scattermapbox": [
           {
            "marker": {
             "colorbar": {
              "outlinewidth": 0,
              "ticks": ""
             }
            },
            "type": "scattermapbox"
           }
          ],
          "scatterpolar": [
           {
            "marker": {
             "colorbar": {
              "outlinewidth": 0,
              "ticks": ""
             }
            },
            "type": "scatterpolar"
           }
          ],
          "scatterpolargl": [
           {
            "marker": {
             "colorbar": {
              "outlinewidth": 0,
              "ticks": ""
             }
            },
            "type": "scatterpolargl"
           }
          ],
          "scatterternary": [
           {
            "marker": {
             "colorbar": {
              "outlinewidth": 0,
              "ticks": ""
             }
            },
            "type": "scatterternary"
           }
          ],
          "surface": [
           {
            "colorbar": {
             "outlinewidth": 0,
             "ticks": ""
            },
            "colorscale": [
             [
              0,
              "#0d0887"
             ],
             [
              0.1111111111111111,
              "#46039f"
             ],
             [
              0.2222222222222222,
              "#7201a8"
             ],
             [
              0.3333333333333333,
              "#9c179e"
             ],
             [
              0.4444444444444444,
              "#bd3786"
             ],
             [
              0.5555555555555556,
              "#d8576b"
             ],
             [
              0.6666666666666666,
              "#ed7953"
             ],
             [
              0.7777777777777778,
              "#fb9f3a"
             ],
             [
              0.8888888888888888,
              "#fdca26"
             ],
             [
              1,
              "#f0f921"
             ]
            ],
            "type": "surface"
           }
          ],
          "table": [
           {
            "cells": {
             "fill": {
              "color": "#EBF0F8"
             },
             "line": {
              "color": "white"
             }
            },
            "header": {
             "fill": {
              "color": "#C8D4E3"
             },
             "line": {
              "color": "white"
             }
            },
            "type": "table"
           }
          ]
         },
         "layout": {
          "annotationdefaults": {
           "arrowcolor": "#2a3f5f",
           "arrowhead": 0,
           "arrowwidth": 1
          },
          "autotypenumbers": "strict",
          "coloraxis": {
           "colorbar": {
            "outlinewidth": 0,
            "ticks": ""
           }
          },
          "colorscale": {
           "diverging": [
            [
             0,
             "#8e0152"
            ],
            [
             0.1,
             "#c51b7d"
            ],
            [
             0.2,
             "#de77ae"
            ],
            [
             0.3,
             "#f1b6da"
            ],
            [
             0.4,
             "#fde0ef"
            ],
            [
             0.5,
             "#f7f7f7"
            ],
            [
             0.6,
             "#e6f5d0"
            ],
            [
             0.7,
             "#b8e186"
            ],
            [
             0.8,
             "#7fbc41"
            ],
            [
             0.9,
             "#4d9221"
            ],
            [
             1,
             "#276419"
            ]
           ],
           "sequential": [
            [
             0,
             "#0d0887"
            ],
            [
             0.1111111111111111,
             "#46039f"
            ],
            [
             0.2222222222222222,
             "#7201a8"
            ],
            [
             0.3333333333333333,
             "#9c179e"
            ],
            [
             0.4444444444444444,
             "#bd3786"
            ],
            [
             0.5555555555555556,
             "#d8576b"
            ],
            [
             0.6666666666666666,
             "#ed7953"
            ],
            [
             0.7777777777777778,
             "#fb9f3a"
            ],
            [
             0.8888888888888888,
             "#fdca26"
            ],
            [
             1,
             "#f0f921"
            ]
           ],
           "sequentialminus": [
            [
             0,
             "#0d0887"
            ],
            [
             0.1111111111111111,
             "#46039f"
            ],
            [
             0.2222222222222222,
             "#7201a8"
            ],
            [
             0.3333333333333333,
             "#9c179e"
            ],
            [
             0.4444444444444444,
             "#bd3786"
            ],
            [
             0.5555555555555556,
             "#d8576b"
            ],
            [
             0.6666666666666666,
             "#ed7953"
            ],
            [
             0.7777777777777778,
             "#fb9f3a"
            ],
            [
             0.8888888888888888,
             "#fdca26"
            ],
            [
             1,
             "#f0f921"
            ]
           ]
          },
          "colorway": [
           "#636efa",
           "#EF553B",
           "#00cc96",
           "#ab63fa",
           "#FFA15A",
           "#19d3f3",
           "#FF6692",
           "#B6E880",
           "#FF97FF",
           "#FECB52"
          ],
          "font": {
           "color": "#2a3f5f"
          },
          "geo": {
           "bgcolor": "white",
           "lakecolor": "white",
           "landcolor": "white",
           "showlakes": true,
           "showland": true,
           "subunitcolor": "#C8D4E3"
          },
          "hoverlabel": {
           "align": "left"
          },
          "hovermode": "closest",
          "mapbox": {
           "style": "light"
          },
          "paper_bgcolor": "white",
          "plot_bgcolor": "white",
          "polar": {
           "angularaxis": {
            "gridcolor": "#EBF0F8",
            "linecolor": "#EBF0F8",
            "ticks": ""
           },
           "bgcolor": "white",
           "radialaxis": {
            "gridcolor": "#EBF0F8",
            "linecolor": "#EBF0F8",
            "ticks": ""
           }
          },
          "scene": {
           "xaxis": {
            "backgroundcolor": "white",
            "gridcolor": "#DFE8F3",
            "gridwidth": 2,
            "linecolor": "#EBF0F8",
            "showbackground": true,
            "ticks": "",
            "zerolinecolor": "#EBF0F8"
           },
           "yaxis": {
            "backgroundcolor": "white",
            "gridcolor": "#DFE8F3",
            "gridwidth": 2,
            "linecolor": "#EBF0F8",
            "showbackground": true,
            "ticks": "",
            "zerolinecolor": "#EBF0F8"
           },
           "zaxis": {
            "backgroundcolor": "white",
            "gridcolor": "#DFE8F3",
            "gridwidth": 2,
            "linecolor": "#EBF0F8",
            "showbackground": true,
            "ticks": "",
            "zerolinecolor": "#EBF0F8"
           }
          },
          "shapedefaults": {
           "line": {
            "color": "#2a3f5f"
           }
          },
          "ternary": {
           "aaxis": {
            "gridcolor": "#DFE8F3",
            "linecolor": "#A2B1C6",
            "ticks": ""
           },
           "baxis": {
            "gridcolor": "#DFE8F3",
            "linecolor": "#A2B1C6",
            "ticks": ""
           },
           "bgcolor": "white",
           "caxis": {
            "gridcolor": "#DFE8F3",
            "linecolor": "#A2B1C6",
            "ticks": ""
           }
          },
          "title": {
           "x": 0.05
          },
          "xaxis": {
           "automargin": true,
           "gridcolor": "#EBF0F8",
           "linecolor": "#EBF0F8",
           "ticks": "",
           "title": {
            "standoff": 15
           },
           "zerolinecolor": "#EBF0F8",
           "zerolinewidth": 2
          },
          "yaxis": {
           "automargin": true,
           "gridcolor": "#EBF0F8",
           "linecolor": "#EBF0F8",
           "ticks": "",
           "title": {
            "standoff": 15
           },
           "zerolinecolor": "#EBF0F8",
           "zerolinewidth": 2
          }
         }
        },
        "xaxis": {
         "anchor": "y",
         "domain": [
          0,
          1
         ],
         "title": {
          "text": "Age"
         }
        },
        "yaxis": {
         "anchor": "x",
         "domain": [
          0,
          1
         ],
         "title": {
          "text": "Sex"
         }
        }
       }
      }
     },
     "metadata": {},
     "output_type": "display_data"
    }
   ],
   "source": [
    "fig = px.bar(df, \n",
    "             x='Age', \n",
    "             y='Sex',\n",
    "             # barmode='overlay',  # un/comment this line\n",
    "             hover_data=['Name'],\n",
    "             template='plotly_white',\n",
    "             color_discrete_sequence=px.colors.qualitative.D3\n",
    "            )\n",
    "fig.show()"
   ]
  },
  {
   "cell_type": "markdown",
   "id": "e9a29288-7228-4476-9e9c-cd3d6fa73726",
   "metadata": {},
   "source": [
    "## Histograms"
   ]
  },
  {
   "cell_type": "code",
   "execution_count": 8,
   "id": "69813105-e3cf-4c08-aca6-b24fe3ce55eb",
   "metadata": {
    "tags": []
   },
   "outputs": [
    {
     "data": {
      "text/plain": [
       "dtype('int64')"
      ]
     },
     "execution_count": 8,
     "metadata": {},
     "output_type": "execute_result"
    }
   ],
   "source": [
    "df['Survived'].dtype"
   ]
  },
  {
   "cell_type": "code",
   "execution_count": null,
   "id": "d3f4bc2b-47b5-498a-a051-2b09a5662c43",
   "metadata": {
    "tags": []
   },
   "outputs": [
    {
     "data": {
      "application/vnd.plotly.v1+json": {
       "config": {
        "plotlyServerURL": "https://plot.ly"
       },
       "data": [
        {
         "bingroup": "x",
         "hovertemplate": "Survived=0<br>Age=%{x}<br>count=%{y}<extra></extra>",
         "legendgroup": "0",
         "marker": {
          "color": "#1F77B4",
          "pattern": {
           "shape": ""
          }
         },
         "name": "0",
         "orientation": "v",
         "showlegend": true,
         "type": "histogram",
         "x": {
          "bdata": "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",
          "dtype": "f8"
         },
         "xaxis": "x",
         "yaxis": "y"
        },
        {
         "bingroup": "x",
         "hovertemplate": "Survived=1<br>Age=%{x}<br>count=%{y}<extra></extra>",
         "legendgroup": "1",
         "marker": {
          "color": "#FF7F0E",
          "pattern": {
           "shape": ""
          }
         },
         "name": "1",
         "orientation": "v",
         "showlegend": true,
         "type": "histogram",
         "x": {
          "bdata": "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",
          "dtype": "f8"
         },
         "xaxis": "x",
         "yaxis": "y"
        }
       ],
       "layout": {
        "bargap": 0.1,
        "barmode": "relative",
        "legend": {
         "title": {
          "text": "Survived"
         },
         "tracegroupgap": 0
        },
        "margin": {
         "t": 60
        },
        "template": {
         "data": {
          "bar": [
           {
            "error_x": {
             "color": "#2a3f5f"
            },
            "error_y": {
             "color": "#2a3f5f"
            },
            "marker": {
             "line": {
              "color": "white",
              "width": 0.5
             },
             "pattern": {
              "fillmode": "overlay",
              "size": 10,
              "solidity": 0.2
             }
            },
            "type": "bar"
           }
          ],
          "barpolar": [
           {
            "marker": {
             "line": {
              "color": "white",
              "width": 0.5
             },
             "pattern": {
              "fillmode": "overlay",
              "size": 10,
              "solidity": 0.2
             }
            },
            "type": "barpolar"
           }
          ],
          "carpet": [
           {
            "aaxis": {
             "endlinecolor": "#2a3f5f",
             "gridcolor": "#C8D4E3",
             "linecolor": "#C8D4E3",
             "minorgridcolor": "#C8D4E3",
             "startlinecolor": "#2a3f5f"
            },
            "baxis": {
             "endlinecolor": "#2a3f5f",
             "gridcolor": "#C8D4E3",
             "linecolor": "#C8D4E3",
             "minorgridcolor": "#C8D4E3",
             "startlinecolor": "#2a3f5f"
            },
            "type": "carpet"
           }
          ],
          "choropleth": [
           {
            "colorbar": {
             "outlinewidth": 0,
             "ticks": ""
            },
            "type": "choropleth"
           }
          ],
          "contour": [
           {
            "colorbar": {
             "outlinewidth": 0,
             "ticks": ""
            },
            "colorscale": [
             [
              0,
              "#0d0887"
             ],
             [
              0.1111111111111111,
              "#46039f"
             ],
             [
              0.2222222222222222,
              "#7201a8"
             ],
             [
              0.3333333333333333,
              "#9c179e"
             ],
             [
              0.4444444444444444,
              "#bd3786"
             ],
             [
              0.5555555555555556,
              "#d8576b"
             ],
             [
              0.6666666666666666,
              "#ed7953"
             ],
             [
              0.7777777777777778,
              "#fb9f3a"
             ],
             [
              0.8888888888888888,
              "#fdca26"
             ],
             [
              1,
              "#f0f921"
             ]
            ],
            "type": "contour"
           }
          ],
          "contourcarpet": [
           {
            "colorbar": {
             "outlinewidth": 0,
             "ticks": ""
            },
            "type": "contourcarpet"
           }
          ],
          "heatmap": [
           {
            "colorbar": {
             "outlinewidth": 0,
             "ticks": ""
            },
            "colorscale": [
             [
              0,
              "#0d0887"
             ],
             [
              0.1111111111111111,
              "#46039f"
             ],
             [
              0.2222222222222222,
              "#7201a8"
             ],
             [
              0.3333333333333333,
              "#9c179e"
             ],
             [
              0.4444444444444444,
              "#bd3786"
             ],
             [
              0.5555555555555556,
              "#d8576b"
             ],
             [
              0.6666666666666666,
              "#ed7953"
             ],
             [
              0.7777777777777778,
              "#fb9f3a"
             ],
             [
              0.8888888888888888,
              "#fdca26"
             ],
             [
              1,
              "#f0f921"
             ]
            ],
            "type": "heatmap"
           }
          ],
          "histogram": [
           {
            "marker": {
             "pattern": {
              "fillmode": "overlay",
              "size": 10,
              "solidity": 0.2
             }
            },
            "type": "histogram"
           }
          ],
          "histogram2d": [
           {
            "colorbar": {
             "outlinewidth": 0,
             "ticks": ""
            },
            "colorscale": [
             [
              0,
              "#0d0887"
             ],
             [
              0.1111111111111111,
              "#46039f"
             ],
             [
              0.2222222222222222,
              "#7201a8"
             ],
             [
              0.3333333333333333,
              "#9c179e"
             ],
             [
              0.4444444444444444,
              "#bd3786"
             ],
             [
              0.5555555555555556,
              "#d8576b"
             ],
             [
              0.6666666666666666,
              "#ed7953"
             ],
             [
              0.7777777777777778,
              "#fb9f3a"
             ],
             [
              0.8888888888888888,
              "#fdca26"
             ],
             [
              1,
              "#f0f921"
             ]
            ],
            "type": "histogram2d"
           }
          ],
          "histogram2dcontour": [
           {
            "colorbar": {
             "outlinewidth": 0,
             "ticks": ""
            },
            "colorscale": [
             [
              0,
              "#0d0887"
             ],
             [
              0.1111111111111111,
              "#46039f"
             ],
             [
              0.2222222222222222,
              "#7201a8"
             ],
             [
              0.3333333333333333,
              "#9c179e"
             ],
             [
              0.4444444444444444,
              "#bd3786"
             ],
             [
              0.5555555555555556,
              "#d8576b"
             ],
             [
              0.6666666666666666,
              "#ed7953"
             ],
             [
              0.7777777777777778,
              "#fb9f3a"
             ],
             [
              0.8888888888888888,
              "#fdca26"
             ],
             [
              1,
              "#f0f921"
             ]
            ],
            "type": "histogram2dcontour"
           }
          ],
          "mesh3d": [
           {
            "colorbar": {
             "outlinewidth": 0,
             "ticks": ""
            },
            "type": "mesh3d"
           }
          ],
          "parcoords": [
           {
            "line": {
             "colorbar": {
              "outlinewidth": 0,
              "ticks": ""
             }
            },
            "type": "parcoords"
           }
          ],
          "pie": [
           {
            "automargin": true,
            "type": "pie"
           }
          ],
          "scatter": [
           {
            "fillpattern": {
             "fillmode": "overlay",
             "size": 10,
             "solidity": 0.2
            },
            "type": "scatter"
           }
          ],
          "scatter3d": [
           {
            "line": {
             "colorbar": {
              "outlinewidth": 0,
              "ticks": ""
             }
            },
            "marker": {
             "colorbar": {
              "outlinewidth": 0,
              "ticks": ""
             }
            },
            "type": "scatter3d"
           }
          ],
          "scattercarpet": [
           {
            "marker": {
             "colorbar": {
              "outlinewidth": 0,
              "ticks": ""
             }
            },
            "type": "scattercarpet"
           }
          ],
          "scattergeo": [
           {
            "marker": {
             "colorbar": {
              "outlinewidth": 0,
              "ticks": ""
             }
            },
            "type": "scattergeo"
           }
          ],
          "scattergl": [
           {
            "marker": {
             "colorbar": {
              "outlinewidth": 0,
              "ticks": ""
             }
            },
            "type": "scattergl"
           }
          ],
          "scattermap": [
           {
            "marker": {
             "colorbar": {
              "outlinewidth": 0,
              "ticks": ""
             }
            },
            "type": "scattermap"
           }
          ],
          "scattermapbox": [
           {
            "marker": {
             "colorbar": {
              "outlinewidth": 0,
              "ticks": ""
             }
            },
            "type": "scattermapbox"
           }
          ],
          "scatterpolar": [
           {
            "marker": {
             "colorbar": {
              "outlinewidth": 0,
              "ticks": ""
             }
            },
            "type": "scatterpolar"
           }
          ],
          "scatterpolargl": [
           {
            "marker": {
             "colorbar": {
              "outlinewidth": 0,
              "ticks": ""
             }
            },
            "type": "scatterpolargl"
           }
          ],
          "scatterternary": [
           {
            "marker": {
             "colorbar": {
              "outlinewidth": 0,
              "ticks": ""
             }
            },
            "type": "scatterternary"
           }
          ],
          "surface": [
           {
            "colorbar": {
             "outlinewidth": 0,
             "ticks": ""
            },
            "colorscale": [
             [
              0,
              "#0d0887"
             ],
             [
              0.1111111111111111,
              "#46039f"
             ],
             [
              0.2222222222222222,
              "#7201a8"
             ],
             [
              0.3333333333333333,
              "#9c179e"
             ],
             [
              0.4444444444444444,
              "#bd3786"
             ],
             [
              0.5555555555555556,
              "#d8576b"
             ],
             [
              0.6666666666666666,
              "#ed7953"
             ],
             [
              0.7777777777777778,
              "#fb9f3a"
             ],
             [
              0.8888888888888888,
              "#fdca26"
             ],
             [
              1,
              "#f0f921"
             ]
            ],
            "type": "surface"
           }
          ],
          "table": [
           {
            "cells": {
             "fill": {
              "color": "#EBF0F8"
             },
             "line": {
              "color": "white"
             }
            },
            "header": {
             "fill": {
              "color": "#C8D4E3"
             },
             "line": {
              "color": "white"
             }
            },
            "type": "table"
           }
          ]
         },
         "layout": {
          "annotationdefaults": {
           "arrowcolor": "#2a3f5f",
           "arrowhead": 0,
           "arrowwidth": 1
          },
          "autotypenumbers": "strict",
          "coloraxis": {
           "colorbar": {
            "outlinewidth": 0,
            "ticks": ""
           }
          },
          "colorscale": {
           "diverging": [
            [
             0,
             "#8e0152"
            ],
            [
             0.1,
             "#c51b7d"
            ],
            [
             0.2,
             "#de77ae"
            ],
            [
             0.3,
             "#f1b6da"
            ],
            [
             0.4,
             "#fde0ef"
            ],
            [
             0.5,
             "#f7f7f7"
            ],
            [
             0.6,
             "#e6f5d0"
            ],
            [
             0.7,
             "#b8e186"
            ],
            [
             0.8,
             "#7fbc41"
            ],
            [
             0.9,
             "#4d9221"
            ],
            [
             1,
             "#276419"
            ]
           ],
           "sequential": [
            [
             0,
             "#0d0887"
            ],
            [
             0.1111111111111111,
             "#46039f"
            ],
            [
             0.2222222222222222,
             "#7201a8"
            ],
            [
             0.3333333333333333,
             "#9c179e"
            ],
            [
             0.4444444444444444,
             "#bd3786"
            ],
            [
             0.5555555555555556,
             "#d8576b"
            ],
            [
             0.6666666666666666,
             "#ed7953"
            ],
            [
             0.7777777777777778,
             "#fb9f3a"
            ],
            [
             0.8888888888888888,
             "#fdca26"
            ],
            [
             1,
             "#f0f921"
            ]
           ],
           "sequentialminus": [
            [
             0,
             "#0d0887"
            ],
            [
             0.1111111111111111,
             "#46039f"
            ],
            [
             0.2222222222222222,
             "#7201a8"
            ],
            [
             0.3333333333333333,
             "#9c179e"
            ],
            [
             0.4444444444444444,
             "#bd3786"
            ],
            [
             0.5555555555555556,
             "#d8576b"
            ],
            [
             0.6666666666666666,
             "#ed7953"
            ],
            [
             0.7777777777777778,
             "#fb9f3a"
            ],
            [
             0.8888888888888888,
             "#fdca26"
            ],
            [
             1,
             "#f0f921"
            ]
           ]
          },
          "colorway": [
           "#636efa",
           "#EF553B",
           "#00cc96",
           "#ab63fa",
           "#FFA15A",
           "#19d3f3",
           "#FF6692",
           "#B6E880",
           "#FF97FF",
           "#FECB52"
          ],
          "font": {
           "color": "#2a3f5f"
          },
          "geo": {
           "bgcolor": "white",
           "lakecolor": "white",
           "landcolor": "white",
           "showlakes": true,
           "showland": true,
           "subunitcolor": "#C8D4E3"
          },
          "hoverlabel": {
           "align": "left"
          },
          "hovermode": "closest",
          "mapbox": {
           "style": "light"
          },
          "paper_bgcolor": "white",
          "plot_bgcolor": "white",
          "polar": {
           "angularaxis": {
            "gridcolor": "#EBF0F8",
            "linecolor": "#EBF0F8",
            "ticks": ""
           },
           "bgcolor": "white",
           "radialaxis": {
            "gridcolor": "#EBF0F8",
            "linecolor": "#EBF0F8",
            "ticks": ""
           }
          },
          "scene": {
           "xaxis": {
            "backgroundcolor": "white",
            "gridcolor": "#DFE8F3",
            "gridwidth": 2,
            "linecolor": "#EBF0F8",
            "showbackground": true,
            "ticks": "",
            "zerolinecolor": "#EBF0F8"
           },
           "yaxis": {
            "backgroundcolor": "white",
            "gridcolor": "#DFE8F3",
            "gridwidth": 2,
            "linecolor": "#EBF0F8",
            "showbackground": true,
            "ticks": "",
            "zerolinecolor": "#EBF0F8"
           },
           "zaxis": {
            "backgroundcolor": "white",
            "gridcolor": "#DFE8F3",
            "gridwidth": 2,
            "linecolor": "#EBF0F8",
            "showbackground": true,
            "ticks": "",
            "zerolinecolor": "#EBF0F8"
           }
          },
          "shapedefaults": {
           "line": {
            "color": "#2a3f5f"
           }
          },
          "ternary": {
           "aaxis": {
            "gridcolor": "#DFE8F3",
            "linecolor": "#A2B1C6",
            "ticks": ""
           },
           "baxis": {
            "gridcolor": "#DFE8F3",
            "linecolor": "#A2B1C6",
            "ticks": ""
           },
           "bgcolor": "white",
           "caxis": {
            "gridcolor": "#DFE8F3",
            "linecolor": "#A2B1C6",
            "ticks": ""
           }
          },
          "title": {
           "x": 0.05
          },
          "xaxis": {
           "automargin": true,
           "gridcolor": "#EBF0F8",
           "linecolor": "#EBF0F8",
           "ticks": "",
           "title": {
            "standoff": 15
           },
           "zerolinecolor": "#EBF0F8",
           "zerolinewidth": 2
          },
          "yaxis": {
           "automargin": true,
           "gridcolor": "#EBF0F8",
           "linecolor": "#EBF0F8",
           "ticks": "",
           "title": {
            "standoff": 15
           },
           "zerolinecolor": "#EBF0F8",
           "zerolinewidth": 2
          }
         }
        },
        "xaxis": {
         "anchor": "y",
         "domain": [
          0,
          1
         ],
         "title": {
          "text": "Age"
         }
        },
        "yaxis": {
         "anchor": "x",
         "domain": [
          0,
          1
         ],
         "title": {
          "text": "count"
         }
        }
       }
      }
     },
     "metadata": {},
     "output_type": "display_data"
    }
   ],
   "source": [
    "fig = px.histogram(df, \n",
    "                   x='Age', \n",
    "                   color='Survived',\n",
    "                   template='plotly_white',\n",
    "                   color_discrete_sequence=px.colors.qualitative.D3\n",
    "                  )\n",
    "\n",
    "fig.update_layout(\n",
    "    bargap=0.1, # gap between adjacent bars\n",
    ")\n",
    "\n",
    "fig.show()"
   ]
  },
  {
   "cell_type": "markdown",
   "id": "6e4f3cf1-d431-4dfb-8e15-40fc61007b49",
   "metadata": {},
   "source": [
    "## Bubble Plot\n",
    "\n",
    "For this plot, we'll transform the data a bit to investigate the survival rates across different age decades."
   ]
  },
  {
   "cell_type": "code",
   "execution_count": 10,
   "id": "65d8b9ae-8928-4899-98dc-47cd650b64b9",
   "metadata": {},
   "outputs": [
    {
     "data": {
      "text/html": [
       "<div>\n",
       "<style scoped>\n",
       "    .dataframe tbody tr th:only-of-type {\n",
       "        vertical-align: middle;\n",
       "    }\n",
       "\n",
       "    .dataframe tbody tr th {\n",
       "        vertical-align: top;\n",
       "    }\n",
       "\n",
       "    .dataframe thead th {\n",
       "        text-align: right;\n",
       "    }\n",
       "</style>\n",
       "<table border=\"1\" class=\"dataframe\">\n",
       "  <thead>\n",
       "    <tr style=\"text-align: right;\">\n",
       "      <th></th>\n",
       "      <th>Age</th>\n",
       "      <th>Age_rounded</th>\n",
       "    </tr>\n",
       "  </thead>\n",
       "  <tbody>\n",
       "    <tr>\n",
       "      <th>0</th>\n",
       "      <td>22.0</td>\n",
       "      <td>20.0</td>\n",
       "    </tr>\n",
       "    <tr>\n",
       "      <th>1</th>\n",
       "      <td>38.0</td>\n",
       "      <td>40.0</td>\n",
       "    </tr>\n",
       "    <tr>\n",
       "      <th>2</th>\n",
       "      <td>26.0</td>\n",
       "      <td>30.0</td>\n",
       "    </tr>\n",
       "    <tr>\n",
       "      <th>3</th>\n",
       "      <td>35.0</td>\n",
       "      <td>40.0</td>\n",
       "    </tr>\n",
       "    <tr>\n",
       "      <th>4</th>\n",
       "      <td>35.0</td>\n",
       "      <td>40.0</td>\n",
       "    </tr>\n",
       "  </tbody>\n",
       "</table>\n",
       "</div>"
      ],
      "text/plain": [
       "    Age  Age_rounded\n",
       "0  22.0         20.0\n",
       "1  38.0         40.0\n",
       "2  26.0         30.0\n",
       "3  35.0         40.0\n",
       "4  35.0         40.0"
      ]
     },
     "execution_count": 10,
     "metadata": {},
     "output_type": "execute_result"
    }
   ],
   "source": [
    "# calculate decade\n",
    "df['Age_rounded'] = df['Age'].round(-1)\n",
    "df[['Age', 'Age_rounded']].head()"
   ]
  },
  {
   "cell_type": "code",
   "execution_count": 11,
   "id": "112f5051-0a7d-4f29-93f5-085d1eeacdf6",
   "metadata": {},
   "outputs": [],
   "source": [
    "df_plot = df.groupby(['Pclass', 'Age_rounded'])['Survived'] \\\n",
    "            .agg([('Survived', 'sum'), \n",
    "                  ('Passengers', 'count')]).reset_index()\n",
    "\n",
    "df_plot[\"Pclass\"] = df_plot[\"Pclass\"].astype(str)"
   ]
  },
  {
   "cell_type": "code",
   "execution_count": 12,
   "id": "f9680dde-4c40-453e-85d8-bb69f5f0942e",
   "metadata": {},
   "outputs": [
    {
     "data": {
      "text/html": [
       "<div>\n",
       "<style scoped>\n",
       "    .dataframe tbody tr th:only-of-type {\n",
       "        vertical-align: middle;\n",
       "    }\n",
       "\n",
       "    .dataframe tbody tr th {\n",
       "        vertical-align: top;\n",
       "    }\n",
       "\n",
       "    .dataframe thead th {\n",
       "        text-align: right;\n",
       "    }\n",
       "</style>\n",
       "<table border=\"1\" class=\"dataframe\">\n",
       "  <thead>\n",
       "    <tr style=\"text-align: right;\">\n",
       "      <th></th>\n",
       "      <th>Pclass</th>\n",
       "      <th>Age_rounded</th>\n",
       "      <th>Survived</th>\n",
       "      <th>Passengers</th>\n",
       "    </tr>\n",
       "  </thead>\n",
       "  <tbody>\n",
       "    <tr>\n",
       "      <th>0</th>\n",
       "      <td>1</td>\n",
       "      <td>0.0</td>\n",
       "      <td>2</td>\n",
       "      <td>3</td>\n",
       "    </tr>\n",
       "    <tr>\n",
       "      <th>1</th>\n",
       "      <td>1</td>\n",
       "      <td>10.0</td>\n",
       "      <td>2</td>\n",
       "      <td>2</td>\n",
       "    </tr>\n",
       "    <tr>\n",
       "      <th>2</th>\n",
       "      <td>1</td>\n",
       "      <td>20.0</td>\n",
       "      <td>29</td>\n",
       "      <td>37</td>\n",
       "    </tr>\n",
       "    <tr>\n",
       "      <th>3</th>\n",
       "      <td>1</td>\n",
       "      <td>30.0</td>\n",
       "      <td>22</td>\n",
       "      <td>31</td>\n",
       "    </tr>\n",
       "    <tr>\n",
       "      <th>4</th>\n",
       "      <td>1</td>\n",
       "      <td>40.0</td>\n",
       "      <td>37</td>\n",
       "      <td>51</td>\n",
       "    </tr>\n",
       "  </tbody>\n",
       "</table>\n",
       "</div>"
      ],
      "text/plain": [
       "  Pclass  Age_rounded  Survived  Passengers\n",
       "0      1          0.0         2           3\n",
       "1      1         10.0         2           2\n",
       "2      1         20.0        29          37\n",
       "3      1         30.0        22          31\n",
       "4      1         40.0        37          51"
      ]
     },
     "execution_count": 12,
     "metadata": {},
     "output_type": "execute_result"
    }
   ],
   "source": [
    "df_plot.head()"
   ]
  },
  {
   "cell_type": "markdown",
   "id": "e33decd8",
   "metadata": {},
   "source": [
    "*Note: it is possible to put **too much** in a visualization, even with a seemingly small amount of code ...*"
   ]
  },
  {
   "cell_type": "code",
   "execution_count": 14,
   "id": "d02d6a7e-e1ec-41fe-90f1-2c8a50008b90",
   "metadata": {},
   "outputs": [
    {
     "data": {
      "application/vnd.plotly.v1+json": {
       "config": {
        "plotlyServerURL": "https://plot.ly"
       },
       "data": [
        {
         "hovertemplate": "Pclass=1<br>Age_rounded=%{x}<br>Survived=%{y}<br>Passengers=%{marker.size}<extra></extra>",
         "legendgroup": "1",
         "marker": {
          "color": "#1F77B4",
          "size": {
           "bdata": "AwIlHzMjFwMB",
           "dtype": "i1"
          },
          "sizemode": "area",
          "sizeref": 0.35,
          "symbol": "circle"
         },
         "mode": "markers",
         "name": "1",
         "orientation": "v",
         "showlegend": true,
         "type": "scatter",
         "x": {
          "bdata": "AAAAAAAAAAAAAAAAAAAkQAAAAAAAADRAAAAAAAAAPkAAAAAAAABEQAAAAAAAAElAAAAAAAAATkAAAAAAAIBRQAAAAAAAAFRA",
          "dtype": "f8"
         },
         "xaxis": "x",
         "y": {
          "bdata": "AgIdFiUUCQAB",
          "dtype": "i1"
         },
         "yaxis": "y"
        },
        {
         "hovertemplate": "Pclass=2<br>Age_rounded=%{x}<br>Survived=%{y}<br>Passengers=%{marker.size}<extra></extra>",
         "legendgroup": "2",
         "marker": {
          "color": "#FF7F0E",
          "size": {
           "bdata": "DQYuNx4PBgI=",
           "dtype": "i1"
          },
          "sizemode": "area",
          "sizeref": 0.35,
          "symbol": "circle"
         },
         "mode": "markers",
         "name": "2",
         "orientation": "v",
         "showlegend": true,
         "type": "scatter",
         "x": {
          "bdata": "AAAAAAAAAAAAAAAAAAAkQAAAAAAAADRAAAAAAAAAPkAAAAAAAABEQAAAAAAAAElAAAAAAAAATkAAAAAAAIBRQA==",
          "dtype": "f8"
         },
         "xaxis": "x",
         "y": {
          "bdata": "DQYTGQ0FAgA=",
          "dtype": "i1"
         },
         "yaxis": "y"
        },
        {
         "hovertemplate": "Pclass=3<br>Age_rounded=%{x}<br>Survived=%{y}<br>Passengers=%{marker.size}<extra></extra>",
         "legendgroup": "3",
         "marker": {
          "color": "#2CA02C",
          "size": {
           "bdata": "HAAaAIwAXAAzAAsABQACAA==",
           "dtype": "i2"
          },
          "sizemode": "area",
          "sizeref": 0.35,
          "symbol": "circle"
         },
         "mode": "markers",
         "name": "3",
         "orientation": "v",
         "showlegend": true,
         "type": "scatter",
         "x": {
          "bdata": "AAAAAAAAAAAAAAAAAAAkQAAAAAAAADRAAAAAAAAAPkAAAAAAAABEQAAAAAAAAElAAAAAAAAATkAAAAAAAIBRQA==",
          "dtype": "f8"
         },
         "xaxis": "x",
         "y": {
          "bdata": "EAYfGQYAAQA=",
          "dtype": "i1"
         },
         "yaxis": "y"
        }
       ],
       "layout": {
        "legend": {
         "itemsizing": "constant",
         "title": {
          "text": "Pclass"
         },
         "tracegroupgap": 0
        },
        "margin": {
         "t": 60
        },
        "template": {
         "data": {
          "bar": [
           {
            "error_x": {
             "color": "#2a3f5f"
            },
            "error_y": {
             "color": "#2a3f5f"
            },
            "marker": {
             "line": {
              "color": "white",
              "width": 0.5
             },
             "pattern": {
              "fillmode": "overlay",
              "size": 10,
              "solidity": 0.2
             }
            },
            "type": "bar"
           }
          ],
          "barpolar": [
           {
            "marker": {
             "line": {
              "color": "white",
              "width": 0.5
             },
             "pattern": {
              "fillmode": "overlay",
              "size": 10,
              "solidity": 0.2
             }
            },
            "type": "barpolar"
           }
          ],
          "carpet": [
           {
            "aaxis": {
             "endlinecolor": "#2a3f5f",
             "gridcolor": "#C8D4E3",
             "linecolor": "#C8D4E3",
             "minorgridcolor": "#C8D4E3",
             "startlinecolor": "#2a3f5f"
            },
            "baxis": {
             "endlinecolor": "#2a3f5f",
             "gridcolor": "#C8D4E3",
             "linecolor": "#C8D4E3",
             "minorgridcolor": "#C8D4E3",
             "startlinecolor": "#2a3f5f"
            },
            "type": "carpet"
           }
          ],
          "choropleth": [
           {
            "colorbar": {
             "outlinewidth": 0,
             "ticks": ""
            },
            "type": "choropleth"
           }
          ],
          "contour": [
           {
            "colorbar": {
             "outlinewidth": 0,
             "ticks": ""
            },
            "colorscale": [
             [
              0,
              "#0d0887"
             ],
             [
              0.1111111111111111,
              "#46039f"
             ],
             [
              0.2222222222222222,
              "#7201a8"
             ],
             [
              0.3333333333333333,
              "#9c179e"
             ],
             [
              0.4444444444444444,
              "#bd3786"
             ],
             [
              0.5555555555555556,
              "#d8576b"
             ],
             [
              0.6666666666666666,
              "#ed7953"
             ],
             [
              0.7777777777777778,
              "#fb9f3a"
             ],
             [
              0.8888888888888888,
              "#fdca26"
             ],
             [
              1,
              "#f0f921"
             ]
            ],
            "type": "contour"
           }
          ],
          "contourcarpet": [
           {
            "colorbar": {
             "outlinewidth": 0,
             "ticks": ""
            },
            "type": "contourcarpet"
           }
          ],
          "heatmap": [
           {
            "colorbar": {
             "outlinewidth": 0,
             "ticks": ""
            },
            "colorscale": [
             [
              0,
              "#0d0887"
             ],
             [
              0.1111111111111111,
              "#46039f"
             ],
             [
              0.2222222222222222,
              "#7201a8"
             ],
             [
              0.3333333333333333,
              "#9c179e"
             ],
             [
              0.4444444444444444,
              "#bd3786"
             ],
             [
              0.5555555555555556,
              "#d8576b"
             ],
             [
              0.6666666666666666,
              "#ed7953"
             ],
             [
              0.7777777777777778,
              "#fb9f3a"
             ],
             [
              0.8888888888888888,
              "#fdca26"
             ],
             [
              1,
              "#f0f921"
             ]
            ],
            "type": "heatmap"
           }
          ],
          "histogram": [
           {
            "marker": {
             "pattern": {
              "fillmode": "overlay",
              "size": 10,
              "solidity": 0.2
             }
            },
            "type": "histogram"
           }
          ],
          "histogram2d": [
           {
            "colorbar": {
             "outlinewidth": 0,
             "ticks": ""
            },
            "colorscale": [
             [
              0,
              "#0d0887"
             ],
             [
              0.1111111111111111,
              "#46039f"
             ],
             [
              0.2222222222222222,
              "#7201a8"
             ],
             [
              0.3333333333333333,
              "#9c179e"
             ],
             [
              0.4444444444444444,
              "#bd3786"
             ],
             [
              0.5555555555555556,
              "#d8576b"
             ],
             [
              0.6666666666666666,
              "#ed7953"
             ],
             [
              0.7777777777777778,
              "#fb9f3a"
             ],
             [
              0.8888888888888888,
              "#fdca26"
             ],
             [
              1,
              "#f0f921"
             ]
            ],
            "type": "histogram2d"
           }
          ],
          "histogram2dcontour": [
           {
            "colorbar": {
             "outlinewidth": 0,
             "ticks": ""
            },
            "colorscale": [
             [
              0,
              "#0d0887"
             ],
             [
              0.1111111111111111,
              "#46039f"
             ],
             [
              0.2222222222222222,
              "#7201a8"
             ],
             [
              0.3333333333333333,
              "#9c179e"
             ],
             [
              0.4444444444444444,
              "#bd3786"
             ],
             [
              0.5555555555555556,
              "#d8576b"
             ],
             [
              0.6666666666666666,
              "#ed7953"
             ],
             [
              0.7777777777777778,
              "#fb9f3a"
             ],
             [
              0.8888888888888888,
              "#fdca26"
             ],
             [
              1,
              "#f0f921"
             ]
            ],
            "type": "histogram2dcontour"
           }
          ],
          "mesh3d": [
           {
            "colorbar": {
             "outlinewidth": 0,
             "ticks": ""
            },
            "type": "mesh3d"
           }
          ],
          "parcoords": [
           {
            "line": {
             "colorbar": {
              "outlinewidth": 0,
              "ticks": ""
             }
            },
            "type": "parcoords"
           }
          ],
          "pie": [
           {
            "automargin": true,
            "type": "pie"
           }
          ],
          "scatter": [
           {
            "fillpattern": {
             "fillmode": "overlay",
             "size": 10,
             "solidity": 0.2
            },
            "type": "scatter"
           }
          ],
          "scatter3d": [
           {
            "line": {
             "colorbar": {
              "outlinewidth": 0,
              "ticks": ""
             }
            },
            "marker": {
             "colorbar": {
              "outlinewidth": 0,
              "ticks": ""
             }
            },
            "type": "scatter3d"
           }
          ],
          "scattercarpet": [
           {
            "marker": {
             "colorbar": {
              "outlinewidth": 0,
              "ticks": ""
             }
            },
            "type": "scattercarpet"
           }
          ],
          "scattergeo": [
           {
            "marker": {
             "colorbar": {
              "outlinewidth": 0,
              "ticks": ""
             }
            },
            "type": "scattergeo"
           }
          ],
          "scattergl": [
           {
            "marker": {
             "colorbar": {
              "outlinewidth": 0,
              "ticks": ""
             }
            },
            "type": "scattergl"
           }
          ],
          "scattermap": [
           {
            "marker": {
             "colorbar": {
              "outlinewidth": 0,
              "ticks": ""
             }
            },
            "type": "scattermap"
           }
          ],
          "scattermapbox": [
           {
            "marker": {
             "colorbar": {
              "outlinewidth": 0,
              "ticks": ""
             }
            },
            "type": "scattermapbox"
           }
          ],
          "scatterpolar": [
           {
            "marker": {
             "colorbar": {
              "outlinewidth": 0,
              "ticks": ""
             }
            },
            "type": "scatterpolar"
           }
          ],
          "scatterpolargl": [
           {
            "marker": {
             "colorbar": {
              "outlinewidth": 0,
              "ticks": ""
             }
            },
            "type": "scatterpolargl"
           }
          ],
          "scatterternary": [
           {
            "marker": {
             "colorbar": {
              "outlinewidth": 0,
              "ticks": ""
             }
            },
            "type": "scatterternary"
           }
          ],
          "surface": [
           {
            "colorbar": {
             "outlinewidth": 0,
             "ticks": ""
            },
            "colorscale": [
             [
              0,
              "#0d0887"
             ],
             [
              0.1111111111111111,
              "#46039f"
             ],
             [
              0.2222222222222222,
              "#7201a8"
             ],
             [
              0.3333333333333333,
              "#9c179e"
             ],
             [
              0.4444444444444444,
              "#bd3786"
             ],
             [
              0.5555555555555556,
              "#d8576b"
             ],
             [
              0.6666666666666666,
              "#ed7953"
             ],
             [
              0.7777777777777778,
              "#fb9f3a"
             ],
             [
              0.8888888888888888,
              "#fdca26"
             ],
             [
              1,
              "#f0f921"
             ]
            ],
            "type": "surface"
           }
          ],
          "table": [
           {
            "cells": {
             "fill": {
              "color": "#EBF0F8"
             },
             "line": {
              "color": "white"
             }
            },
            "header": {
             "fill": {
              "color": "#C8D4E3"
             },
             "line": {
              "color": "white"
             }
            },
            "type": "table"
           }
          ]
         },
         "layout": {
          "annotationdefaults": {
           "arrowcolor": "#2a3f5f",
           "arrowhead": 0,
           "arrowwidth": 1
          },
          "autotypenumbers": "strict",
          "coloraxis": {
           "colorbar": {
            "outlinewidth": 0,
            "ticks": ""
           }
          },
          "colorscale": {
           "diverging": [
            [
             0,
             "#8e0152"
            ],
            [
             0.1,
             "#c51b7d"
            ],
            [
             0.2,
             "#de77ae"
            ],
            [
             0.3,
             "#f1b6da"
            ],
            [
             0.4,
             "#fde0ef"
            ],
            [
             0.5,
             "#f7f7f7"
            ],
            [
             0.6,
             "#e6f5d0"
            ],
            [
             0.7,
             "#b8e186"
            ],
            [
             0.8,
             "#7fbc41"
            ],
            [
             0.9,
             "#4d9221"
            ],
            [
             1,
             "#276419"
            ]
           ],
           "sequential": [
            [
             0,
             "#0d0887"
            ],
            [
             0.1111111111111111,
             "#46039f"
            ],
            [
             0.2222222222222222,
             "#7201a8"
            ],
            [
             0.3333333333333333,
             "#9c179e"
            ],
            [
             0.4444444444444444,
             "#bd3786"
            ],
            [
             0.5555555555555556,
             "#d8576b"
            ],
            [
             0.6666666666666666,
             "#ed7953"
            ],
            [
             0.7777777777777778,
             "#fb9f3a"
            ],
            [
             0.8888888888888888,
             "#fdca26"
            ],
            [
             1,
             "#f0f921"
            ]
           ],
           "sequentialminus": [
            [
             0,
             "#0d0887"
            ],
            [
             0.1111111111111111,
             "#46039f"
            ],
            [
             0.2222222222222222,
             "#7201a8"
            ],
            [
             0.3333333333333333,
             "#9c179e"
            ],
            [
             0.4444444444444444,
             "#bd3786"
            ],
            [
             0.5555555555555556,
             "#d8576b"
            ],
            [
             0.6666666666666666,
             "#ed7953"
            ],
            [
             0.7777777777777778,
             "#fb9f3a"
            ],
            [
             0.8888888888888888,
             "#fdca26"
            ],
            [
             1,
             "#f0f921"
            ]
           ]
          },
          "colorway": [
           "#636efa",
           "#EF553B",
           "#00cc96",
           "#ab63fa",
           "#FFA15A",
           "#19d3f3",
           "#FF6692",
           "#B6E880",
           "#FF97FF",
           "#FECB52"
          ],
          "font": {
           "color": "#2a3f5f"
          },
          "geo": {
           "bgcolor": "white",
           "lakecolor": "white",
           "landcolor": "white",
           "showlakes": true,
           "showland": true,
           "subunitcolor": "#C8D4E3"
          },
          "hoverlabel": {
           "align": "left"
          },
          "hovermode": "closest",
          "mapbox": {
           "style": "light"
          },
          "paper_bgcolor": "white",
          "plot_bgcolor": "white",
          "polar": {
           "angularaxis": {
            "gridcolor": "#EBF0F8",
            "linecolor": "#EBF0F8",
            "ticks": ""
           },
           "bgcolor": "white",
           "radialaxis": {
            "gridcolor": "#EBF0F8",
            "linecolor": "#EBF0F8",
            "ticks": ""
           }
          },
          "scene": {
           "xaxis": {
            "backgroundcolor": "white",
            "gridcolor": "#DFE8F3",
            "gridwidth": 2,
            "linecolor": "#EBF0F8",
            "showbackground": true,
            "ticks": "",
            "zerolinecolor": "#EBF0F8"
           },
           "yaxis": {
            "backgroundcolor": "white",
            "gridcolor": "#DFE8F3",
            "gridwidth": 2,
            "linecolor": "#EBF0F8",
            "showbackground": true,
            "ticks": "",
            "zerolinecolor": "#EBF0F8"
           },
           "zaxis": {
            "backgroundcolor": "white",
            "gridcolor": "#DFE8F3",
            "gridwidth": 2,
            "linecolor": "#EBF0F8",
            "showbackground": true,
            "ticks": "",
            "zerolinecolor": "#EBF0F8"
           }
          },
          "shapedefaults": {
           "line": {
            "color": "#2a3f5f"
           }
          },
          "ternary": {
           "aaxis": {
            "gridcolor": "#DFE8F3",
            "linecolor": "#A2B1C6",
            "ticks": ""
           },
           "baxis": {
            "gridcolor": "#DFE8F3",
            "linecolor": "#A2B1C6",
            "ticks": ""
           },
           "bgcolor": "white",
           "caxis": {
            "gridcolor": "#DFE8F3",
            "linecolor": "#A2B1C6",
            "ticks": ""
           }
          },
          "title": {
           "x": 0.05
          },
          "xaxis": {
           "automargin": true,
           "gridcolor": "#EBF0F8",
           "linecolor": "#EBF0F8",
           "ticks": "",
           "title": {
            "standoff": 15
           },
           "zerolinecolor": "#EBF0F8",
           "zerolinewidth": 2
          },
          "yaxis": {
           "automargin": true,
           "gridcolor": "#EBF0F8",
           "linecolor": "#EBF0F8",
           "ticks": "",
           "title": {
            "standoff": 15
           },
           "zerolinecolor": "#EBF0F8",
           "zerolinewidth": 2
          }
         }
        },
        "xaxis": {
         "anchor": "y",
         "domain": [
          0,
          1
         ],
         "title": {
          "text": "Age_rounded"
         }
        },
        "yaxis": {
         "anchor": "x",
         "domain": [
          0,
          1
         ],
         "title": {
          "text": "Survived"
         }
        }
       }
      }
     },
     "metadata": {},
     "output_type": "display_data"
    }
   ],
   "source": [
    "fig = px.scatter(data_frame=df_plot,\n",
    "                 x='Age_rounded',\n",
    "                 y='Survived',\n",
    "                 size='Passengers',\n",
    "                 color='Pclass',\n",
    "                 color_discrete_sequence=px.colors.qualitative.D3,\n",
    "                 template='plotly_white')\n",
    "fig.show()"
   ]
  },
  {
   "cell_type": "markdown",
   "id": "ce35979f-ce79-4f40-9550-9dceaf9c9191",
   "metadata": {},
   "source": [
    "## Limitations ...\n",
    "\n",
    "What if we want to be able to \"animate\" the age decade of the passengers? [Be careful](https://plotly.com/python/animations/#:~:text=Animations%20are%20designed%20to%20work%20well%20when%20each%20row%20of%20input%20is%20present%20across%20all%20animation%20frames%2C%20and%20when%20categorical%20values%20mapped%20to%20symbol%2C%20color%20and%20facet%20are%20constant%20across%20frames.%20Animations%20may%20be%20misleading%20or%20inconsistent%20if%20these%20constraints%20are%20not%20met.)."
   ]
  },
  {
   "cell_type": "code",
   "execution_count": null,
   "id": "97b6677b-5442-4e3d-bd4a-4f36659b44c1",
   "metadata": {
    "tags": []
   },
   "outputs": [
    {
     "data": {
      "application/vnd.plotly.v1+json": {
       "config": {
        "plotlyServerURL": "https://plot.ly"
       },
       "data": [
        {
         "bingroup": "x",
         "hovertemplate": "Survived=1<br>Age_rounded=0.0<br>Pclass=%{x}<br>count=%{y}<extra></extra>",
         "legendgroup": "1",
         "marker": {
          "color": "#1F77B4",
          "pattern": {
           "shape": ""
          }
         },
         "name": "1",
         "orientation": "v",
         "showlegend": true,
         "type": "histogram",
         "x": {
          "bdata": "AwICAgMCAgMCAQMDAQIDAgMDAgMDAwMDAgIDAgIDAw==",
          "dtype": "i1"
         },
         "xaxis": "x",
         "yaxis": "y"
        },
        {
         "bingroup": "x",
         "hovertemplate": "Survived=0<br>Age_rounded=0.0<br>Pclass=%{x}<br>count=%{y}<extra></extra>",
         "legendgroup": "0",
         "marker": {
          "color": "#FF7F0E",
          "pattern": {
           "shape": ""
          }
         },
         "name": "0",
         "orientation": "v",
         "showlegend": true,
         "type": "histogram",
         "x": {
          "bdata": "AwMDAQMDAwMDAwMDAw==",
          "dtype": "i1"
         },
         "xaxis": "x",
         "yaxis": "y"
        }
       ],
       "frames": [
        {
         "data": [
          {
           "bingroup": "x",
           "hovertemplate": "Survived=1<br>Age_rounded=0.0<br>Pclass=%{x}<br>count=%{y}<extra></extra>",
           "legendgroup": "1",
           "marker": {
            "color": "#1F77B4",
            "pattern": {
             "shape": ""
            }
           },
           "name": "1",
           "orientation": "v",
           "showlegend": true,
           "type": "histogram",
           "x": {
            "bdata": "AwICAgMCAgMCAQMDAQIDAgMDAgMDAwMDAgIDAgIDAw==",
            "dtype": "i1"
           },
           "xaxis": "x",
           "yaxis": "y"
          },
          {
           "bingroup": "x",
           "hovertemplate": "Survived=0<br>Age_rounded=0.0<br>Pclass=%{x}<br>count=%{y}<extra></extra>",
           "legendgroup": "0",
           "marker": {
            "color": "#FF7F0E",
            "pattern": {
             "shape": ""
            }
           },
           "name": "0",
           "orientation": "v",
           "showlegend": true,
           "type": "histogram",
           "x": {
            "bdata": "AwMDAQMDAwMDAwMDAw==",
            "dtype": "i1"
           },
           "xaxis": "x",
           "yaxis": "y"
          }
         ],
         "name": "0.0"
        },
        {
         "data": [
          {
           "bingroup": "x",
           "hovertemplate": "Survived=1<br>Age_rounded=10.0<br>Pclass=%{x}<br>count=%{y}<extra></extra>",
           "legendgroup": "1",
           "marker": {
            "color": "#1F77B4",
            "pattern": {
             "shape": ""
            }
           },
           "name": "1",
           "orientation": "v",
           "showlegend": true,
           "type": "histogram",
           "x": {
            "bdata": "AgICAwEDAgEDAwIDAwI=",
            "dtype": "i1"
           },
           "xaxis": "x",
           "yaxis": "y"
          },
          {
           "bingroup": "x",
           "hovertemplate": "Survived=0<br>Age_rounded=10.0<br>Pclass=%{x}<br>count=%{y}<extra></extra>",
           "legendgroup": "0",
           "marker": {
            "color": "#FF7F0E",
            "pattern": {
             "shape": ""
            }
           },
           "name": "0",
           "orientation": "v",
           "showlegend": true,
           "type": "histogram",
           "x": {
            "bdata": "AwMDAwMDAwMDAwMDAwMDAwMDAwM=",
            "dtype": "i1"
           },
           "xaxis": "x",
           "yaxis": "y"
          }
         ],
         "name": "10.0"
        },
        {
         "data": [
          {
           "bingroup": "x",
           "hovertemplate": "Survived=1<br>Age_rounded=20.0<br>Pclass=%{x}<br>count=%{y}<extra></extra>",
           "legendgroup": "1",
           "marker": {
            "color": "#1F77B4",
            "pattern": {
             "shape": ""
            }
           },
           "name": "1",
           "orientation": "v",
           "showlegend": true,
           "type": "histogram",
           "x": {
            "bdata": "AwEBAwEDAwEDAwMBAwMBAQMBAQEDAwMDAQMDAQMDAwIBAwICAgEBAQMDAQECAgICAQMDAQMDAQIDAQICAQEBAgIBAQIDAgECAgIDAwEDAg==",
            "dtype": "i1"
           },
           "xaxis": "x",
           "yaxis": "y"
          },
          {
           "bingroup": "x",
           "hovertemplate": "Survived=0<br>Age_rounded=20.0<br>Pclass=%{x}<br>count=%{y}<extra></extra>",
           "legendgroup": "0",
           "marker": {
            "color": "#FF7F0E",
            "pattern": {
             "shape": ""
            }
           },
           "name": "0",
           "orientation": "v",
           "showlegend": true,
           "type": "histogram",
           "x": {
            "bdata": "AwMBAwMCAwICAwMBAwIDAQMCAgMDAwMDAgIDAwICAwMDAwMDAwMCAwECAQMDAwMDAwICAwMCAwMDAwMCAgIDAwICAgMDAwMDAwEDAwMCAwMDAwMDAwMDAwMCAwMDAwMDAQMDAwEDAwMDAwMCAwMDAwMDAwMDAwMDAwMCAwMDAgMDAwMDAwIDAwMDAwMDAwMD",
            "dtype": "i1"
           },
           "xaxis": "x",
           "yaxis": "y"
          }
         ],
         "name": "20.0"
        },
        {
         "data": [
          {
           "bingroup": "x",
           "hovertemplate": "Survived=1<br>Age_rounded=30.0<br>Pclass=%{x}<br>count=%{y}<extra></extra>",
           "legendgroup": "1",
           "marker": {
            "color": "#1F77B4",
            "pattern": {
             "shape": ""
            }
           },
           "name": "1",
           "orientation": "v",
           "showlegend": true,
           "type": "histogram",
           "x": {
            "bdata": "AwICAQMDAgMCAwECAgIBAQMCAwIDAQIBAgEDAgEDAwMDAgEDAQEDAgECAQIDAwICAgEBAwEDAQMBAgMCAwMDAgEDAQIBAgIB",
            "dtype": "i1"
           },
           "xaxis": "x",
           "yaxis": "y"
          },
          {
           "bingroup": "x",
           "hovertemplate": "Survived=0<br>Age_rounded=30.0<br>Pclass=%{x}<br>count=%{y}<extra></extra>",
           "legendgroup": "0",
           "marker": {
            "color": "#FF7F0E",
            "pattern": {
             "shape": ""
            }
           },
           "name": "0",
           "orientation": "v",
           "showlegend": true,
           "type": "histogram",
           "x": {
            "bdata": "AwMBAwMDAgMDAwIDAwMDAwMCAgMDAgMBAwEDAgMCAwIDAQMCAwMDAgICAwMDAwMDAwICAgMBAwMDAgMDAwMCAgECAwMCAwMCAwIDAwMDAwIDAwICAwMDAwMDAwIDAwMDAQMDAgEDAgIBAg==",
            "dtype": "i1"
           },
           "xaxis": "x",
           "yaxis": "y"
          }
         ],
         "name": "30.0"
        },
        {
         "data": [
          {
           "bingroup": "x",
           "hovertemplate": "Survived=1<br>Age_rounded=40.0<br>Pclass=%{x}<br>count=%{y}<extra></extra>",
           "legendgroup": "1",
           "marker": {
            "color": "#1F77B4",
            "pattern": {
             "shape": ""
            }
           },
           "name": "1",
           "orientation": "v",
           "showlegend": true,
           "type": "histogram",
           "x": {
            "bdata": "AQMBAgEDAgEBAQEBAQEBAQMBAQEBAgMBAgECAQIBAQEBAQIBAQIBAQIBAwICAwEBAQECAQEBAgE=",
            "dtype": "i1"
           },
           "xaxis": "x",
           "yaxis": "y"
          },
          {
           "bingroup": "x",
           "hovertemplate": "Survived=0<br>Age_rounded=40.0<br>Pclass=%{x}<br>count=%{y}<extra></extra>",
           "legendgroup": "0",
           "marker": {
            "color": "#FF7F0E",
            "pattern": {
             "shape": ""
            }
           },
           "name": "0",
           "orientation": "v",
           "showlegend": true,
           "type": "histogram",
           "x": {
            "bdata": "AwEBAwMDAwIDAwMDAwIDAwIDAwEDAQMBAgMDAwECAQMDAQMCAwMDAwMDAwMCAgMBAQIDAgMDAwMDAgIBAQMDAQEDAwICAgMDAgMCAw==",
            "dtype": "i1"
           },
           "xaxis": "x",
           "yaxis": "y"
          }
         ],
         "name": "40.0"
        },
        {
         "data": [
          {
           "bingroup": "x",
           "hovertemplate": "Survived=1<br>Age_rounded=50.0<br>Pclass=%{x}<br>count=%{y}<extra></extra>",
           "legendgroup": "1",
           "marker": {
            "color": "#1F77B4",
            "pattern": {
             "shape": ""
            }
           },
           "name": "1",
           "orientation": "v",
           "showlegend": true,
           "type": "histogram",
           "x": {
            "bdata": "AQECAgEBAQEBAgEBAQEBAQEBAgEBAQIBAQ==",
            "dtype": "i1"
           },
           "xaxis": "x",
           "yaxis": "y"
          },
          {
           "bingroup": "x",
           "hovertemplate": "Survived=0<br>Age_rounded=50.0<br>Pclass=%{x}<br>count=%{y}<extra></extra>",
           "legendgroup": "0",
           "marker": {
            "color": "#FF7F0E",
            "pattern": {
             "shape": ""
            }
           },
           "name": "0",
           "orientation": "v",
           "showlegend": true,
           "type": "histogram",
           "x": {
            "bdata": "AQICAwMCAQMBAwEBAgEDAgIBAwMDAQECAQECAgMBAwMBAQIB",
            "dtype": "i1"
           },
           "xaxis": "x",
           "yaxis": "y"
          }
         ],
         "name": "50.0"
        },
        {
         "data": [
          {
           "bingroup": "x",
           "hovertemplate": "Survived=1<br>Age_rounded=60.0<br>Pclass=%{x}<br>count=%{y}<extra></extra>",
           "legendgroup": "1",
           "marker": {
            "color": "#1F77B4",
            "pattern": {
             "shape": ""
            }
           },
           "name": "1",
           "orientation": "v",
           "showlegend": true,
           "type": "histogram",
           "x": {
            "bdata": "AQEDAQEBAQICAQEB",
            "dtype": "i1"
           },
           "xaxis": "x",
           "yaxis": "y"
          },
          {
           "bingroup": "x",
           "hovertemplate": "Survived=0<br>Age_rounded=60.0<br>Pclass=%{x}<br>count=%{y}<extra></extra>",
           "legendgroup": "0",
           "marker": {
            "color": "#FF7F0E",
            "pattern": {
             "shape": ""
            }
           },
           "name": "0",
           "orientation": "v",
           "showlegend": true,
           "type": "histogram",
           "x": {
            "bdata": "AQEBAwIBAgECAwEBAQIBAwEBAQEDAQ==",
            "dtype": "i1"
           },
           "xaxis": "x",
           "yaxis": "y"
          }
         ],
         "name": "60.0"
        },
        {
         "data": [
          {
           "bingroup": "x",
           "hovertemplate": "Survived=0<br>Age_rounded=70.0<br>Pclass=%{x}<br>count=%{y}<extra></extra>",
           "legendgroup": "0",
           "marker": {
            "color": "#FF7F0E",
            "pattern": {
             "shape": ""
            }
           },
           "name": "0",
           "orientation": "v",
           "showlegend": true,
           "type": "histogram",
           "x": {
            "bdata": "AwEBAgIBAw==",
            "dtype": "i1"
           },
           "xaxis": "x",
           "yaxis": "y"
          }
         ],
         "name": "70.0"
        },
        {
         "data": [
          {
           "bingroup": "x",
           "hovertemplate": "Survived=1<br>Age_rounded=80.0<br>Pclass=%{x}<br>count=%{y}<extra></extra>",
           "legendgroup": "1",
           "marker": {
            "color": "#1F77B4",
            "pattern": {
             "shape": ""
            }
           },
           "name": "1",
           "orientation": "v",
           "showlegend": true,
           "type": "histogram",
           "x": {
            "bdata": "AQ==",
            "dtype": "i1"
           },
           "xaxis": "x",
           "yaxis": "y"
          }
         ],
         "name": "80.0"
        }
       ],
       "layout": {
        "bargap": 0.1,
        "barmode": "relative",
        "legend": {
         "title": {
          "text": "Survived"
         },
         "tracegroupgap": 0
        },
        "margin": {
         "t": 60
        },
        "sliders": [
         {
          "active": 0,
          "currentvalue": {
           "prefix": "Age_rounded="
          },
          "len": 0.9,
          "pad": {
           "b": 10,
           "t": 60
          },
          "steps": [
           {
            "args": [
             [
              "0.0"
             ],
             {
              "frame": {
               "duration": 0,
               "redraw": true
              },
              "fromcurrent": true,
              "mode": "immediate",
              "transition": {
               "duration": 0,
               "easing": "linear"
              }
             }
            ],
            "label": "0.0",
            "method": "animate"
           },
           {
            "args": [
             [
              "10.0"
             ],
             {
              "frame": {
               "duration": 0,
               "redraw": true
              },
              "fromcurrent": true,
              "mode": "immediate",
              "transition": {
               "duration": 0,
               "easing": "linear"
              }
             }
            ],
            "label": "10.0",
            "method": "animate"
           },
           {
            "args": [
             [
              "20.0"
             ],
             {
              "frame": {
               "duration": 0,
               "redraw": true
              },
              "fromcurrent": true,
              "mode": "immediate",
              "transition": {
               "duration": 0,
               "easing": "linear"
              }
             }
            ],
            "label": "20.0",
            "method": "animate"
           },
           {
            "args": [
             [
              "30.0"
             ],
             {
              "frame": {
               "duration": 0,
               "redraw": true
              },
              "fromcurrent": true,
              "mode": "immediate",
              "transition": {
               "duration": 0,
               "easing": "linear"
              }
             }
            ],
            "label": "30.0",
            "method": "animate"
           },
           {
            "args": [
             [
              "40.0"
             ],
             {
              "frame": {
               "duration": 0,
               "redraw": true
              },
              "fromcurrent": true,
              "mode": "immediate",
              "transition": {
               "duration": 0,
               "easing": "linear"
              }
             }
            ],
            "label": "40.0",
            "method": "animate"
           },
           {
            "args": [
             [
              "50.0"
             ],
             {
              "frame": {
               "duration": 0,
               "redraw": true
              },
              "fromcurrent": true,
              "mode": "immediate",
              "transition": {
               "duration": 0,
               "easing": "linear"
              }
             }
            ],
            "label": "50.0",
            "method": "animate"
           },
           {
            "args": [
             [
              "60.0"
             ],
             {
              "frame": {
               "duration": 0,
               "redraw": true
              },
              "fromcurrent": true,
              "mode": "immediate",
              "transition": {
               "duration": 0,
               "easing": "linear"
              }
             }
            ],
            "label": "60.0",
            "method": "animate"
           },
           {
            "args": [
             [
              "70.0"
             ],
             {
              "frame": {
               "duration": 0,
               "redraw": true
              },
              "fromcurrent": true,
              "mode": "immediate",
              "transition": {
               "duration": 0,
               "easing": "linear"
              }
             }
            ],
            "label": "70.0",
            "method": "animate"
           },
           {
            "args": [
             [
              "80.0"
             ],
             {
              "frame": {
               "duration": 0,
               "redraw": true
              },
              "fromcurrent": true,
              "mode": "immediate",
              "transition": {
               "duration": 0,
               "easing": "linear"
              }
             }
            ],
            "label": "80.0",
            "method": "animate"
           }
          ],
          "x": 0.1,
          "xanchor": "left",
          "y": 0,
          "yanchor": "top"
         }
        ],
        "template": {
         "data": {
          "bar": [
           {
            "error_x": {
             "color": "#2a3f5f"
            },
            "error_y": {
             "color": "#2a3f5f"
            },
            "marker": {
             "line": {
              "color": "white",
              "width": 0.5
             },
             "pattern": {
              "fillmode": "overlay",
              "size": 10,
              "solidity": 0.2
             }
            },
            "type": "bar"
           }
          ],
          "barpolar": [
           {
            "marker": {
             "line": {
              "color": "white",
              "width": 0.5
             },
             "pattern": {
              "fillmode": "overlay",
              "size": 10,
              "solidity": 0.2
             }
            },
            "type": "barpolar"
           }
          ],
          "carpet": [
           {
            "aaxis": {
             "endlinecolor": "#2a3f5f",
             "gridcolor": "#C8D4E3",
             "linecolor": "#C8D4E3",
             "minorgridcolor": "#C8D4E3",
             "startlinecolor": "#2a3f5f"
            },
            "baxis": {
             "endlinecolor": "#2a3f5f",
             "gridcolor": "#C8D4E3",
             "linecolor": "#C8D4E3",
             "minorgridcolor": "#C8D4E3",
             "startlinecolor": "#2a3f5f"
            },
            "type": "carpet"
           }
          ],
          "choropleth": [
           {
            "colorbar": {
             "outlinewidth": 0,
             "ticks": ""
            },
            "type": "choropleth"
           }
          ],
          "contour": [
           {
            "colorbar": {
             "outlinewidth": 0,
             "ticks": ""
            },
            "colorscale": [
             [
              0,
              "#0d0887"
             ],
             [
              0.1111111111111111,
              "#46039f"
             ],
             [
              0.2222222222222222,
              "#7201a8"
             ],
             [
              0.3333333333333333,
              "#9c179e"
             ],
             [
              0.4444444444444444,
              "#bd3786"
             ],
             [
              0.5555555555555556,
              "#d8576b"
             ],
             [
              0.6666666666666666,
              "#ed7953"
             ],
             [
              0.7777777777777778,
              "#fb9f3a"
             ],
             [
              0.8888888888888888,
              "#fdca26"
             ],
             [
              1,
              "#f0f921"
             ]
            ],
            "type": "contour"
           }
          ],
          "contourcarpet": [
           {
            "colorbar": {
             "outlinewidth": 0,
             "ticks": ""
            },
            "type": "contourcarpet"
           }
          ],
          "heatmap": [
           {
            "colorbar": {
             "outlinewidth": 0,
             "ticks": ""
            },
            "colorscale": [
             [
              0,
              "#0d0887"
             ],
             [
              0.1111111111111111,
              "#46039f"
             ],
             [
              0.2222222222222222,
              "#7201a8"
             ],
             [
              0.3333333333333333,
              "#9c179e"
             ],
             [
              0.4444444444444444,
              "#bd3786"
             ],
             [
              0.5555555555555556,
              "#d8576b"
             ],
             [
              0.6666666666666666,
              "#ed7953"
             ],
             [
              0.7777777777777778,
              "#fb9f3a"
             ],
             [
              0.8888888888888888,
              "#fdca26"
             ],
             [
              1,
              "#f0f921"
             ]
            ],
            "type": "heatmap"
           }
          ],
          "histogram": [
           {
            "marker": {
             "pattern": {
              "fillmode": "overlay",
              "size": 10,
              "solidity": 0.2
             }
            },
            "type": "histogram"
           }
          ],
          "histogram2d": [
           {
            "colorbar": {
             "outlinewidth": 0,
             "ticks": ""
            },
            "colorscale": [
             [
              0,
              "#0d0887"
             ],
             [
              0.1111111111111111,
              "#46039f"
             ],
             [
              0.2222222222222222,
              "#7201a8"
             ],
             [
              0.3333333333333333,
              "#9c179e"
             ],
             [
              0.4444444444444444,
              "#bd3786"
             ],
             [
              0.5555555555555556,
              "#d8576b"
             ],
             [
              0.6666666666666666,
              "#ed7953"
             ],
             [
              0.7777777777777778,
              "#fb9f3a"
             ],
             [
              0.8888888888888888,
              "#fdca26"
             ],
             [
              1,
              "#f0f921"
             ]
            ],
            "type": "histogram2d"
           }
          ],
          "histogram2dcontour": [
           {
            "colorbar": {
             "outlinewidth": 0,
             "ticks": ""
            },
            "colorscale": [
             [
              0,
              "#0d0887"
             ],
             [
              0.1111111111111111,
              "#46039f"
             ],
             [
              0.2222222222222222,
              "#7201a8"
             ],
             [
              0.3333333333333333,
              "#9c179e"
             ],
             [
              0.4444444444444444,
              "#bd3786"
             ],
             [
              0.5555555555555556,
              "#d8576b"
             ],
             [
              0.6666666666666666,
              "#ed7953"
             ],
             [
              0.7777777777777778,
              "#fb9f3a"
             ],
             [
              0.8888888888888888,
              "#fdca26"
             ],
             [
              1,
              "#f0f921"
             ]
            ],
            "type": "histogram2dcontour"
           }
          ],
          "mesh3d": [
           {
            "colorbar": {
             "outlinewidth": 0,
             "ticks": ""
            },
            "type": "mesh3d"
           }
          ],
          "parcoords": [
           {
            "line": {
             "colorbar": {
              "outlinewidth": 0,
              "ticks": ""
             }
            },
            "type": "parcoords"
           }
          ],
          "pie": [
           {
            "automargin": true,
            "type": "pie"
           }
          ],
          "scatter": [
           {
            "fillpattern": {
             "fillmode": "overlay",
             "size": 10,
             "solidity": 0.2
            },
            "type": "scatter"
           }
          ],
          "scatter3d": [
           {
            "line": {
             "colorbar": {
              "outlinewidth": 0,
              "ticks": ""
             }
            },
            "marker": {
             "colorbar": {
              "outlinewidth": 0,
              "ticks": ""
             }
            },
            "type": "scatter3d"
           }
          ],
          "scattercarpet": [
           {
            "marker": {
             "colorbar": {
              "outlinewidth": 0,
              "ticks": ""
             }
            },
            "type": "scattercarpet"
           }
          ],
          "scattergeo": [
           {
            "marker": {
             "colorbar": {
              "outlinewidth": 0,
              "ticks": ""
             }
            },
            "type": "scattergeo"
           }
          ],
          "scattergl": [
           {
            "marker": {
             "colorbar": {
              "outlinewidth": 0,
              "ticks": ""
             }
            },
            "type": "scattergl"
           }
          ],
          "scattermap": [
           {
            "marker": {
             "colorbar": {
              "outlinewidth": 0,
              "ticks": ""
             }
            },
            "type": "scattermap"
           }
          ],
          "scattermapbox": [
           {
            "marker": {
             "colorbar": {
              "outlinewidth": 0,
              "ticks": ""
             }
            },
            "type": "scattermapbox"
           }
          ],
          "scatterpolar": [
           {
            "marker": {
             "colorbar": {
              "outlinewidth": 0,
              "ticks": ""
             }
            },
            "type": "scatterpolar"
           }
          ],
          "scatterpolargl": [
           {
            "marker": {
             "colorbar": {
              "outlinewidth": 0,
              "ticks": ""
             }
            },
            "type": "scatterpolargl"
           }
          ],
          "scatterternary": [
           {
            "marker": {
             "colorbar": {
              "outlinewidth": 0,
              "ticks": ""
             }
            },
            "type": "scatterternary"
           }
          ],
          "surface": [
           {
            "colorbar": {
             "outlinewidth": 0,
             "ticks": ""
            },
            "colorscale": [
             [
              0,
              "#0d0887"
             ],
             [
              0.1111111111111111,
              "#46039f"
             ],
             [
              0.2222222222222222,
              "#7201a8"
             ],
             [
              0.3333333333333333,
              "#9c179e"
             ],
             [
              0.4444444444444444,
              "#bd3786"
             ],
             [
              0.5555555555555556,
              "#d8576b"
             ],
             [
              0.6666666666666666,
              "#ed7953"
             ],
             [
              0.7777777777777778,
              "#fb9f3a"
             ],
             [
              0.8888888888888888,
              "#fdca26"
             ],
             [
              1,
              "#f0f921"
             ]
            ],
            "type": "surface"
           }
          ],
          "table": [
           {
            "cells": {
             "fill": {
              "color": "#EBF0F8"
             },
             "line": {
              "color": "white"
             }
            },
            "header": {
             "fill": {
              "color": "#C8D4E3"
             },
             "line": {
              "color": "white"
             }
            },
            "type": "table"
           }
          ]
         },
         "layout": {
          "annotationdefaults": {
           "arrowcolor": "#2a3f5f",
           "arrowhead": 0,
           "arrowwidth": 1
          },
          "autotypenumbers": "strict",
          "coloraxis": {
           "colorbar": {
            "outlinewidth": 0,
            "ticks": ""
           }
          },
          "colorscale": {
           "diverging": [
            [
             0,
             "#8e0152"
            ],
            [
             0.1,
             "#c51b7d"
            ],
            [
             0.2,
             "#de77ae"
            ],
            [
             0.3,
             "#f1b6da"
            ],
            [
             0.4,
             "#fde0ef"
            ],
            [
             0.5,
             "#f7f7f7"
            ],
            [
             0.6,
             "#e6f5d0"
            ],
            [
             0.7,
             "#b8e186"
            ],
            [
             0.8,
             "#7fbc41"
            ],
            [
             0.9,
             "#4d9221"
            ],
            [
             1,
             "#276419"
            ]
           ],
           "sequential": [
            [
             0,
             "#0d0887"
            ],
            [
             0.1111111111111111,
             "#46039f"
            ],
            [
             0.2222222222222222,
             "#7201a8"
            ],
            [
             0.3333333333333333,
             "#9c179e"
            ],
            [
             0.4444444444444444,
             "#bd3786"
            ],
            [
             0.5555555555555556,
             "#d8576b"
            ],
            [
             0.6666666666666666,
             "#ed7953"
            ],
            [
             0.7777777777777778,
             "#fb9f3a"
            ],
            [
             0.8888888888888888,
             "#fdca26"
            ],
            [
             1,
             "#f0f921"
            ]
           ],
           "sequentialminus": [
            [
             0,
             "#0d0887"
            ],
            [
             0.1111111111111111,
             "#46039f"
            ],
            [
             0.2222222222222222,
             "#7201a8"
            ],
            [
             0.3333333333333333,
             "#9c179e"
            ],
            [
             0.4444444444444444,
             "#bd3786"
            ],
            [
             0.5555555555555556,
             "#d8576b"
            ],
            [
             0.6666666666666666,
             "#ed7953"
            ],
            [
             0.7777777777777778,
             "#fb9f3a"
            ],
            [
             0.8888888888888888,
             "#fdca26"
            ],
            [
             1,
             "#f0f921"
            ]
           ]
          },
          "colorway": [
           "#636efa",
           "#EF553B",
           "#00cc96",
           "#ab63fa",
           "#FFA15A",
           "#19d3f3",
           "#FF6692",
           "#B6E880",
           "#FF97FF",
           "#FECB52"
          ],
          "font": {
           "color": "#2a3f5f"
          },
          "geo": {
           "bgcolor": "white",
           "lakecolor": "white",
           "landcolor": "white",
           "showlakes": true,
           "showland": true,
           "subunitcolor": "#C8D4E3"
          },
          "hoverlabel": {
           "align": "left"
          },
          "hovermode": "closest",
          "mapbox": {
           "style": "light"
          },
          "paper_bgcolor": "white",
          "plot_bgcolor": "white",
          "polar": {
           "angularaxis": {
            "gridcolor": "#EBF0F8",
            "linecolor": "#EBF0F8",
            "ticks": ""
           },
           "bgcolor": "white",
           "radialaxis": {
            "gridcolor": "#EBF0F8",
            "linecolor": "#EBF0F8",
            "ticks": ""
           }
          },
          "scene": {
           "xaxis": {
            "backgroundcolor": "white",
            "gridcolor": "#DFE8F3",
            "gridwidth": 2,
            "linecolor": "#EBF0F8",
            "showbackground": true,
            "ticks": "",
            "zerolinecolor": "#EBF0F8"
           },
           "yaxis": {
            "backgroundcolor": "white",
            "gridcolor": "#DFE8F3",
            "gridwidth": 2,
            "linecolor": "#EBF0F8",
            "showbackground": true,
            "ticks": "",
            "zerolinecolor": "#EBF0F8"
           },
           "zaxis": {
            "backgroundcolor": "white",
            "gridcolor": "#DFE8F3",
            "gridwidth": 2,
            "linecolor": "#EBF0F8",
            "showbackground": true,
            "ticks": "",
            "zerolinecolor": "#EBF0F8"
           }
          },
          "shapedefaults": {
           "line": {
            "color": "#2a3f5f"
           }
          },
          "ternary": {
           "aaxis": {
            "gridcolor": "#DFE8F3",
            "linecolor": "#A2B1C6",
            "ticks": ""
           },
           "baxis": {
            "gridcolor": "#DFE8F3",
            "linecolor": "#A2B1C6",
            "ticks": ""
           },
           "bgcolor": "white",
           "caxis": {
            "gridcolor": "#DFE8F3",
            "linecolor": "#A2B1C6",
            "ticks": ""
           }
          },
          "title": {
           "x": 0.05
          },
          "xaxis": {
           "automargin": true,
           "gridcolor": "#EBF0F8",
           "linecolor": "#EBF0F8",
           "ticks": "",
           "title": {
            "standoff": 15
           },
           "zerolinecolor": "#EBF0F8",
           "zerolinewidth": 2
          },
          "yaxis": {
           "automargin": true,
           "gridcolor": "#EBF0F8",
           "linecolor": "#EBF0F8",
           "ticks": "",
           "title": {
            "standoff": 15
           },
           "zerolinecolor": "#EBF0F8",
           "zerolinewidth": 2
          }
         }
        },
        "xaxis": {
         "anchor": "y",
         "domain": [
          0,
          1
         ],
         "tickmode": "array",
         "ticktext": [
          "First",
          "Second",
          "Third"
         ],
         "tickvals": [
          1,
          2,
          3
         ],
         "title": {
          "text": "Pclass"
         }
        },
        "yaxis": {
         "anchor": "x",
         "domain": [
          0,
          1
         ],
         "title": {
          "text": "count"
         }
        }
       }
      }
     },
     "metadata": {},
     "output_type": "display_data"
    }
   ],
   "source": [
    "fig = px.histogram(df.sort_values('Age_rounded'), \n",
    "                   x='Pclass',\n",
    "                   color='Survived',\n",
    "                   template='plotly_white',\n",
    "                   animation_frame=\"Age_rounded\",  # value to \"animate\"\n",
    "                   # animation_group=\"PassengerId\",  # uncomment this ...\n",
    "                   color_discrete_sequence=px.colors.qualitative.D3)\n",
    "\n",
    "fig.update_layout(\n",
    "    xaxis_tickmode = 'array',\n",
    "    xaxis_tickvals = [1, 2, 3],\n",
    "    xaxis_ticktext = ['First', 'Second', 'Third'],\n",
    "    bargap=0.1, # gap between bars of adjacent location coordinates\n",
    ")\n",
    "\n",
    "fig[\"layout\"].pop(\"updatemenus\") # drop animation buttons\n",
    "fig.show()"
   ]
  },
  {
   "cell_type": "markdown",
   "id": "f6c2ca23-b360-4271-8930-f33c350573c6",
   "metadata": {},
   "source": [
    "For example:\n",
    "1. Drag the (above) selector to `20.0`.\n",
    "2. Compare the (below) `groupby` operation to the visualization.\n",
    "3. Try clicking on the color filters, and note the changes."
   ]
  },
  {
   "cell_type": "code",
   "execution_count": 17,
   "id": "1bf5ed3a-7725-46d4-8aa6-39c9014f789b",
   "metadata": {},
   "outputs": [
    {
     "data": {
      "text/html": [
       "<div>\n",
       "<style scoped>\n",
       "    .dataframe tbody tr th:only-of-type {\n",
       "        vertical-align: middle;\n",
       "    }\n",
       "\n",
       "    .dataframe tbody tr th {\n",
       "        vertical-align: top;\n",
       "    }\n",
       "\n",
       "    .dataframe thead th {\n",
       "        text-align: right;\n",
       "    }\n",
       "</style>\n",
       "<table border=\"1\" class=\"dataframe\">\n",
       "  <thead>\n",
       "    <tr style=\"text-align: right;\">\n",
       "      <th></th>\n",
       "      <th>Pclass</th>\n",
       "      <th>Survived</th>\n",
       "      <th>PassengerId</th>\n",
       "    </tr>\n",
       "  </thead>\n",
       "  <tbody>\n",
       "    <tr>\n",
       "      <th>0</th>\n",
       "      <td>1</td>\n",
       "      <td>0</td>\n",
       "      <td>8</td>\n",
       "    </tr>\n",
       "    <tr>\n",
       "      <th>1</th>\n",
       "      <td>1</td>\n",
       "      <td>1</td>\n",
       "      <td>29</td>\n",
       "    </tr>\n",
       "    <tr>\n",
       "      <th>2</th>\n",
       "      <td>2</td>\n",
       "      <td>0</td>\n",
       "      <td>27</td>\n",
       "    </tr>\n",
       "    <tr>\n",
       "      <th>3</th>\n",
       "      <td>2</td>\n",
       "      <td>1</td>\n",
       "      <td>19</td>\n",
       "    </tr>\n",
       "    <tr>\n",
       "      <th>4</th>\n",
       "      <td>3</td>\n",
       "      <td>0</td>\n",
       "      <td>109</td>\n",
       "    </tr>\n",
       "    <tr>\n",
       "      <th>5</th>\n",
       "      <td>3</td>\n",
       "      <td>1</td>\n",
       "      <td>31</td>\n",
       "    </tr>\n",
       "  </tbody>\n",
       "</table>\n",
       "</div>"
      ],
      "text/plain": [
       "   Pclass  Survived  PassengerId\n",
       "0       1         0            8\n",
       "1       1         1           29\n",
       "2       2         0           27\n",
       "3       2         1           19\n",
       "4       3         0          109\n",
       "5       3         1           31"
      ]
     },
     "execution_count": 17,
     "metadata": {},
     "output_type": "execute_result"
    }
   ],
   "source": [
    "df[df['Age_rounded'] == 20].groupby(['Pclass', 'Survived'])['PassengerId'] \\\n",
    "                          .count().reset_index()"
   ]
  },
  {
   "cell_type": "markdown",
   "id": "34231004-e2d5-4292-b434-244867166448",
   "metadata": {},
   "source": [
    "**(In class, if there's time) Can we improve on this?**"
   ]
  },
  {
   "cell_type": "code",
   "execution_count": 14,
   "id": "932395e8-e6a9-4d91-84a2-104b7d3a7c7c",
   "metadata": {
    "tags": []
   },
   "outputs": [],
   "source": [
    "# fig = px.histogram(df.sort_values('Age_rounded'), \n",
    "#                    x='Pclass',\n",
    "#                    facet_row='Survived',\n",
    "#                    color='Age_rounded',\n",
    "#                    template='plotly_white',\n",
    "#                    color_discrete_sequence=px.colors.sequential.Blues)\n",
    "\n",
    "# fig.update_layout(\n",
    "#     xaxis_tickmode = 'array',\n",
    "#     xaxis_tickvals = [1, 2, 3],\n",
    "#     xaxis_ticktext = ['First', 'Second', 'Third'],\n",
    "#     bargap=0.1, # gap between bars of adjacent location coordinates\n",
    "# )\n",
    "\n",
    "# fig[\"layout\"].pop(\"updatemenus\") # drop animation buttons\n",
    "# fig.show()"
   ]
  },
  {
   "cell_type": "markdown",
   "id": "08d8d2c3",
   "metadata": {},
   "source": [
    "# Explore\n",
    "\n",
    "Test your understanding of this week's content with the following explorations.\n",
    "\n",
    "*Note: unless otherwise noted, **explorations are completely optional and will not be reviewed.***"
   ]
  },
  {
   "cell_type": "markdown",
   "id": "2d2419b3-2b1b-43ab-8c47-32c9dcc3ab69",
   "metadata": {
    "tags": []
   },
   "source": [
    "## exploration 1\n",
    "\n",
    "Take a look at the `Cabin` column of the data, and investigate how it relates to at least one other column. Consider the context of the Titanic ship wreck. Try to formulate a question around this column, and visualize it using Plotly. **Build at least 2 different plots** of the same data.\n",
    "\n",
    "Feel free to use the [gallery](https://plotly.com/python/) as a resource."
   ]
  },
  {
   "cell_type": "code",
   "execution_count": null,
   "id": "177c1c5c-8992-4719-ac21-5f21f0e13902",
   "metadata": {},
   "outputs": [],
   "source": []
  },
  {
   "cell_type": "markdown",
   "id": "d5db71ab-b228-449d-9a64-f824678bd552",
   "metadata": {},
   "source": [
    "## exploration 2\n",
    "\n",
    "Consider the Bubble Plot, above. Try to figure out what it might be trying to communicate.\n",
    "\n",
    "1. Point out at least three issues with this visualization.\n",
    "2. Build at least two visualizations in Plotly that communicate a similar message, but which do it far better."
   ]
  },
  {
   "cell_type": "code",
   "execution_count": null,
   "id": "c648e8a3-47f8-4282-8bba-2ebf2078f705",
   "metadata": {},
   "outputs": [],
   "source": []
  }
 ],
 "metadata": {
  "kernelspec": {
   "display_name": "week-5",
   "language": "python",
   "name": "python3"
  },
  "language_info": {
   "codemirror_mode": {
    "name": "ipython",
    "version": 3
   },
   "file_extension": ".py",
   "mimetype": "text/x-python",
   "name": "python",
   "nbconvert_exporter": "python",
   "pygments_lexer": "ipython3",
   "version": "3.11.13"
  }
 },
 "nbformat": 4,
 "nbformat_minor": 5
}
